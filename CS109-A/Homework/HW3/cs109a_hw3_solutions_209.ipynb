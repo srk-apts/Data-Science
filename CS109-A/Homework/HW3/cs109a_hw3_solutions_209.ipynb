{
 "cells": [
  {
   "cell_type": "markdown",
   "metadata": {},
   "source": [
    "# <img style=\"float: left; padding-right: 10px; width: 45px\" src=\"https://raw.githubusercontent.com/Harvard-IACS/2018-CS109A/master/content/styles/iacs.png\"> CS109A Introduction to Data Science: \n",
    "\n",
    "## Homework 3  AC 209 : From MLE to AIC\n",
    "\n",
    "\n",
    "**Harvard University**<br/>\n",
    "**Fall 2018**<br/>\n",
    "**Instructors**: Pavlos Protopapas, Kevin Rader\n",
    "\n",
    "<hr style=\"height:2pt\">\n"
   ]
  },
  {
   "cell_type": "code",
   "execution_count": 1,
   "metadata": {},
   "outputs": [
    {
     "data": {
      "text/html": [
       "<style>\n",
       "h1 { \n",
       "    padding-top: 25px;\n",
       "    padding-bottom: 25px;\n",
       "    text-align: left; \n",
       "    padding-left: 10px;\n",
       "    background-color: #DDDDDD; \n",
       "    color: black;\n",
       "}\n",
       "h2 { \n",
       "    padding-top: 10px;\n",
       "    padding-bottom: 10px;\n",
       "    text-align: left; \n",
       "    padding-left: 5px;\n",
       "    background-color: #EEEEEE; \n",
       "    color: black;\n",
       "}\n",
       "\n",
       "div.exercise {\n",
       "\tbackground-color: #ffcccc;\n",
       "\tborder-color: #E9967A; \t\n",
       "\tborder-left: 5px solid #800080; \n",
       "\tpadding: 0.5em;\n",
       "}\n",
       "div.theme {\n",
       "\tbackground-color: #DDDDDD;\n",
       "\tborder-color: #E9967A; \t\n",
       "\tborder-left: 5px solid #800080; \n",
       "\tpadding: 0.5em;\n",
       "\tfont-size: 18pt;\n",
       "}\n",
       "p.q1 { \n",
       "    padding-top: 5px;\n",
       "    padding-bottom: 5px;\n",
       "    text-align: left; \n",
       "    padding-left: 5px;\n",
       "    background-color: #EEEEEE; \n",
       "    color: black;\n",
       "}\n",
       "header {\n",
       "   padding-top: 35px;\n",
       "    padding-bottom: 35px;\n",
       "    text-align: left; \n",
       "    padding-left: 10px;\n",
       "    background-color: #DDDDDD; \n",
       "    color: black;\n",
       "}\n",
       "</style>\n",
       "\n"
      ],
      "text/plain": [
       "<IPython.core.display.HTML object>"
      ]
     },
     "execution_count": 1,
     "metadata": {},
     "output_type": "execute_result"
    }
   ],
   "source": [
    "#RUN THIS CELL \n",
    "import requests\n",
    "from IPython.core.display import HTML\n",
    "styles = requests.get(\"https://raw.githubusercontent.com/Harvard-IACS/2018-CS109A/master/content/styles/cs109.css\").text\n",
    "HTML(styles)"
   ]
  },
  {
   "cell_type": "code",
   "execution_count": 2,
   "metadata": {},
   "outputs": [
    {
     "name": "stderr",
     "output_type": "stream",
     "text": [
      "/home/marios/anaconda3/lib/python3.6/site-packages/statsmodels/compat/pandas.py:56: FutureWarning: The pandas.core.datetools module is deprecated and will be removed in a future version. Please use the pandas.tseries module instead.\n",
      "  from pandas.core import datetools\n"
     ]
    }
   ],
   "source": [
    "import numpy as np\n",
    "import pandas as pd\n",
    "import matplotlib.pyplot as plt\n",
    "import seaborn as sns\n",
    "from scipy.stats import t\n",
    "from scipy.optimize import minimize\n",
    "\n",
    "from statsmodels.api import OLS\n",
    "import statsmodels.api as sm\n",
    "from scipy.stats import norm\n",
    "%matplotlib inline\n"
   ]
  },
  {
   "cell_type": "markdown",
   "metadata": {},
   "source": [
    "\n",
    "<div class='exercise'> <b>  Question 7: Student's t MLE </b> </div>\n",
    "\n",
    "**7.1** Fit a simple linear regression model using Maximum Likelihood Estimation on the data provided in `data/beerdata.csv`.  Consider two statistical models the for noise: a) Normal and b) Student's $\\textit{t}$-distribution with $\\nu=5$ and scale factor $\\sigma=\\sqrt{3/5}$.  \n",
    "\n",
    "**7.2** Compare the two models performances (visualize the prediction lines and estimate the KL divergence between the data and each model) and comment why it is perhaps appropriate to use the Student's t-distribution instead of the Normal.\n",
    "\n",
    "**Hints:**\n",
    "1. Use the probability density function for the Student's t distribution  with location $t$,  $\\nu$ degrees of freedom and scale factor $\\sigma$.\n",
    "2. If the MLE regression coefficients cannot be derived analytically consider numerical methods.\n",
    "3. For _convenience_, you can use sklearn or statsmodel for the Normal case.\n"
   ]
  },
  {
   "cell_type": "markdown",
   "metadata": {},
   "source": [
    "### Answers\n",
    "\n",
    "**7.1 Fit a simple linear regression model using Maximum Likelihood Estimation on the data provided in `data/beerdata.csv`.  Consider two statistical models the for noise: a) Normal and b) Student's $\\textit{t}$-distribution with $\\nu=5$ and scale factor $\\sigma=\\sqrt{3/5}$.   **\n",
    "\n",
    "*your answer here*\n",
    "\n",
    "The density for the Student's $\\textit{t}$-distribution is given by \n",
    "\n",
    "$$ p(t| \\sigma, \\nu) = \\frac{\\frac{\\Gamma(\\nu +1)}{2}}{\\Gamma(\\frac{\\nu}{2})\\sqrt{\\pi\\nu\\sigma^2}}\\left(1 + \\frac{1}{\\nu}\\frac{t^2}{\\sigma^2}\\right)^{-\\frac{\\nu + 1}{2}}.$$\n",
    "\n",
    "For a linear regression assuming noise is independent and identically distributed as Student's $\\textit{t}$-distribution, we get the likelihood:\n",
    "\n",
    "$$\\begin{aligned}\n",
    "    p(\\epsilon) &= \\prod_i p(\\epsilon_i)\\\\\n",
    "                &= \\prod_i p(y_i - \\beta_1x_i - \\beta_0)\\\\\n",
    "                &= \\prod_i \\frac{\\frac{\\Gamma(\\nu +1)}{2}}{\\Gamma(\\frac{\\nu}{2})\\sqrt{\\pi\\nu\\sigma^2}}\\left(1 + \\frac{1}{\\nu}\\frac{(y_i - \\beta_1x_i - \\beta_0)^2}{\\sigma^2}\\right)^{-\\frac{\\nu + 1}{2}}.\n",
    " \\end{aligned}$$\n",
    " \n",
    "As usual, we want to maximize the likelihood with respect to $\\beta$. It is easier to work with the log-likelihood:\n",
    "\n",
    "$$ \\ell(\\nu,\\sigma, \\beta) = C(\\nu, \\sigma) -\\frac{\\nu + 1}{2}\\sum_i \\log\\left(1 + \\frac{1}{\\nu}\\frac{(y_i - \\beta_1x_i - \\beta_0)^2}{\\sigma^2}\\right)$$\n",
    "\n",
    "where $C(\\nu,\\sigma)$ has no dependance on $\\beta$ and then does play any role in the maximization. Thus, maximizing $\\ell(\\beta)$ is the same as minimizing the loss function:\n",
    "\n",
    "$$\\Omega(\\beta)=\\frac{\\nu + 1}{2}\\sum_i \\log\\left(1 + \\frac{1}{\\nu}\\frac{(y_i - \\beta_1x_i - \\beta_0)^2}{\\sigma^2}\\right)$$\n",
    "\n",
    "Unlike the ordinary least squares regression model, we cannot write an analytical closed solution for the above model. Nevertheless  we can use numerical minimization methods."
   ]
  },
  {
   "cell_type": "code",
   "execution_count": 3,
   "metadata": {},
   "outputs": [
    {
     "data": {
      "text/html": [
       "<div>\n",
       "<style>\n",
       "    .dataframe thead tr:only-child th {\n",
       "        text-align: right;\n",
       "    }\n",
       "\n",
       "    .dataframe thead th {\n",
       "        text-align: left;\n",
       "    }\n",
       "\n",
       "    .dataframe tbody tr th {\n",
       "        vertical-align: top;\n",
       "    }\n",
       "</style>\n",
       "<table border=\"1\" class=\"dataframe\">\n",
       "  <thead>\n",
       "    <tr style=\"text-align: right;\">\n",
       "      <th></th>\n",
       "      <th>Unnamed: 0</th>\n",
       "      <th>x</th>\n",
       "      <th>y</th>\n",
       "    </tr>\n",
       "  </thead>\n",
       "  <tbody>\n",
       "    <tr>\n",
       "      <th>count</th>\n",
       "      <td>30.000000</td>\n",
       "      <td>30.000000</td>\n",
       "      <td>30.000000</td>\n",
       "    </tr>\n",
       "    <tr>\n",
       "      <th>mean</th>\n",
       "      <td>14.500000</td>\n",
       "      <td>0.440177</td>\n",
       "      <td>7.627199</td>\n",
       "    </tr>\n",
       "    <tr>\n",
       "      <th>std</th>\n",
       "      <td>8.803408</td>\n",
       "      <td>0.298491</td>\n",
       "      <td>2.354461</td>\n",
       "    </tr>\n",
       "    <tr>\n",
       "      <th>min</th>\n",
       "      <td>0.000000</td>\n",
       "      <td>0.006531</td>\n",
       "      <td>3.783621</td>\n",
       "    </tr>\n",
       "    <tr>\n",
       "      <th>25%</th>\n",
       "      <td>7.250000</td>\n",
       "      <td>0.210233</td>\n",
       "      <td>5.761739</td>\n",
       "    </tr>\n",
       "    <tr>\n",
       "      <th>50%</th>\n",
       "      <td>14.500000</td>\n",
       "      <td>0.432952</td>\n",
       "      <td>7.509764</td>\n",
       "    </tr>\n",
       "    <tr>\n",
       "      <th>75%</th>\n",
       "      <td>21.750000</td>\n",
       "      <td>0.693451</td>\n",
       "      <td>8.540923</td>\n",
       "    </tr>\n",
       "    <tr>\n",
       "      <th>max</th>\n",
       "      <td>29.000000</td>\n",
       "      <td>0.986603</td>\n",
       "      <td>15.175301</td>\n",
       "    </tr>\n",
       "  </tbody>\n",
       "</table>\n",
       "</div>"
      ],
      "text/plain": [
       "       Unnamed: 0          x          y\n",
       "count   30.000000  30.000000  30.000000\n",
       "mean    14.500000   0.440177   7.627199\n",
       "std      8.803408   0.298491   2.354461\n",
       "min      0.000000   0.006531   3.783621\n",
       "25%      7.250000   0.210233   5.761739\n",
       "50%     14.500000   0.432952   7.509764\n",
       "75%     21.750000   0.693451   8.540923\n",
       "max     29.000000   0.986603  15.175301"
      ]
     },
     "execution_count": 3,
     "metadata": {},
     "output_type": "execute_result"
    }
   ],
   "source": [
    "#Read and show the data\n",
    "# your code here\n",
    "\n",
    "beer_df = pd.read_csv('./data/beerdata.csv')\n",
    "x  = beer_df.x.values\n",
    "y  = beer_df.y.values\n",
    "\n",
    "beer_df.describe()"
   ]
  },
  {
   "cell_type": "code",
   "execution_count": 4,
   "metadata": {},
   "outputs": [
    {
     "data": {
      "text/plain": [
       "Text(0,0.5,'y')"
      ]
     },
     "execution_count": 4,
     "metadata": {},
     "output_type": "execute_result"
    },
    {
     "data": {
      "image/png": "[encoded data removed]",
      "text/plain": [
       "<matplotlib.figure.Figure at 0x7f45be9c2908>"
      ]
     },
     "metadata": {},
     "output_type": "display_data"
    }
   ],
   "source": [
    "#### Plot the data\n",
    "# your code here\n",
    "fig=plt.figure(figsize=(8,6))\n",
    "\n",
    "plt.scatter(x,y,color='b',marker='x', alpha=0.6)\n",
    "\n",
    "plt.title('Beer Data')\n",
    "plt.xlabel('X')\n",
    "plt.ylabel('y')"
   ]
  },
  {
   "cell_type": "code",
   "execution_count": 5,
   "metadata": {},
   "outputs": [
    {
     "name": "stdout",
     "output_type": "stream",
     "text": [
      "                            OLS Regression Results                            \n",
      "==============================================================================\n",
      "Dep. Variable:                      y   R-squared:                       0.795\n",
      "Model:                            OLS   Adj. R-squared:                  0.788\n",
      "Method:                 Least Squares   F-statistic:                     108.7\n",
      "Date:                Fri, 05 Oct 2018   Prob (F-statistic):           3.78e-11\n",
      "Time:                        20:31:20   Log-Likelihood:                -43.960\n",
      "No. Observations:                  30   AIC:                             91.92\n",
      "Df Residuals:                      28   BIC:                             94.72\n",
      "Df Model:                           1                                         \n",
      "Covariance Type:            nonrobust                                         \n",
      "==============================================================================\n",
      "                 coef    std err          t      P>|t|      [0.025      0.975]\n",
      "------------------------------------------------------------------------------\n",
      "const          4.5309      0.357     12.697      0.000       3.800       5.262\n",
      "x              7.0341      0.675     10.428      0.000       5.652       8.416\n",
      "==============================================================================\n",
      "Omnibus:                       37.057   Durbin-Watson:                   2.299\n",
      "Prob(Omnibus):                  0.000   Jarque-Bera (JB):              129.520\n",
      "Skew:                           2.451   Prob(JB):                     7.50e-29\n",
      "Kurtosis:                      11.921   Cond. No.                         4.12\n",
      "==============================================================================\n",
      "\n",
      "Warnings:\n",
      "[1] Standard Errors assume that the covariance matrix of the errors is correctly specified.\n"
     ]
    }
   ],
   "source": [
    "#### Generate the ordinary least squares model (OLS)\n",
    "# your code here\n",
    "X = sm.add_constant(beer_df['x'])\n",
    "y = beer_df['y']\n",
    "\n",
    "beer_ols_model = OLS(y,X).fit()\n",
    "\n",
    "beer_summary_ols = beer_ols_model.summary()\n",
    "print(beer_summary_ols)\n",
    "\n",
    "ols_line_x = np.linspace(0,1,len(y))\n",
    "# The OLS fit line\n",
    "ols_line_y = beer_ols_model.params[1]*ols_line_x+beer_ols_model.params[0]"
   ]
  },
  {
   "cell_type": "code",
   "execution_count": 6,
   "metadata": {},
   "outputs": [
    {
     "data": {
      "text/plain": [
       "<matplotlib.legend.Legend at 0x7f45bb076b38>"
      ]
     },
     "execution_count": 6,
     "metadata": {},
     "output_type": "execute_result"
    },
    {
     "data": {
      "image/png": "[encoded data removed]",
      "text/plain": [
       "<matplotlib.figure.Figure at 0x7f45be9c25c0>"
      ]
     },
     "metadata": {},
     "output_type": "display_data"
    }
   ],
   "source": [
    "#### Plot the data along with OLS fit line\n",
    "# your code here\n",
    "fig=plt.figure(figsize=(8,6))\n",
    "plt.scatter(x,y,color='b',marker='x',label='data')\n",
    "## OR BY USING\n",
    "#sns.lmplot('x','y',data=beer_df,fit_reg=True ,markers='x')\n",
    "\n",
    "## Plot the OLS Regression line\n",
    "plt.plot(ols_line_x, ols_line_y,color='red',label='OLS regression line')\n",
    "plt.title('Beer Data & OLS Regression')\n",
    "plt.xlabel('X')\n",
    "plt.ylabel('y')\n",
    "plt.legend(loc='best')\n"
   ]
  },
  {
   "cell_type": "code",
   "execution_count": 7,
   "metadata": {
    "collapsed": true
   },
   "outputs": [],
   "source": [
    "#### LET'S MAKE THE REGRESSION MODEL WITH t-Students distribution\n",
    "# your code here\n",
    "\n",
    "# Define a function for the loss function\n",
    "def student_loss(beta, df_x, df_y, degrees=5, scale=np.sqrt(3/5)):\n",
    "    errors= df_y-np.dot(df_x, beta)\n",
    "    \n",
    "    ## for convenience purposes just use -np.log(student's t-distribution pdf)\n",
    "    return(np.sum(-np.log(t.pdf(errors, degrees,scale=scale))))"
   ]
  },
  {
   "cell_type": "code",
   "execution_count": 8,
   "metadata": {},
   "outputs": [
    {
     "name": "stdout",
     "output_type": "stream",
     "text": [
      "beta_0= 4.773823570121836 beta_1= 6.172940618058738\n"
     ]
    }
   ],
   "source": [
    "# your code here\n",
    "\n",
    "# lambda function to conveniently represent loss function\n",
    "loss = lambda x : student_loss(x, df_x=X,df_y=y)\n",
    "\n",
    "# Use nelder-mead minimization with ols model starting parameters to generate optimal betas\n",
    "optimal_betas = minimize(loss, beer_ols_model.params, tol=1e-6)\n",
    "\n",
    "# let's generate y coordinates for our regression line\n",
    "student_line_y = optimal_betas.x[0] + ols_line_x*optimal_betas.x[1]\n",
    "\n",
    "print('beta_0=',optimal_betas.x[0], 'beta_1=', optimal_betas.x[1])"
   ]
  },
  {
   "cell_type": "code",
   "execution_count": 9,
   "metadata": {},
   "outputs": [
    {
     "data": {
      "text/plain": [
       "<matplotlib.legend.Legend at 0x7f45bb002b00>"
      ]
     },
     "execution_count": 9,
     "metadata": {},
     "output_type": "execute_result"
    },
    {
     "data": {
      "image/png": "[encoded data removed]",
      "text/plain": [
       "<matplotlib.figure.Figure at 0x7f45bb0300f0>"
      ]
     },
     "metadata": {},
     "output_type": "display_data"
    }
   ],
   "source": [
    "# your code here\n",
    "# Basic visualization\n",
    "\n",
    "fig=plt.figure(figsize=(8,6))\n",
    "plt.scatter(x,y,color='b',marker='x',label='data')\n",
    "## OR BY USING\n",
    "# sns.lmplot('x','y',  data=beer_df, fit_reg=False)\n",
    "\n",
    "\n",
    "# Plot Regression Lines (OLS & t-Students)\n",
    "plt.plot(ols_line_x, ols_line_y, color='red', label='OLS regression line')\n",
    "plt.plot(ols_line_x, student_line_y, '-g', label='t-Student\\'s regression line')\n",
    "\n",
    "# Set title\n",
    "plt.title('Beer Data, OLS & t-Student Regression')\n",
    "# Set axis labels\n",
    "plt.xlabel('X')\n",
    "plt.ylabel('y')\n",
    "plt.legend()"
   ]
  },
  {
   "cell_type": "markdown",
   "metadata": {},
   "source": [
    "**7.2 Compare the two models performances (visualize the prediction lines and estimate the KL divergence between the data and each model) and comment why it is perhaps appropriate to use the Student's t-distribution instead of the Normal. **\n",
    "\n",
    "\n",
    "*your answer here*\n",
    "\n",
    "The two models are very similar and give quite similar regression lines which is not surprising.  The $\\textit{t}$-Student's is very similar to a normal except it has \"fatter tails\" which should in principle make it more robust to outliers. In the scatter plot we notice that the beer data set has an outlier point  on the right-up corner. The $\\textit{t}$-Student regression model is less affected than the OLS by the outlier point and hence, by visual inspection the $\\textit{t}$-Student's distribution fits better to the our data. \n",
    "\n",
    "We can quantify and be sure about which model fits betters our data by calculating the KL-Divergence for the two models.\n"
   ]
  },
  {
   "cell_type": "code",
   "execution_count": 10,
   "metadata": {},
   "outputs": [
    {
     "name": "stdout",
     "output_type": "stream",
     "text": [
      "The difference between KL divergence of Normal and t-Students model is:  3.3546059477156316\n",
      "The difference between KL divergence of Normal and t-Students model is:  3.354605947715632\n"
     ]
    }
   ],
   "source": [
    "# your code here\n",
    "\n",
    "# Calculate the likelihoods\n",
    "L_normal = np.prod(norm.pdf(y, ols_line_y, 1))\n",
    "L_student = np.prod(t.pdf(y, student_line_y, 5,np.sqrt(3/5)))\n",
    "## The KL divergence is:\n",
    "D = 1/len(y) * np.log(L_student/L_normal)\n",
    "print('The difference between KL divergence of Normal and t-Students model is: ',D)\n",
    "\n",
    "#### Alternatevely and numerically more stable by using the log-likelihoods:\n",
    "ell_normal = np.sum(norm.logpdf(y, ols_line_y, 1))\n",
    "ell_student = np.sum(t.logpdf(y, student_line_y, 5,np.sqrt(3/5)))\n",
    "D_log = 1/len(y) * (ell_student- ell_normal)\n",
    "print('The difference between KL divergence of Normal and t-Students model is: ',D_log)\n"
   ]
  },
  {
   "cell_type": "markdown",
   "metadata": {},
   "source": [
    "*your answer here*\n",
    "\n",
    "As we predicted by visual inspection, the $\\textit{t}$-Student regression model is being better than OLS."
   ]
  },
  {
   "cell_type": "markdown",
   "metadata": {},
   "source": [
    "\n",
    "<div class='exercise'> <b>  Question 8: Akaike Information Criterion (AIC) </b> </div>\n",
    "\n",
    "Perform a simple numerical experiment to understand and demonstrate the AIC by using the given `generate_data` function to generate your data.\n",
    " \n",
    "\n",
    "**8.1**\n",
    "Generate data for different number of parameters $k$, in the range 1 to 10. For each of the ten models generate 1000 training and 1000 testing datasets with each one containing $n=50$ observations.\n",
    "\n",
    "**8.2** \n",
    "Use the training set to estimate the OLS coefficients and  calculate the predicted values, $\\hat y_{tr}$, on the training set and the log-likelihood. \n",
    " Use the OLS coefficients to calculate the predicted values  for the testing set, $\\hat y_{te}$, and the associated log-likelihood. \n",
    "\n",
    "**8.3** \n",
    "For each $k$ compute the average and standard deviation of the log-likelihoods across the 1000 simulations.  Plot the average  log-likelihoods (with error bars) and the average AIC as function of $k$, the number of parameters. What is the best $k$ based on AIC?\n",
    "\n",
    "**8.4**\n",
    "Verify the results in 8.3 by plotting the average log-likelihoods for each of the training and testing datasets as a function of $k$. What is the best $k$ based on this plot?\n",
    "\n",
    "\n",
    "**Comment:**\n",
    "1. The function \"generate_data\" uses an interesting trick to generate data directly using the regression coefficients as proxies for the correlations with the response variable. It generates data from a Normal distribution, hence $y_i \\sim \\mathcal{N}(\\mu_i= 0.15 x_{1,i} - 0.4 x_{2,i},\\sigma^2=1)$."
   ]
  },
  {
   "cell_type": "code",
   "execution_count": 11,
   "metadata": {
    "collapsed": true
   },
   "outputs": [],
   "source": [
    "def generate_data(N,k,beta=[0.15 , -0.4]):\n",
    "    \n",
    "    ## N: The number of observations\n",
    "    ## k: The number of parameters\n",
    "    ## beta is the weights vector for the covariates x1, x2\n",
    "    ##\n",
    "    ## Make d_min be greater or equal to k\n",
    "    n_dim = 1+len(beta)\n",
    "    if (n_dim <= k):\n",
    "        n_dim = k\n",
    "\n",
    "    Rho = np.eye(n_dim)\n",
    "    \n",
    "    # Add beta in the first row or Rho\n",
    "    for i,r in enumerate(beta):\n",
    "        Rho[0,i+1] = r\n",
    "    \n",
    "    index_lower = np.tril_indices(n_dim, -1)\n",
    "    \n",
    "    Rho[index_lower] = Rho.T[index_lower]\n",
    "    mean = n_dim * [0.]        \n",
    "    Xtrain = np.random.multivariate_normal(mean, Rho, size=N)\n",
    "    Xtest = np.random.multivariate_normal(mean, Rho, size=N)\n",
    "    ytrain = Xtrain[:,0].copy()\n",
    "    Xtrain[:,0]=1.\n",
    "    ytest = Xtest[:,0].copy()\n",
    "    Xtest[:,0]=1.\n",
    "    return Xtrain[:,:k], ytrain, Xtest[:,:k], ytest"
   ]
  },
  {
   "cell_type": "markdown",
   "metadata": {},
   "source": [
    "### Answers\n",
    "\n",
    "**8.1 Generate data for different number of parameters $k$, in the range 1 to 10. For each of the ten models generate 1000 training and 1000 testing datasets with each one containing $n=50$ observations. **\n"
   ]
  },
  {
   "cell_type": "code",
   "execution_count": 12,
   "metadata": {
    "collapsed": true
   },
   "outputs": [],
   "source": [
    "#### Be familiar with the generated data by printing them:\n",
    "# your code here\n",
    "# generate_data(20,1)\n",
    "# generate_data(20,2)\n",
    "# generate_data(20,3)"
   ]
  },
  {
   "cell_type": "code",
   "execution_count": 13,
   "metadata": {
    "collapsed": true
   },
   "outputs": [],
   "source": [
    "#### Generate the datasets:\n",
    "# your code here\n",
    "\n",
    "reps=1000\n",
    "kMax=10\n",
    "n=50\n",
    "\n",
    "\n",
    "Xtr_all = []\n",
    "ytr_all = []\n",
    "Xte_all = []\n",
    "yte_all = []\n",
    "\n",
    "## This loop is generating data for k=10 different models\n",
    "for k in range(1,kMax+1):\n",
    "    \n",
    "    Xtr_r = []\n",
    "    ytr_r = []\n",
    "    Xte_r = []\n",
    "    yte_r = []\n",
    "\n",
    "    ## This loop is generating reps=1000 set data for each model k \n",
    "    for r in range(reps):\n",
    "        Xtr, ytr, Xte, yte = generate_data(n, k)\n",
    " \n",
    "        Xtr_r.append(Xtr)\n",
    "        ytr_r.append(ytr)\n",
    "        Xte_r.append(Xte)\n",
    "        yte_r.append(yte)\n",
    "      \n",
    "    Xtr_all.append(Xtr_r)\n",
    "    ytr_all.append(ytr_r)\n",
    "    Xte_all.append(Xte_r)\n",
    "    yte_all.append(yte_r)\n",
    "    \n",
    "    "
   ]
  },
  {
   "cell_type": "markdown",
   "metadata": {},
   "source": [
    "**8.2 Use the training set to estimate the OLS coefficients and  calculate the predicted values, $\\hat y_{tr}$, on the training set and the log-likelihood. \n",
    " Use the OLS coefficients to calculate the predicted values  for the testing set, $\\hat y_{te}$, and the associated log-likelihood. **\n"
   ]
  },
  {
   "cell_type": "code",
   "execution_count": 14,
   "metadata": {},
   "outputs": [],
   "source": [
    "#### Fit the models and calculate the log-likelihoods\n",
    "# your code here\n",
    "\n",
    "mean_tr=np.zeros(kMax)\n",
    "std_tr=np.zeros(kMax)\n",
    "mean_te=np.zeros(kMax)\n",
    "std_te=np.zeros(kMax)\n",
    "\n",
    "\n",
    "for k in range(0,kMax):\n",
    "    \n",
    "    tr_ell=np.zeros(reps)\n",
    "    te_ell=np.zeros(reps)\n",
    "    \n",
    "    \n",
    "    for r in range(reps):\n",
    "        \n",
    "        ols = sm.OLS(ytr_all[k][r],Xtr_all[k][r]).fit()\n",
    "        yhat_tr = np.dot(Xtr_all[k][r], ols.params)\n",
    "        ell_train = np.sum(norm.logpdf(ytr_all[k][r], yhat_tr, 1))\n",
    "        \n",
    "        yhat_te = np.dot(Xte_all[k][r], ols.params)\n",
    "    \n",
    "        ell_test = np.sum(norm.logpdf(yte_all[k][r], yhat_te, 1))\n",
    "    \n",
    "        tr_ell[r] = ell_train\n",
    "        te_ell[r] = ell_test\n",
    "        \n",
    "    mean_tr[k] = np.mean(tr_ell)\n",
    "    std_tr[k] = np.std(tr_ell)\n",
    "    mean_te[k] = np.mean(te_ell)\n",
    "    std_te[k] = np.std(te_ell)\n",
    "    "
   ]
  },
  {
   "cell_type": "markdown",
   "metadata": {},
   "source": [
    "**8.3\n",
    "For each $k$ compute the average and standard deviation of the log-likelihoods across the 1000 simulations.  Plot the average  log-likelihoods (with error bars) and the average AIC (with error bars) as function of $k$, the number of parameters. What is the best $k$ based on AIC?**"
   ]
  },
  {
   "cell_type": "code",
   "execution_count": 15,
   "metadata": {},
   "outputs": [
    {
     "name": "stderr",
     "output_type": "stream",
     "text": [
      "/home/marios/anaconda3/lib/python3.6/site-packages/matplotlib/axes/_axes.py:2876: MatplotlibDeprecationWarning: Use of None object as fmt keyword argument to suppress plotting of data values is deprecated since 1.4; use the string \"none\" instead.\n",
      "  warnings.warn(msg, mplDeprecation, stacklevel=1)\n"
     ]
    },
    {
     "data": {
      "text/plain": [
       "<matplotlib.legend.Legend at 0x7f45ba9da128>"
      ]
     },
     "execution_count": 15,
     "metadata": {},
     "output_type": "execute_result"
    },
    {
     "data": {
      "image/png": "[encoded data removed]",
      "text/plain": [
       "<matplotlib.figure.Figure at 0x7f45bb056c50>"
      ]
     },
     "metadata": {},
     "output_type": "display_data"
    }
   ],
   "source": [
    "#### Plot the log-likelihood for the traing and the AIC:\n",
    "# your code here\n",
    "fig=plt.figure(figsize=(8,6))\n",
    "\n",
    "## Define a vector that contains k\n",
    "k_vec = np.linspace(1,kMax,kMax)\n",
    "\n",
    "\n",
    "# Define AIC according to the notes\n",
    "myAIC = 2*mean_tr - 2*k_vec\n",
    "\n",
    "##  We plot the AIC/2 because it is more convenience to be compared with the log-likelihood \n",
    "plt.plot(k_vec, mean_tr, '-o', color = 'blue',label='train')\n",
    "plt.errorbar(k_vec, mean_tr, yerr=std_tr, fmt=None, color='blue',label='train error')\n",
    "plt.plot(k_vec, myAIC/2 , '-o', color = 'green',label='AIC/2')\n",
    "plt.errorbar(k_vec, myAIC/2, yerr=std_tr, fmt=None, color='green', alpha=0.6, label='AIC/2 error')\n",
    "\n",
    "\n",
    "plt.xlabel(\"Number of parameters (k)\")\n",
    "plt.ylabel(\"$\\ell_{train}$,   AIC/2\")\n",
    "plt.title(str(kMax)+' models of '+str(n))\n",
    "plt.legend(loc='upper left')\n",
    "\n",
    "\n"
   ]
  },
  {
   "cell_type": "markdown",
   "metadata": {},
   "source": [
    "*your answer here*\n",
    "\n",
    "AIC becomes maximum for $k=3$, hence $k=3$ gives the best model.\n",
    "\n",
    "Note that statsmodels uses the AIC as it is defined in the original paper of Akaike as: AIC$=2k-2\\ell$, where the best model is given by the $k$ that  minimzes the AIC. In our notes we give the formula AIC$=2\\ell-2k$, where the best model is given by the $k$ that maximizes the AIC. The two AIC definitions are equivalent. Just for consistency, here we follow the formula that is given in our notes."
   ]
  },
  {
   "cell_type": "markdown",
   "metadata": {},
   "source": [
    "\n",
    "**8.4\n",
    "Verify the results in 8.3 by plotting the average log-likelihoods for each of the training and testing datasets as a function of $k$. What is the best $k$ based on this plot?\n",
    "**\n"
   ]
  },
  {
   "cell_type": "code",
   "execution_count": 16,
   "metadata": {},
   "outputs": [
    {
     "name": "stderr",
     "output_type": "stream",
     "text": [
      "/home/marios/anaconda3/lib/python3.6/site-packages/matplotlib/axes/_axes.py:2876: MatplotlibDeprecationWarning: Use of None object as fmt keyword argument to suppress plotting of data values is deprecated since 1.4; use the string \"none\" instead.\n",
      "  warnings.warn(msg, mplDeprecation, stacklevel=1)\n"
     ]
    },
    {
     "data": {
      "text/plain": [
       "<matplotlib.legend.Legend at 0x7f45ba945978>"
      ]
     },
     "execution_count": 16,
     "metadata": {},
     "output_type": "execute_result"
    },
    {
     "data": {
      "image/png": "[encoded data removed]",
      "text/plain": [
       "<matplotlib.figure.Figure at 0x7f45ba9951d0>"
      ]
     },
     "metadata": {},
     "output_type": "display_data"
    }
   ],
   "source": [
    "#### Plot the log-likelihood for the traing and testing:\n",
    "# your code here\n",
    "plt.figure(figsize=(8,6))\n",
    "\n",
    "plt.plot(k_vec, mean_tr, '-o', color = 'blue',label='train')\n",
    "plt.errorbar(k_vec, mean_tr, yerr=std_tr, fmt=None, color='blue',label='train error')\n",
    "plt.plot(k_vec, mean_te, '-o', color = 'red',label='test')\n",
    "plt.errorbar(k_vec, mean_te,   yerr=std_te, fmt=None, color='red',alpha=0.6, label='test error')\n",
    "\n",
    "\n",
    "\n",
    "\n",
    "plt.xlabel(\"Number of parameters (k)\")\n",
    "plt.ylabel(\"$\\ell_{train}$, $\\ell_{test}$\")\n",
    "plt.title(str(kMax)+' models of '+str(n)+' observations each');\n",
    "plt.legend(loc='upper left')\n",
    "\n"
   ]
  },
  {
   "cell_type": "markdown",
   "metadata": {
    "collapsed": true
   },
   "source": [
    "*your answer here*\n",
    "\n",
    "We verify that the best model is given by using $k=3$ parameters."
   ]
  },
  {
   "cell_type": "code",
   "execution_count": null,
   "metadata": {
    "collapsed": true
   },
   "outputs": [],
   "source": []
  }
 ],
 "metadata": {
  "kernelspec": {
   "display_name": "Python 3",
   "language": "python",
   "name": "python3"
  },
  "language_info": {
   "codemirror_mode": {
    "name": "ipython",
    "version": 3
   },
   "file_extension": ".py",
   "mimetype": "text/x-python",
   "name": "python",
   "nbconvert_exporter": "python",
   "pygments_lexer": "ipython3",
   "version": "3.6.1"
  }
 },
 "nbformat": 4,
 "nbformat_minor": 2
}
