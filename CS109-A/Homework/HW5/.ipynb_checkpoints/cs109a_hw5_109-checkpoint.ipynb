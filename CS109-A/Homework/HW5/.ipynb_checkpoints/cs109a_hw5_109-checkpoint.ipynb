{
 "cells": [
  {
   "cell_type": "markdown",
   "metadata": {},
   "source": [
    "# <img style=\"float: left; padding-right: 10px; width: 45px\" src=\"https://raw.githubusercontent.com/Harvard-IACS/2018-CS109A/master/content/styles/iacs.png\"> CS109A Introduction to Data Science: \n",
    "\n",
    "## Homework 5: Logistic Regression, High Dimensionality and PCA\n",
    "\n",
    "\n",
    "**Harvard University**<br/>\n",
    "**Fall 2018**<br/>\n",
    "**Instructors**: Pavlos Protopapas, Kevin Rader\n",
    "\n",
    "<hr style=\"height:2pt\">\n",
    "\n"
   ]
  },
  {
   "cell_type": "code",
   "execution_count": 1,
   "metadata": {},
   "outputs": [
    {
     "data": {
      "text/html": [
       "<style>\n",
       "h1 { \n",
       "    padding-top: 25px;\n",
       "    padding-bottom: 25px;\n",
       "    text-align: left; \n",
       "    padding-left: 10px;\n",
       "    background-color: #DDDDDD; \n",
       "    color: black;\n",
       "}\n",
       "h2 { \n",
       "    padding-top: 10px;\n",
       "    padding-bottom: 10px;\n",
       "    text-align: left; \n",
       "    padding-left: 5px;\n",
       "    background-color: #EEEEEE; \n",
       "    color: black;\n",
       "}\n",
       "\n",
       "div.exercise {\n",
       "\tbackground-color: #ffcccc;\n",
       "\tborder-color: #E9967A; \t\n",
       "\tborder-left: 5px solid #800080; \n",
       "\tpadding: 0.5em;\n",
       "}\n",
       "div.theme {\n",
       "\tbackground-color: #DDDDDD;\n",
       "\tborder-color: #E9967A; \t\n",
       "\tborder-left: 5px solid #800080; \n",
       "\tpadding: 0.5em;\n",
       "\tfont-size: 18pt;\n",
       "}\n",
       "p.q1 { \n",
       "    padding-top: 5px;\n",
       "    padding-bottom: 5px;\n",
       "    text-align: left; \n",
       "    padding-left: 5px;\n",
       "    background-color: #EEEEEE; \n",
       "    color: black;\n",
       "}\n",
       "header {\n",
       "   padding-top: 35px;\n",
       "    padding-bottom: 35px;\n",
       "    text-align: left; \n",
       "    padding-left: 10px;\n",
       "    background-color: #DDDDDD; \n",
       "    color: black;\n",
       "}\n",
       "</style>\n",
       "\n"
      ],
      "text/plain": [
       "<IPython.core.display.HTML object>"
      ]
     },
     "execution_count": 1,
     "metadata": {},
     "output_type": "execute_result"
    }
   ],
   "source": [
    "#RUN THIS CELL \n",
    "import requests\n",
    "from IPython.core.display import HTML\n",
    "styles = requests.get(\"https://raw.githubusercontent.com/Harvard-IACS/2018-CS109A/master/content/styles/cs109.css\").text\n",
    "HTML(styles)"
   ]
  },
  {
   "cell_type": "markdown",
   "metadata": {},
   "source": [
    "### INSTRUCTIONS\n",
    "\n",
    "- To submit your assignment follow the instructions given in canvas  https://canvas.harvard.edu/courses/42693/pages/homework-policies-and-submission-instructions.\n",
    "- Restart the kernel and run the whole notebook again before you submit. \n",
    "- If you submit individually and you have worked with someone, please include the name of your [one] partner below. \n",
    "- As much as possible, try and stick to the hints and functions we import at the top of the homework, as those are the ideas and tools the class supports and is aiming to teach. And if a problem specifies a particular library you're required to use that library, and possibly others from the import list."
   ]
  },
  {
   "cell_type": "markdown",
   "metadata": {},
   "source": [
    "Names of people you have worked with goes here: "
   ]
  },
  {
   "cell_type": "markdown",
   "metadata": {},
   "source": [
    "<hr style=\"height:2pt\">"
   ]
  },
  {
   "cell_type": "code",
   "execution_count": 2,
   "metadata": {},
   "outputs": [],
   "source": [
    "import numpy as np\n",
    "import pandas as pd\n",
    "\n",
    "import statsmodels.api as sm\n",
    "from statsmodels.api import OLS\n",
    "\n",
    "from sklearn.decomposition import PCA\n",
    "from sklearn.linear_model import LogisticRegression\n",
    "from sklearn.linear_model import LogisticRegressionCV\n",
    "from sklearn.discriminant_analysis import LinearDiscriminantAnalysis\n",
    "from sklearn.discriminant_analysis import QuadraticDiscriminantAnalysis\n",
    "from sklearn.preprocessing import PolynomialFeatures\n",
    "from sklearn.neighbors import KNeighborsClassifier\n",
    "from sklearn.model_selection import cross_val_score\n",
    "from sklearn.metrics import accuracy_score\n",
    "from sklearn.model_selection import KFold\n",
    "from sklearn.preprocessing import MinMaxScaler\n",
    "\n",
    "import math\n",
    "from scipy.special import gamma\n",
    "\n",
    "import matplotlib\n",
    "import matplotlib.pyplot as plt\n",
    "%matplotlib inline\n",
    "\n",
    "import seaborn as sns\n",
    "sns.set()\n",
    "\n",
    "from IPython.display import display\n"
   ]
  },
  {
   "cell_type": "markdown",
   "metadata": {},
   "source": [
    "<div class='theme'> Cancer Classification from Gene Expressions </div>\n",
    "\n",
    "In this problem, we will build a classification model to distinguish between two related classes of cancer, acute lymphoblastic leukemia (ALL) and acute myeloid leukemia (AML), using gene expression measurements. The data set is provided in the file `data/dataset_hw5_1.csv`. Each row in this file corresponds to a tumor tissue sample from a patient with one of the two forms of Leukemia. The first column contains the cancer type, with 0 indicating the ALL class and 1 indicating the AML class. Columns 2-7130 contain expression levels of 7129 genes recorded from each tissue sample. \n",
    "\n",
    "In the following questions, we will use linear and logistic regression to build classification models for this data set. We will also use Principal Components Analysis (PCA) to reduce its dimensions. \n",
    "\n"
   ]
  },
  {
   "cell_type": "markdown",
   "metadata": {},
   "source": [
    "<div class='exercise'><b> Question 1 [25 pts]: Data Exploration </b></div>\n",
    "\n",
    "First step is to  split  the observations into an approximate 50-50 train-test split.  Below is some code to do this for you (we want to make sure everyone has the same splits).\n",
    "\n",
    "**1.1** Take a peek at your training set: you should notice the severe differences in the measurements from one gene to the next (some are negative, some hover around zero, and some are well into the thousands).  To account for these differences in scale and variability, normalize each predictor to vary between 0 and 1.\n",
    "\n",
    "**1.2** Notice that the resulting training set contains more predictors than observations. Do you foresee a problem in fitting a classification model to such a data set?  Explain in 3 or fewer sentences.\n",
    "\n",
    "**1.3** Let's explore a few of the genes and see how well they discriminate between cancer classes. Create a single figure with four subplots arranged in a 2x2 grid. Consider the following four genes: `D29963_at`, `M23161_at`, `hum_alu_at`, and `AFFX-PheX-5_at`. For each gene overlay two histograms of the gene expression values on one of the subplots, one histogram for each cancer type. Does it appear that any of these genes discriminate between the two classes well? How are you able to tell?\n",
    "\n",
    "**1.4** Since our data has dimensions that are not easily visualizable, we want to reduce the dimensionality of the data to make it easier to visualize. Using PCA, find the top two principal components for the gene expression data. Generate a scatter plot using these principal components, highlighting the two cancer types in different colors and different markers ('x' vs 'o', for example). How well do the top two principal components discriminate between the two classes? How much of the variance within the predictor set do these two principal components explain? \n",
    "\n",
    "**1.5** Plot the cumulative variance explained in the feature set as a function of the number of PCA-components (up to the first 50 components).  Do you feel 2 components is enough, and if not, how many components would you choose to consider?  Justify your choice in 3 or fewer sentences.  Finally, determine how many components are needed to explain at least 90% of the variability in the feature set. "
   ]
  },
  {
   "cell_type": "markdown",
   "metadata": {},
   "source": [
    "#### Answers:\n",
    "First step is to split the observations into an approximate 50-50 train-test split. Below is some code to do this for you (we want to make sure everyone has the same splits)."
   ]
  },
  {
   "cell_type": "code",
   "execution_count": 3,
   "metadata": {},
   "outputs": [],
   "source": [
    "np.random.seed(9002)\n",
    "df = pd.read_csv('data/dataset_hw5_1.csv')\n",
    "msk = np.random.rand(len(df)) < 0.5\n",
    "data_train = df[msk]\n",
    "data_test = df[~msk]"
   ]
  },
  {
   "cell_type": "markdown",
   "metadata": {},
   "source": [
    "**1.1:** Take a peek at your training set..."
   ]
  },
  {
   "cell_type": "code",
   "execution_count": 4,
   "metadata": {
    "scrolled": true
   },
   "outputs": [
    {
     "data": {
      "text/html": [
       "<div>\n",
       "<style scoped>\n",
       "    .dataframe tbody tr th:only-of-type {\n",
       "        vertical-align: middle;\n",
       "    }\n",
       "\n",
       "    .dataframe tbody tr th {\n",
       "        vertical-align: top;\n",
       "    }\n",
       "\n",
       "    .dataframe thead th {\n",
       "        text-align: right;\n",
       "    }\n",
       "</style>\n",
       "<table border=\"1\" class=\"dataframe\">\n",
       "  <thead>\n",
       "    <tr style=\"text-align: right;\">\n",
       "      <th></th>\n",
       "      <th>Cancer_type</th>\n",
       "      <th>AFFX-BioB-5_at</th>\n",
       "      <th>AFFX-BioB-M_at</th>\n",
       "      <th>AFFX-BioB-3_at</th>\n",
       "      <th>AFFX-BioC-5_at</th>\n",
       "      <th>AFFX-BioC-3_at</th>\n",
       "      <th>AFFX-BioDn-5_at</th>\n",
       "      <th>AFFX-BioDn-3_at</th>\n",
       "      <th>AFFX-CreX-5_at</th>\n",
       "      <th>AFFX-CreX-3_at</th>\n",
       "      <th>...</th>\n",
       "      <th>U48730_at</th>\n",
       "      <th>U58516_at</th>\n",
       "      <th>U73738_at</th>\n",
       "      <th>X06956_at</th>\n",
       "      <th>X16699_at</th>\n",
       "      <th>X83863_at</th>\n",
       "      <th>Z17240_at</th>\n",
       "      <th>L49218_f_at</th>\n",
       "      <th>M71243_f_at</th>\n",
       "      <th>Z78285_f_at</th>\n",
       "    </tr>\n",
       "  </thead>\n",
       "  <tbody>\n",
       "    <tr>\n",
       "      <th>count</th>\n",
       "      <td>40.00000</td>\n",
       "      <td>40.000000</td>\n",
       "      <td>40.000000</td>\n",
       "      <td>40.000000</td>\n",
       "      <td>40.000000</td>\n",
       "      <td>40.000000</td>\n",
       "      <td>40.000000</td>\n",
       "      <td>40.000000</td>\n",
       "      <td>40.00000</td>\n",
       "      <td>40.000000</td>\n",
       "      <td>...</td>\n",
       "      <td>40.000000</td>\n",
       "      <td>40.000000</td>\n",
       "      <td>40.000000</td>\n",
       "      <td>40.000000</td>\n",
       "      <td>40.000000</td>\n",
       "      <td>40.000000</td>\n",
       "      <td>40.000000</td>\n",
       "      <td>40.000000</td>\n",
       "      <td>40.000000</td>\n",
       "      <td>40.000000</td>\n",
       "    </tr>\n",
       "    <tr>\n",
       "      <th>mean</th>\n",
       "      <td>0.37500</td>\n",
       "      <td>-116.125000</td>\n",
       "      <td>-163.350000</td>\n",
       "      <td>-9.125000</td>\n",
       "      <td>209.075000</td>\n",
       "      <td>-250.325000</td>\n",
       "      <td>-379.925000</td>\n",
       "      <td>-118.775000</td>\n",
       "      <td>-195.42500</td>\n",
       "      <td>82.850000</td>\n",
       "      <td>...</td>\n",
       "      <td>185.175000</td>\n",
       "      <td>641.250000</td>\n",
       "      <td>-14.800000</td>\n",
       "      <td>419.175000</td>\n",
       "      <td>-31.400000</td>\n",
       "      <td>818.875000</td>\n",
       "      <td>283.850000</td>\n",
       "      <td>11.425000</td>\n",
       "      <td>491.450000</td>\n",
       "      <td>-32.750000</td>\n",
       "    </tr>\n",
       "    <tr>\n",
       "      <th>std</th>\n",
       "      <td>0.49029</td>\n",
       "      <td>102.783364</td>\n",
       "      <td>95.437871</td>\n",
       "      <td>101.998539</td>\n",
       "      <td>111.000205</td>\n",
       "      <td>107.218776</td>\n",
       "      <td>123.026449</td>\n",
       "      <td>304.307494</td>\n",
       "      <td>100.91654</td>\n",
       "      <td>99.683743</td>\n",
       "      <td>...</td>\n",
       "      <td>87.141173</td>\n",
       "      <td>305.573085</td>\n",
       "      <td>92.745088</td>\n",
       "      <td>394.131039</td>\n",
       "      <td>54.429818</td>\n",
       "      <td>458.186178</td>\n",
       "      <td>197.123227</td>\n",
       "      <td>36.221461</td>\n",
       "      <td>653.148075</td>\n",
       "      <td>37.159221</td>\n",
       "    </tr>\n",
       "    <tr>\n",
       "      <th>min</th>\n",
       "      <td>0.00000</td>\n",
       "      <td>-476.000000</td>\n",
       "      <td>-531.000000</td>\n",
       "      <td>-168.000000</td>\n",
       "      <td>-24.000000</td>\n",
       "      <td>-496.000000</td>\n",
       "      <td>-696.000000</td>\n",
       "      <td>-1038.000000</td>\n",
       "      <td>-452.00000</td>\n",
       "      <td>-148.000000</td>\n",
       "      <td>...</td>\n",
       "      <td>42.000000</td>\n",
       "      <td>91.000000</td>\n",
       "      <td>-295.000000</td>\n",
       "      <td>-24.000000</td>\n",
       "      <td>-220.000000</td>\n",
       "      <td>67.000000</td>\n",
       "      <td>-42.000000</td>\n",
       "      <td>-100.000000</td>\n",
       "      <td>-33.000000</td>\n",
       "      <td>-108.000000</td>\n",
       "    </tr>\n",
       "    <tr>\n",
       "      <th>25%</th>\n",
       "      <td>0.00000</td>\n",
       "      <td>-140.750000</td>\n",
       "      <td>-208.500000</td>\n",
       "      <td>-81.250000</td>\n",
       "      <td>124.250000</td>\n",
       "      <td>-316.500000</td>\n",
       "      <td>-461.750000</td>\n",
       "      <td>-269.250000</td>\n",
       "      <td>-238.50000</td>\n",
       "      <td>-0.250000</td>\n",
       "      <td>...</td>\n",
       "      <td>133.750000</td>\n",
       "      <td>424.500000</td>\n",
       "      <td>-57.250000</td>\n",
       "      <td>241.750000</td>\n",
       "      <td>-57.250000</td>\n",
       "      <td>540.000000</td>\n",
       "      <td>189.000000</td>\n",
       "      <td>-8.250000</td>\n",
       "      <td>151.000000</td>\n",
       "      <td>-62.750000</td>\n",
       "    </tr>\n",
       "    <tr>\n",
       "      <th>50%</th>\n",
       "      <td>0.00000</td>\n",
       "      <td>-109.000000</td>\n",
       "      <td>-150.000000</td>\n",
       "      <td>-29.000000</td>\n",
       "      <td>228.000000</td>\n",
       "      <td>-225.000000</td>\n",
       "      <td>-384.500000</td>\n",
       "      <td>-77.000000</td>\n",
       "      <td>-172.00000</td>\n",
       "      <td>99.000000</td>\n",
       "      <td>...</td>\n",
       "      <td>179.500000</td>\n",
       "      <td>619.000000</td>\n",
       "      <td>10.500000</td>\n",
       "      <td>343.000000</td>\n",
       "      <td>-21.000000</td>\n",
       "      <td>747.000000</td>\n",
       "      <td>282.000000</td>\n",
       "      <td>10.000000</td>\n",
       "      <td>242.000000</td>\n",
       "      <td>-30.500000</td>\n",
       "    </tr>\n",
       "    <tr>\n",
       "      <th>75%</th>\n",
       "      <td>1.00000</td>\n",
       "      <td>-64.750000</td>\n",
       "      <td>-99.500000</td>\n",
       "      <td>47.000000</td>\n",
       "      <td>303.750000</td>\n",
       "      <td>-178.750000</td>\n",
       "      <td>-286.250000</td>\n",
       "      <td>20.500000</td>\n",
       "      <td>-125.75000</td>\n",
       "      <td>164.500000</td>\n",
       "      <td>...</td>\n",
       "      <td>227.000000</td>\n",
       "      <td>728.000000</td>\n",
       "      <td>52.250000</td>\n",
       "      <td>475.750000</td>\n",
       "      <td>11.250000</td>\n",
       "      <td>1042.500000</td>\n",
       "      <td>351.750000</td>\n",
       "      <td>28.250000</td>\n",
       "      <td>536.000000</td>\n",
       "      <td>-12.750000</td>\n",
       "    </tr>\n",
       "    <tr>\n",
       "      <th>max</th>\n",
       "      <td>1.00000</td>\n",
       "      <td>86.000000</td>\n",
       "      <td>-20.000000</td>\n",
       "      <td>262.000000</td>\n",
       "      <td>431.000000</td>\n",
       "      <td>-32.000000</td>\n",
       "      <td>-122.000000</td>\n",
       "      <td>367.000000</td>\n",
       "      <td>-11.00000</td>\n",
       "      <td>283.000000</td>\n",
       "      <td>...</td>\n",
       "      <td>413.000000</td>\n",
       "      <td>1655.000000</td>\n",
       "      <td>132.000000</td>\n",
       "      <td>2527.000000</td>\n",
       "      <td>50.000000</td>\n",
       "      <td>2313.000000</td>\n",
       "      <td>1108.000000</td>\n",
       "      <td>81.000000</td>\n",
       "      <td>3192.000000</td>\n",
       "      <td>78.000000</td>\n",
       "    </tr>\n",
       "  </tbody>\n",
       "</table>\n",
       "<p>8 rows × 7130 columns</p>\n",
       "</div>"
      ],
      "text/plain": [
       "       Cancer_type  AFFX-BioB-5_at  AFFX-BioB-M_at  AFFX-BioB-3_at  \\\n",
       "count     40.00000       40.000000       40.000000       40.000000   \n",
       "mean       0.37500     -116.125000     -163.350000       -9.125000   \n",
       "std        0.49029      102.783364       95.437871      101.998539   \n",
       "min        0.00000     -476.000000     -531.000000     -168.000000   \n",
       "25%        0.00000     -140.750000     -208.500000      -81.250000   \n",
       "50%        0.00000     -109.000000     -150.000000      -29.000000   \n",
       "75%        1.00000      -64.750000      -99.500000       47.000000   \n",
       "max        1.00000       86.000000      -20.000000      262.000000   \n",
       "\n",
       "       AFFX-BioC-5_at  AFFX-BioC-3_at  AFFX-BioDn-5_at  AFFX-BioDn-3_at  \\\n",
       "count       40.000000       40.000000        40.000000        40.000000   \n",
       "mean       209.075000     -250.325000      -379.925000      -118.775000   \n",
       "std        111.000205      107.218776       123.026449       304.307494   \n",
       "min        -24.000000     -496.000000      -696.000000     -1038.000000   \n",
       "25%        124.250000     -316.500000      -461.750000      -269.250000   \n",
       "50%        228.000000     -225.000000      -384.500000       -77.000000   \n",
       "75%        303.750000     -178.750000      -286.250000        20.500000   \n",
       "max        431.000000      -32.000000      -122.000000       367.000000   \n",
       "\n",
       "       AFFX-CreX-5_at  AFFX-CreX-3_at     ...        U48730_at    U58516_at  \\\n",
       "count        40.00000       40.000000     ...        40.000000    40.000000   \n",
       "mean       -195.42500       82.850000     ...       185.175000   641.250000   \n",
       "std         100.91654       99.683743     ...        87.141173   305.573085   \n",
       "min        -452.00000     -148.000000     ...        42.000000    91.000000   \n",
       "25%        -238.50000       -0.250000     ...       133.750000   424.500000   \n",
       "50%        -172.00000       99.000000     ...       179.500000   619.000000   \n",
       "75%        -125.75000      164.500000     ...       227.000000   728.000000   \n",
       "max         -11.00000      283.000000     ...       413.000000  1655.000000   \n",
       "\n",
       "        U73738_at    X06956_at   X16699_at    X83863_at    Z17240_at  \\\n",
       "count   40.000000    40.000000   40.000000    40.000000    40.000000   \n",
       "mean   -14.800000   419.175000  -31.400000   818.875000   283.850000   \n",
       "std     92.745088   394.131039   54.429818   458.186178   197.123227   \n",
       "min   -295.000000   -24.000000 -220.000000    67.000000   -42.000000   \n",
       "25%    -57.250000   241.750000  -57.250000   540.000000   189.000000   \n",
       "50%     10.500000   343.000000  -21.000000   747.000000   282.000000   \n",
       "75%     52.250000   475.750000   11.250000  1042.500000   351.750000   \n",
       "max    132.000000  2527.000000   50.000000  2313.000000  1108.000000   \n",
       "\n",
       "       L49218_f_at  M71243_f_at  Z78285_f_at  \n",
       "count    40.000000    40.000000    40.000000  \n",
       "mean     11.425000   491.450000   -32.750000  \n",
       "std      36.221461   653.148075    37.159221  \n",
       "min    -100.000000   -33.000000  -108.000000  \n",
       "25%      -8.250000   151.000000   -62.750000  \n",
       "50%      10.000000   242.000000   -30.500000  \n",
       "75%      28.250000   536.000000   -12.750000  \n",
       "max      81.000000  3192.000000    78.000000  \n",
       "\n",
       "[8 rows x 7130 columns]"
      ]
     },
     "metadata": {},
     "output_type": "display_data"
    },
    {
     "data": {
      "text/plain": [
       "(40, 7130)"
      ]
     },
     "execution_count": 4,
     "metadata": {},
     "output_type": "execute_result"
    }
   ],
   "source": [
    "# your code here\n",
    "display(data_train.describe())\n",
    "data_train.shape"
   ]
  },
  {
   "cell_type": "code",
   "execution_count": 5,
   "metadata": {},
   "outputs": [
    {
     "data": {
      "text/html": [
       "<div>\n",
       "<style scoped>\n",
       "    .dataframe tbody tr th:only-of-type {\n",
       "        vertical-align: middle;\n",
       "    }\n",
       "\n",
       "    .dataframe tbody tr th {\n",
       "        vertical-align: top;\n",
       "    }\n",
       "\n",
       "    .dataframe thead th {\n",
       "        text-align: right;\n",
       "    }\n",
       "</style>\n",
       "<table border=\"1\" class=\"dataframe\">\n",
       "  <thead>\n",
       "    <tr style=\"text-align: right;\">\n",
       "      <th></th>\n",
       "      <th>AFFX-BioB-5_at</th>\n",
       "      <th>AFFX-BioB-M_at</th>\n",
       "      <th>AFFX-BioB-3_at</th>\n",
       "      <th>AFFX-BioC-5_at</th>\n",
       "      <th>AFFX-BioC-3_at</th>\n",
       "      <th>AFFX-BioDn-5_at</th>\n",
       "      <th>AFFX-BioDn-3_at</th>\n",
       "      <th>AFFX-CreX-5_at</th>\n",
       "      <th>AFFX-CreX-3_at</th>\n",
       "      <th>AFFX-BioB-5_st</th>\n",
       "      <th>...</th>\n",
       "      <th>U58516_at</th>\n",
       "      <th>U73738_at</th>\n",
       "      <th>X06956_at</th>\n",
       "      <th>X16699_at</th>\n",
       "      <th>X83863_at</th>\n",
       "      <th>Z17240_at</th>\n",
       "      <th>L49218_f_at</th>\n",
       "      <th>M71243_f_at</th>\n",
       "      <th>Z78285_f_at</th>\n",
       "      <th>Cancer_type</th>\n",
       "    </tr>\n",
       "  </thead>\n",
       "  <tbody>\n",
       "    <tr>\n",
       "      <th>count</th>\n",
       "      <td>40.000000</td>\n",
       "      <td>40.000000</td>\n",
       "      <td>40.000000</td>\n",
       "      <td>40.000000</td>\n",
       "      <td>40.000000</td>\n",
       "      <td>40.000000</td>\n",
       "      <td>40.000000</td>\n",
       "      <td>40.000000</td>\n",
       "      <td>40.000000</td>\n",
       "      <td>40.000000</td>\n",
       "      <td>...</td>\n",
       "      <td>40.000000</td>\n",
       "      <td>40.000000</td>\n",
       "      <td>40.000000</td>\n",
       "      <td>40.000000</td>\n",
       "      <td>40.000000</td>\n",
       "      <td>40.000000</td>\n",
       "      <td>40.000000</td>\n",
       "      <td>40.000000</td>\n",
       "      <td>40.000000</td>\n",
       "      <td>40.00000</td>\n",
       "    </tr>\n",
       "    <tr>\n",
       "      <th>mean</th>\n",
       "      <td>0.640347</td>\n",
       "      <td>0.719472</td>\n",
       "      <td>0.369477</td>\n",
       "      <td>0.512253</td>\n",
       "      <td>0.529472</td>\n",
       "      <td>0.550653</td>\n",
       "      <td>0.654253</td>\n",
       "      <td>0.581803</td>\n",
       "      <td>0.535615</td>\n",
       "      <td>0.560692</td>\n",
       "      <td>...</td>\n",
       "      <td>0.351822</td>\n",
       "      <td>0.656206</td>\n",
       "      <td>0.173726</td>\n",
       "      <td>0.698519</td>\n",
       "      <td>0.334762</td>\n",
       "      <td>0.283348</td>\n",
       "      <td>0.615608</td>\n",
       "      <td>0.162620</td>\n",
       "      <td>0.404570</td>\n",
       "      <td>0.37500</td>\n",
       "    </tr>\n",
       "    <tr>\n",
       "      <th>std</th>\n",
       "      <td>0.182889</td>\n",
       "      <td>0.186767</td>\n",
       "      <td>0.237206</td>\n",
       "      <td>0.243956</td>\n",
       "      <td>0.231075</td>\n",
       "      <td>0.214332</td>\n",
       "      <td>0.216589</td>\n",
       "      <td>0.228836</td>\n",
       "      <td>0.231285</td>\n",
       "      <td>0.216291</td>\n",
       "      <td>...</td>\n",
       "      <td>0.195379</td>\n",
       "      <td>0.217202</td>\n",
       "      <td>0.154501</td>\n",
       "      <td>0.201592</td>\n",
       "      <td>0.204001</td>\n",
       "      <td>0.171412</td>\n",
       "      <td>0.200119</td>\n",
       "      <td>0.202527</td>\n",
       "      <td>0.199781</td>\n",
       "      <td>0.49029</td>\n",
       "    </tr>\n",
       "    <tr>\n",
       "      <th>min</th>\n",
       "      <td>0.000000</td>\n",
       "      <td>0.000000</td>\n",
       "      <td>0.000000</td>\n",
       "      <td>0.000000</td>\n",
       "      <td>0.000000</td>\n",
       "      <td>0.000000</td>\n",
       "      <td>0.000000</td>\n",
       "      <td>0.000000</td>\n",
       "      <td>0.000000</td>\n",
       "      <td>0.000000</td>\n",
       "      <td>...</td>\n",
       "      <td>0.000000</td>\n",
       "      <td>0.000000</td>\n",
       "      <td>0.000000</td>\n",
       "      <td>0.000000</td>\n",
       "      <td>0.000000</td>\n",
       "      <td>0.000000</td>\n",
       "      <td>0.000000</td>\n",
       "      <td>0.000000</td>\n",
       "      <td>0.000000</td>\n",
       "      <td>0.00000</td>\n",
       "    </tr>\n",
       "    <tr>\n",
       "      <th>25%</th>\n",
       "      <td>0.596530</td>\n",
       "      <td>0.631115</td>\n",
       "      <td>0.201744</td>\n",
       "      <td>0.325824</td>\n",
       "      <td>0.386853</td>\n",
       "      <td>0.408101</td>\n",
       "      <td>0.547153</td>\n",
       "      <td>0.484127</td>\n",
       "      <td>0.342807</td>\n",
       "      <td>0.389979</td>\n",
       "      <td>...</td>\n",
       "      <td>0.213235</td>\n",
       "      <td>0.556792</td>\n",
       "      <td>0.104175</td>\n",
       "      <td>0.602778</td>\n",
       "      <td>0.210597</td>\n",
       "      <td>0.200870</td>\n",
       "      <td>0.506906</td>\n",
       "      <td>0.057054</td>\n",
       "      <td>0.243280</td>\n",
       "      <td>0.00000</td>\n",
       "    </tr>\n",
       "    <tr>\n",
       "      <th>50%</th>\n",
       "      <td>0.653025</td>\n",
       "      <td>0.745597</td>\n",
       "      <td>0.323256</td>\n",
       "      <td>0.553846</td>\n",
       "      <td>0.584052</td>\n",
       "      <td>0.542683</td>\n",
       "      <td>0.683986</td>\n",
       "      <td>0.634921</td>\n",
       "      <td>0.573086</td>\n",
       "      <td>0.617769</td>\n",
       "      <td>...</td>\n",
       "      <td>0.337596</td>\n",
       "      <td>0.715457</td>\n",
       "      <td>0.143865</td>\n",
       "      <td>0.737037</td>\n",
       "      <td>0.302760</td>\n",
       "      <td>0.281739</td>\n",
       "      <td>0.607735</td>\n",
       "      <td>0.085271</td>\n",
       "      <td>0.416667</td>\n",
       "      <td>0.00000</td>\n",
       "    </tr>\n",
       "    <tr>\n",
       "      <th>75%</th>\n",
       "      <td>0.731762</td>\n",
       "      <td>0.844423</td>\n",
       "      <td>0.500000</td>\n",
       "      <td>0.720330</td>\n",
       "      <td>0.683728</td>\n",
       "      <td>0.713850</td>\n",
       "      <td>0.753381</td>\n",
       "      <td>0.739796</td>\n",
       "      <td>0.725058</td>\n",
       "      <td>0.696798</td>\n",
       "      <td>...</td>\n",
       "      <td>0.407289</td>\n",
       "      <td>0.813232</td>\n",
       "      <td>0.195904</td>\n",
       "      <td>0.856481</td>\n",
       "      <td>0.434328</td>\n",
       "      <td>0.342391</td>\n",
       "      <td>0.708564</td>\n",
       "      <td>0.176434</td>\n",
       "      <td>0.512097</td>\n",
       "      <td>1.00000</td>\n",
       "    </tr>\n",
       "    <tr>\n",
       "      <th>max</th>\n",
       "      <td>1.000000</td>\n",
       "      <td>1.000000</td>\n",
       "      <td>1.000000</td>\n",
       "      <td>1.000000</td>\n",
       "      <td>1.000000</td>\n",
       "      <td>1.000000</td>\n",
       "      <td>1.000000</td>\n",
       "      <td>1.000000</td>\n",
       "      <td>1.000000</td>\n",
       "      <td>1.000000</td>\n",
       "      <td>...</td>\n",
       "      <td>1.000000</td>\n",
       "      <td>1.000000</td>\n",
       "      <td>1.000000</td>\n",
       "      <td>1.000000</td>\n",
       "      <td>1.000000</td>\n",
       "      <td>1.000000</td>\n",
       "      <td>1.000000</td>\n",
       "      <td>1.000000</td>\n",
       "      <td>1.000000</td>\n",
       "      <td>1.00000</td>\n",
       "    </tr>\n",
       "  </tbody>\n",
       "</table>\n",
       "<p>8 rows × 7130 columns</p>\n",
       "</div>"
      ],
      "text/plain": [
       "       AFFX-BioB-5_at  AFFX-BioB-M_at  AFFX-BioB-3_at  AFFX-BioC-5_at  \\\n",
       "count       40.000000       40.000000       40.000000       40.000000   \n",
       "mean         0.640347        0.719472        0.369477        0.512253   \n",
       "std          0.182889        0.186767        0.237206        0.243956   \n",
       "min          0.000000        0.000000        0.000000        0.000000   \n",
       "25%          0.596530        0.631115        0.201744        0.325824   \n",
       "50%          0.653025        0.745597        0.323256        0.553846   \n",
       "75%          0.731762        0.844423        0.500000        0.720330   \n",
       "max          1.000000        1.000000        1.000000        1.000000   \n",
       "\n",
       "       AFFX-BioC-3_at  AFFX-BioDn-5_at  AFFX-BioDn-3_at  AFFX-CreX-5_at  \\\n",
       "count       40.000000        40.000000        40.000000       40.000000   \n",
       "mean         0.529472         0.550653         0.654253        0.581803   \n",
       "std          0.231075         0.214332         0.216589        0.228836   \n",
       "min          0.000000         0.000000         0.000000        0.000000   \n",
       "25%          0.386853         0.408101         0.547153        0.484127   \n",
       "50%          0.584052         0.542683         0.683986        0.634921   \n",
       "75%          0.683728         0.713850         0.753381        0.739796   \n",
       "max          1.000000         1.000000         1.000000        1.000000   \n",
       "\n",
       "       AFFX-CreX-3_at  AFFX-BioB-5_st     ...       U58516_at  U73738_at  \\\n",
       "count       40.000000       40.000000     ...       40.000000  40.000000   \n",
       "mean         0.535615        0.560692     ...        0.351822   0.656206   \n",
       "std          0.231285        0.216291     ...        0.195379   0.217202   \n",
       "min          0.000000        0.000000     ...        0.000000   0.000000   \n",
       "25%          0.342807        0.389979     ...        0.213235   0.556792   \n",
       "50%          0.573086        0.617769     ...        0.337596   0.715457   \n",
       "75%          0.725058        0.696798     ...        0.407289   0.813232   \n",
       "max          1.000000        1.000000     ...        1.000000   1.000000   \n",
       "\n",
       "       X06956_at  X16699_at  X83863_at  Z17240_at  L49218_f_at  M71243_f_at  \\\n",
       "count  40.000000  40.000000  40.000000  40.000000    40.000000    40.000000   \n",
       "mean    0.173726   0.698519   0.334762   0.283348     0.615608     0.162620   \n",
       "std     0.154501   0.201592   0.204001   0.171412     0.200119     0.202527   \n",
       "min     0.000000   0.000000   0.000000   0.000000     0.000000     0.000000   \n",
       "25%     0.104175   0.602778   0.210597   0.200870     0.506906     0.057054   \n",
       "50%     0.143865   0.737037   0.302760   0.281739     0.607735     0.085271   \n",
       "75%     0.195904   0.856481   0.434328   0.342391     0.708564     0.176434   \n",
       "max     1.000000   1.000000   1.000000   1.000000     1.000000     1.000000   \n",
       "\n",
       "       Z78285_f_at  Cancer_type  \n",
       "count    40.000000     40.00000  \n",
       "mean      0.404570      0.37500  \n",
       "std       0.199781      0.49029  \n",
       "min       0.000000      0.00000  \n",
       "25%       0.243280      0.00000  \n",
       "50%       0.416667      0.00000  \n",
       "75%       0.512097      1.00000  \n",
       "max       1.000000      1.00000  \n",
       "\n",
       "[8 rows x 7130 columns]"
      ]
     },
     "metadata": {},
     "output_type": "display_data"
    },
    {
     "data": {
      "text/html": [
       "<div>\n",
       "<style scoped>\n",
       "    .dataframe tbody tr th:only-of-type {\n",
       "        vertical-align: middle;\n",
       "    }\n",
       "\n",
       "    .dataframe tbody tr th {\n",
       "        vertical-align: top;\n",
       "    }\n",
       "\n",
       "    .dataframe thead th {\n",
       "        text-align: right;\n",
       "    }\n",
       "</style>\n",
       "<table border=\"1\" class=\"dataframe\">\n",
       "  <thead>\n",
       "    <tr style=\"text-align: right;\">\n",
       "      <th></th>\n",
       "      <th>AFFX-BioB-5_at</th>\n",
       "      <th>AFFX-BioB-M_at</th>\n",
       "      <th>AFFX-BioB-3_at</th>\n",
       "      <th>AFFX-BioC-5_at</th>\n",
       "      <th>AFFX-BioC-3_at</th>\n",
       "      <th>AFFX-BioDn-5_at</th>\n",
       "      <th>AFFX-BioDn-3_at</th>\n",
       "      <th>AFFX-CreX-5_at</th>\n",
       "      <th>AFFX-CreX-3_at</th>\n",
       "      <th>AFFX-BioB-5_st</th>\n",
       "      <th>...</th>\n",
       "      <th>U58516_at</th>\n",
       "      <th>U73738_at</th>\n",
       "      <th>X06956_at</th>\n",
       "      <th>X16699_at</th>\n",
       "      <th>X83863_at</th>\n",
       "      <th>Z17240_at</th>\n",
       "      <th>L49218_f_at</th>\n",
       "      <th>M71243_f_at</th>\n",
       "      <th>Z78285_f_at</th>\n",
       "      <th>Cancer_type</th>\n",
       "    </tr>\n",
       "  </thead>\n",
       "  <tbody>\n",
       "    <tr>\n",
       "      <th>count</th>\n",
       "      <td>33.000000</td>\n",
       "      <td>33.000000</td>\n",
       "      <td>33.000000</td>\n",
       "      <td>33.000000</td>\n",
       "      <td>33.000000</td>\n",
       "      <td>33.000000</td>\n",
       "      <td>33.000000</td>\n",
       "      <td>33.000000</td>\n",
       "      <td>33.000000</td>\n",
       "      <td>33.000000</td>\n",
       "      <td>...</td>\n",
       "      <td>33.000000</td>\n",
       "      <td>33.000000</td>\n",
       "      <td>33.000000</td>\n",
       "      <td>33.000000</td>\n",
       "      <td>33.000000</td>\n",
       "      <td>33.000000</td>\n",
       "      <td>33.000000</td>\n",
       "      <td>33.000000</td>\n",
       "      <td>33.000000</td>\n",
       "      <td>33.000000</td>\n",
       "    </tr>\n",
       "    <tr>\n",
       "      <th>mean</th>\n",
       "      <td>0.641055</td>\n",
       "      <td>0.733737</td>\n",
       "      <td>0.371388</td>\n",
       "      <td>0.409524</td>\n",
       "      <td>0.512409</td>\n",
       "      <td>0.479516</td>\n",
       "      <td>0.744937</td>\n",
       "      <td>0.606473</td>\n",
       "      <td>0.533502</td>\n",
       "      <td>0.617612</td>\n",
       "      <td>...</td>\n",
       "      <td>0.387352</td>\n",
       "      <td>0.664112</td>\n",
       "      <td>0.141442</td>\n",
       "      <td>0.679686</td>\n",
       "      <td>0.297215</td>\n",
       "      <td>0.322661</td>\n",
       "      <td>0.597355</td>\n",
       "      <td>0.120583</td>\n",
       "      <td>0.429456</td>\n",
       "      <td>0.303030</td>\n",
       "    </tr>\n",
       "    <tr>\n",
       "      <th>std</th>\n",
       "      <td>0.165245</td>\n",
       "      <td>0.189658</td>\n",
       "      <td>0.335398</td>\n",
       "      <td>0.239065</td>\n",
       "      <td>0.298177</td>\n",
       "      <td>0.309424</td>\n",
       "      <td>0.174231</td>\n",
       "      <td>0.222876</td>\n",
       "      <td>0.187403</td>\n",
       "      <td>0.252654</td>\n",
       "      <td>...</td>\n",
       "      <td>0.194909</td>\n",
       "      <td>0.193956</td>\n",
       "      <td>0.138439</td>\n",
       "      <td>0.180964</td>\n",
       "      <td>0.194876</td>\n",
       "      <td>0.186667</td>\n",
       "      <td>0.296720</td>\n",
       "      <td>0.179463</td>\n",
       "      <td>0.233766</td>\n",
       "      <td>0.466694</td>\n",
       "    </tr>\n",
       "    <tr>\n",
       "      <th>min</th>\n",
       "      <td>0.112100</td>\n",
       "      <td>0.174168</td>\n",
       "      <td>-0.562791</td>\n",
       "      <td>-0.026374</td>\n",
       "      <td>-0.096983</td>\n",
       "      <td>-0.198606</td>\n",
       "      <td>0.489680</td>\n",
       "      <td>-0.024943</td>\n",
       "      <td>0.153132</td>\n",
       "      <td>0.261364</td>\n",
       "      <td>...</td>\n",
       "      <td>0.021739</td>\n",
       "      <td>0.257611</td>\n",
       "      <td>0.014504</td>\n",
       "      <td>0.266667</td>\n",
       "      <td>0.029386</td>\n",
       "      <td>0.035652</td>\n",
       "      <td>-0.591160</td>\n",
       "      <td>-0.010853</td>\n",
       "      <td>-0.440860</td>\n",
       "      <td>0.000000</td>\n",
       "    </tr>\n",
       "    <tr>\n",
       "      <th>25%</th>\n",
       "      <td>0.560498</td>\n",
       "      <td>0.618395</td>\n",
       "      <td>0.255814</td>\n",
       "      <td>0.232967</td>\n",
       "      <td>0.312500</td>\n",
       "      <td>0.240418</td>\n",
       "      <td>0.620641</td>\n",
       "      <td>0.519274</td>\n",
       "      <td>0.406032</td>\n",
       "      <td>0.462810</td>\n",
       "      <td>...</td>\n",
       "      <td>0.268542</td>\n",
       "      <td>0.578454</td>\n",
       "      <td>0.076833</td>\n",
       "      <td>0.551852</td>\n",
       "      <td>0.203028</td>\n",
       "      <td>0.184348</td>\n",
       "      <td>0.508287</td>\n",
       "      <td>0.046202</td>\n",
       "      <td>0.349462</td>\n",
       "      <td>0.000000</td>\n",
       "    </tr>\n",
       "    <tr>\n",
       "      <th>50%</th>\n",
       "      <td>0.683274</td>\n",
       "      <td>0.767123</td>\n",
       "      <td>0.374419</td>\n",
       "      <td>0.373626</td>\n",
       "      <td>0.566810</td>\n",
       "      <td>0.496516</td>\n",
       "      <td>0.716726</td>\n",
       "      <td>0.625850</td>\n",
       "      <td>0.494200</td>\n",
       "      <td>0.583678</td>\n",
       "      <td>...</td>\n",
       "      <td>0.350384</td>\n",
       "      <td>0.662763</td>\n",
       "      <td>0.103489</td>\n",
       "      <td>0.677778</td>\n",
       "      <td>0.269368</td>\n",
       "      <td>0.322609</td>\n",
       "      <td>0.607735</td>\n",
       "      <td>0.074729</td>\n",
       "      <td>0.451613</td>\n",
       "      <td>0.000000</td>\n",
       "    </tr>\n",
       "    <tr>\n",
       "      <th>75%</th>\n",
       "      <td>0.749110</td>\n",
       "      <td>0.872798</td>\n",
       "      <td>0.504651</td>\n",
       "      <td>0.558242</td>\n",
       "      <td>0.698276</td>\n",
       "      <td>0.736934</td>\n",
       "      <td>0.839146</td>\n",
       "      <td>0.752834</td>\n",
       "      <td>0.635731</td>\n",
       "      <td>0.721074</td>\n",
       "      <td>...</td>\n",
       "      <td>0.475703</td>\n",
       "      <td>0.768150</td>\n",
       "      <td>0.163073</td>\n",
       "      <td>0.796296</td>\n",
       "      <td>0.330365</td>\n",
       "      <td>0.423478</td>\n",
       "      <td>0.751381</td>\n",
       "      <td>0.090853</td>\n",
       "      <td>0.575269</td>\n",
       "      <td>1.000000</td>\n",
       "    </tr>\n",
       "    <tr>\n",
       "      <th>max</th>\n",
       "      <td>0.873665</td>\n",
       "      <td>1.013699</td>\n",
       "      <td>1.116279</td>\n",
       "      <td>0.923077</td>\n",
       "      <td>1.314655</td>\n",
       "      <td>0.954704</td>\n",
       "      <td>1.243416</td>\n",
       "      <td>0.970522</td>\n",
       "      <td>0.928074</td>\n",
       "      <td>1.390496</td>\n",
       "      <td>...</td>\n",
       "      <td>0.872123</td>\n",
       "      <td>1.201405</td>\n",
       "      <td>0.769502</td>\n",
       "      <td>1.007407</td>\n",
       "      <td>0.838379</td>\n",
       "      <td>0.824348</td>\n",
       "      <td>1.187845</td>\n",
       "      <td>0.791628</td>\n",
       "      <td>0.795699</td>\n",
       "      <td>1.000000</td>\n",
       "    </tr>\n",
       "  </tbody>\n",
       "</table>\n",
       "<p>8 rows × 7130 columns</p>\n",
       "</div>"
      ],
      "text/plain": [
       "       AFFX-BioB-5_at  AFFX-BioB-M_at  AFFX-BioB-3_at  AFFX-BioC-5_at  \\\n",
       "count       33.000000       33.000000       33.000000       33.000000   \n",
       "mean         0.641055        0.733737        0.371388        0.409524   \n",
       "std          0.165245        0.189658        0.335398        0.239065   \n",
       "min          0.112100        0.174168       -0.562791       -0.026374   \n",
       "25%          0.560498        0.618395        0.255814        0.232967   \n",
       "50%          0.683274        0.767123        0.374419        0.373626   \n",
       "75%          0.749110        0.872798        0.504651        0.558242   \n",
       "max          0.873665        1.013699        1.116279        0.923077   \n",
       "\n",
       "       AFFX-BioC-3_at  AFFX-BioDn-5_at  AFFX-BioDn-3_at  AFFX-CreX-5_at  \\\n",
       "count       33.000000        33.000000        33.000000       33.000000   \n",
       "mean         0.512409         0.479516         0.744937        0.606473   \n",
       "std          0.298177         0.309424         0.174231        0.222876   \n",
       "min         -0.096983        -0.198606         0.489680       -0.024943   \n",
       "25%          0.312500         0.240418         0.620641        0.519274   \n",
       "50%          0.566810         0.496516         0.716726        0.625850   \n",
       "75%          0.698276         0.736934         0.839146        0.752834   \n",
       "max          1.314655         0.954704         1.243416        0.970522   \n",
       "\n",
       "       AFFX-CreX-3_at  AFFX-BioB-5_st     ...       U58516_at  U73738_at  \\\n",
       "count       33.000000       33.000000     ...       33.000000  33.000000   \n",
       "mean         0.533502        0.617612     ...        0.387352   0.664112   \n",
       "std          0.187403        0.252654     ...        0.194909   0.193956   \n",
       "min          0.153132        0.261364     ...        0.021739   0.257611   \n",
       "25%          0.406032        0.462810     ...        0.268542   0.578454   \n",
       "50%          0.494200        0.583678     ...        0.350384   0.662763   \n",
       "75%          0.635731        0.721074     ...        0.475703   0.768150   \n",
       "max          0.928074        1.390496     ...        0.872123   1.201405   \n",
       "\n",
       "       X06956_at  X16699_at  X83863_at  Z17240_at  L49218_f_at  M71243_f_at  \\\n",
       "count  33.000000  33.000000  33.000000  33.000000    33.000000    33.000000   \n",
       "mean    0.141442   0.679686   0.297215   0.322661     0.597355     0.120583   \n",
       "std     0.138439   0.180964   0.194876   0.186667     0.296720     0.179463   \n",
       "min     0.014504   0.266667   0.029386   0.035652    -0.591160    -0.010853   \n",
       "25%     0.076833   0.551852   0.203028   0.184348     0.508287     0.046202   \n",
       "50%     0.103489   0.677778   0.269368   0.322609     0.607735     0.074729   \n",
       "75%     0.163073   0.796296   0.330365   0.423478     0.751381     0.090853   \n",
       "max     0.769502   1.007407   0.838379   0.824348     1.187845     0.791628   \n",
       "\n",
       "       Z78285_f_at  Cancer_type  \n",
       "count    33.000000    33.000000  \n",
       "mean      0.429456     0.303030  \n",
       "std       0.233766     0.466694  \n",
       "min      -0.440860     0.000000  \n",
       "25%       0.349462     0.000000  \n",
       "50%       0.451613     0.000000  \n",
       "75%       0.575269     1.000000  \n",
       "max       0.795699     1.000000  \n",
       "\n",
       "[8 rows x 7130 columns]"
      ]
     },
     "metadata": {},
     "output_type": "display_data"
    }
   ],
   "source": [
    "def normalize(df_scale, df_fit=data_train, feature_range=(0,1)):\n",
    "    fit_df = df_fit.loc[df_fit.index, df_fit.columns!='Cancer_type']\n",
    "    scale_df = df_scale.loc[df_scale.index, df_scale.columns!='Cancer_type']\n",
    "    scaler = MinMaxScaler().fit(fit_df)\n",
    "    scaled_array = scaler.transform(scale_df)\n",
    "    scaled_df = pd.DataFrame(scaled_array, index = scale_df.index, columns=scale_df.columns)\n",
    "    scaled_df['Cancer_type'] = df['Cancer_type']\n",
    "    return(scaled_df)\n",
    "\n",
    "train_normed = normalize(data_train)\n",
    "test_normed = normalize(data_test)\n",
    "display(train_normed.describe())\n",
    "display(test_normed.describe())"
   ]
  },
  {
   "cell_type": "markdown",
   "metadata": {},
   "source": [
    "**Answer:** \n",
    "*We do see a lot of variation in the minimum and maximum values for different variables in the raw training set which points to possible difference in measurement units for each of these gene types. So we use `MinMaxScaler()` and fit it on our training set and then transform both train and test set using that fit. We can see the output for normalized train and test sets above produces all variables in the range $(0,1)$  for the train set and very closely in $(0,1)$ for the test set.*"
   ]
  },
  {
   "cell_type": "markdown",
   "metadata": {},
   "source": [
    "**1.2:** Notice that the resulting training set contains..."
   ]
  },
  {
   "cell_type": "code",
   "execution_count": 6,
   "metadata": {},
   "outputs": [
    {
     "data": {
      "text/plain": [
       "(40, 7130)"
      ]
     },
     "execution_count": 6,
     "metadata": {},
     "output_type": "execute_result"
    }
   ],
   "source": [
    "# your code here\n",
    "train_normed.shape"
   ]
  },
  {
   "cell_type": "markdown",
   "metadata": {},
   "source": [
    "**Answer:**\n",
    "*With $p>n$, there can be many solutions to find a model with zero error. Meaning we will get an $R^2$ of 1 on the train set. But that model will be overfit on the train set and that not all variables mgiht be important for prediction. Thus, we need to find ways to reduce the dimensions and fit the classification model to just a few predictors.* \n"
   ]
  },
  {
   "cell_type": "markdown",
   "metadata": {},
   "source": [
    "**1.3:** Let's explore a few of the genes..."
   ]
  },
  {
   "cell_type": "code",
   "execution_count": 7,
   "metadata": {},
   "outputs": [
    {
     "data": {
      "text/plain": [
       "Text(0.5,0.95,'Histogram: Gene Expression Levels for Cancer Type (ALL vs. AML)')"
      ]
     },
     "execution_count": 7,
     "metadata": {},
     "output_type": "execute_result"
    },
    {
     "data": {
      "image/png": "[encoded data removed]",
      "text/plain": [
       "<Figure size 1008x1008 with 4 Axes>"
      ]
     },
     "metadata": {},
     "output_type": "display_data"
    }
   ],
   "source": [
    "# your code here\n",
    "gene_plot = ['D29963_at', 'M23161_at', 'hum_alu_at', 'AFFX-PheX-5_at']\n",
    "\n",
    "fig, ax = plt.subplots(2, 2, figsize = (14,14))\n",
    "i=0 \n",
    "j=0 \n",
    "k=0\n",
    "for gene in gene_plot:\n",
    "    #ax[i,j].set_title('Gene: %s'%gene)\n",
    "    for a in range(0,2):\n",
    "        can_type = 'ALL' if a==0 else 'AML'\n",
    "        ax[i,j].hist(train_normed[train_normed['Cancer_type']==a][gene], alpha=0.5, label=can_type)\n",
    "    ax[i,j].set_xlabel('Expression Level', fontsize=14)\n",
    "    ax[i,j].set_title('Gene: %s'%gene, fontsize=14)\n",
    "    ax[i,j].legend(loc='best', fontsize=14)\n",
    "    ax[i,j].tick_params(labelsize=14)\n",
    "    if k in [1,3]: \n",
    "        i=i+1\n",
    "        j=j-1\n",
    "    else: j=j+1\n",
    "    k=k+1\n",
    "fig.suptitle('Histogram: Gene Expression Levels for Cancer Type (ALL vs. AML)', y=0.95, fontsize=16)"
   ]
  },
  {
   "cell_type": "markdown",
   "metadata": {},
   "source": [
    "**Answer:**\n",
    "*We see that gene `D29963_at` and `hum_alu_at` seem to have a higher mean for AML as compared to ALL. Gene `M23161_at` seems to have lower mean for AML than ALL. It also has very low counts for AML compared to ALL. `AFFX-PheX-5_at` doesn't show any visible difference between the two classes.*"
   ]
  },
  {
   "cell_type": "markdown",
   "metadata": {},
   "source": [
    "**1.4:** Since our data has dimensions that are not easily visualizable..."
   ]
  },
  {
   "cell_type": "code",
   "execution_count": 8,
   "metadata": {},
   "outputs": [
    {
     "name": "stdout",
     "output_type": "stream",
     "text": [
      "0.2731782945208861\n"
     ]
    },
    {
     "data": {
      "text/plain": [
       "<matplotlib.legend.Legend at 0xead44957f0>"
      ]
     },
     "execution_count": 8,
     "metadata": {},
     "output_type": "execute_result"
    },
    {
     "data": {
      "image/png": "[encoded data removed]",
      "text/plain": [
       "<Figure size 576x576 with 1 Axes>"
      ]
     },
     "metadata": {},
     "output_type": "display_data"
    }
   ],
   "source": [
    "# your code here\n",
    "X_train = train_normed.loc[train_normed.index, train_normed.columns!='Cancer_type']\n",
    "y_train = train_normed['Cancer_type']\n",
    "X_test = test_normed.loc[test_normed.index, test_normed.columns!='Cancer_type']\n",
    "y_test = test_normed['Cancer_type']\n",
    "\n",
    "pca2d = PCA(2).fit(X_train)\n",
    "x_train_2d = pd.DataFrame(pca2d.transform(X_train), index=X_train.index, columns=['PCA1','PCA2'])\n",
    "x_test_2d = pd.DataFrame(pca2d.transform(X_test), index=X_test.index, columns=['PCA1','PCA2'])\n",
    "\n",
    "a = np.cumsum(pca2d.explained_variance_ratio_)[1]\n",
    "print(a)\n",
    "\n",
    "can_type = ['ALL','AML']\n",
    "marker = ['o','*']\n",
    "color = ['red', 'blue'] \n",
    "\n",
    "fig_pc, ax_pc = plt.subplots(1,1, figsize=(8,8))\n",
    "for a in range(0,2):\n",
    "    ax_pc.scatter(x_train_2d.loc[y_train==a, x_train_2d.columns=='PCA1'], x_train_2d.loc[y_train==a,x_train_2d.columns=='PCA2'], \n",
    "                  label=can_type[a], marker=marker[a], color=color[a])\n",
    "ax_pc.set_xlabel('1st Principal Component', fontsize=12)\n",
    "ax_pc.set_ylabel('2nd Principal Component', fontsize=12)\n",
    "ax_pc.set_title('ScatterPlot: 2-Dimensional PCA by Cancer Type', fontsize=14)\n",
    "ax_pc.tick_params(labelsize=12)\n",
    "ax_pc.legend(loc='best', fontsize=12)"
   ]
  },
  {
   "cell_type": "markdown",
   "metadata": {},
   "source": [
    "**Answer:**\n",
    "*The $1st$ two principal components explain 27% of the total variance in the entire predictor set. We can also see that the two principal components show a fairly clear discrimination between the two `Cancer_type` classes. We could somewhat imagine a classification boundary with a slope at 45 degree angle and intersecting the $1st$ component axis at almost 0.*"
   ]
  },
  {
   "cell_type": "markdown",
   "metadata": {},
   "source": [
    "**1.5**: Plot the cumulative variance explained in the feature set..."
   ]
  },
  {
   "cell_type": "code",
   "execution_count": 9,
   "metadata": {},
   "outputs": [
    {
     "data": {
      "image/png": "[encoded data removed]",
      "text/plain": [
       "<Figure size 720x504 with 1 Axes>"
      ]
     },
     "metadata": {},
     "output_type": "display_data"
    }
   ],
   "source": [
    "# your code here\n",
    "pca_cols = []\n",
    "for i in range(1,41):\n",
    "    pca_cols.append('PCA%s'%i)\n",
    "\n",
    "pca40d = PCA(40).fit(X_train)\n",
    "x_train_40d = pd.DataFrame(pca40d.transform(X_train), index=X_train.index, columns=pca_cols)\n",
    "x_test_40d = pd.DataFrame(pca40d.transform(X_test), index=X_test.index, columns=pca_cols)\n",
    "\n",
    "var_exp40 = np.cumsum(pca40d.explained_variance_ratio_)\n",
    "\n",
    "fig_40, ax_40 = plt.subplots(1,1, figsize=(10,7))\n",
    "ax_40.plot(var_exp40)\n",
    "ax_40.set_xlabel('Number of Principal Components', fontsize=12)\n",
    "ax_40.set_ylabel('Cumulative Variance Explained', fontsize=12)\n",
    "ax_40.set_title('Explained Variance by Number of Components', fontsize=12)\n",
    "ax_40.tick_params(labelsize=12)"
   ]
  },
  {
   "cell_type": "code",
   "execution_count": 10,
   "metadata": {},
   "outputs": [
    {
     "data": {
      "text/plain": [
       "array([0.15889035, 0.27317829, 0.33914119, 0.3870151 , 0.42957185])"
      ]
     },
     "metadata": {},
     "output_type": "display_data"
    },
    {
     "data": {
      "text/plain": [
       "5"
      ]
     },
     "execution_count": 10,
     "metadata": {},
     "output_type": "execute_result"
    }
   ],
   "source": [
    "var_at_42 = var_exp40[var_exp40>0.42][0]\n",
    "var_42 = var_exp40[var_exp40<=var_at_42]\n",
    "display(var_42)\n",
    "len(var_42)"
   ]
  },
  {
   "cell_type": "code",
   "execution_count": 11,
   "metadata": {},
   "outputs": [
    {
     "data": {
      "text/plain": [
       "array([0.15889035, 0.27317829, 0.33914119, 0.3870151 , 0.42957185,\n",
       "       0.46789439, 0.50053032, 0.52950387, 0.55619709, 0.58074806,\n",
       "       0.60440367, 0.62741071, 0.64863686, 0.66873622, 0.68841059,\n",
       "       0.70768316, 0.72622259, 0.74356872, 0.76077827, 0.7773256 ,\n",
       "       0.79281807, 0.80798491, 0.82297995, 0.83725127, 0.85111525,\n",
       "       0.86445647, 0.87761542, 0.89045139, 0.90268704])"
      ]
     },
     "metadata": {},
     "output_type": "display_data"
    },
    {
     "data": {
      "text/plain": [
       "29"
      ]
     },
     "execution_count": 11,
     "metadata": {},
     "output_type": "execute_result"
    }
   ],
   "source": [
    "var_at_90 = var_exp40[var_exp40>0.9][0]\n",
    "var_90 = var_exp40[var_exp40<=var_at_90]\n",
    "display(var_90)\n",
    "len(var_90)"
   ]
  },
  {
   "cell_type": "markdown",
   "metadata": {},
   "source": [
    "**Answer:**\n",
    "*2 components might not be enough since they explain only 27% of the total variance in the predictor set and the slope of the curve seems to be still steep enough beyond the 1st two components. At the same time, we should keep in mind that principal components are independent of the response variable. Although the first 5 components explain only 42% of the variance, the slope seems to be significantly steep for the first five components and we don't want to overfit on our training data. Hence, we'll be selecting the first 5 principal components.*"
   ]
  },
  {
   "cell_type": "markdown",
   "metadata": {},
   "source": [
    "<div class='exercise'> <b> Question 2 [25 pts]: Linear Regression vs. Logistic Regression </b> </div>\n",
    "\n",
    "In class we discussed how to use both linear regression and logistic regression for classification. For this question, you will work with a single gene predictor, `D29963_at`, to explore these two methods.\n",
    "\n",
    "**2.1** Fit a simple linear regression model to the training set using the single gene predictor `D29963_at` to predict cancer type and plot the histogram of predicted values. We could interpret the scores predicted by the regression model for a patient as an estimate of the probability that the patient has `Cancer_type`=1 (AML). Is there a problem with this interpretation?\n",
    "\n",
    "**2.2** The fitted linear regression model can be converted to a classification model (i.e. a model that predicts one of two binary classes 0 or 1) by classifying patients with predicted score greater than 0.5 into `Cancer_type`=1, and the others into the `Cancer_type`=0. Evaluate the classification accuracy of the obtained classification model on both the training and test sets.\n",
    "\n",
    "**2.3** Next, fit a simple logistic regression model to the training set. How do the training and test classification accuracies of this model compare with the linear regression model? If there are no substantial differences, why do you think this happens? \n",
    "\n",
    "Remember, you need to set the regularization parameter for sklearn's logistic regression function to be a very large value in order to **not** regularize (use 'C=100000').  \n",
    "\n",
    "**2.4** Create a figure with 4 items displayed on the same plot:\n",
    "- the quantitative response from the linear regression model as a function of the gene predictor `D29963_at`.\n",
    "- the predicted probabilities of the logistic regression model as a function of the gene predictor `D29963_at`.  \n",
    "- the true binary response for the test set points for both models in the same plot. \n",
    "- a horizontal line at $y=0.5$. \n",
    "\n",
    "Based on these plots, does one of the models appear better suited for binary classification than the other?  Explain in 3 sentences or fewer. \n",
    "\n",
    "\n"
   ]
  },
  {
   "cell_type": "markdown",
   "metadata": {},
   "source": [
    "#### Answers: \n",
    "\n",
    "**2.1:** Fit a simple linear regression model to the training set"
   ]
  },
  {
   "cell_type": "code",
   "execution_count": 12,
   "metadata": {},
   "outputs": [
    {
     "data": {
      "text/html": [
       "<table class=\"simpletable\">\n",
       "<caption>OLS Regression Results</caption>\n",
       "<tr>\n",
       "  <th>Dep. Variable:</th>       <td>Cancer_type</td>   <th>  R-squared:         </th> <td>   0.329</td>\n",
       "</tr>\n",
       "<tr>\n",
       "  <th>Model:</th>                   <td>OLS</td>       <th>  Adj. R-squared:    </th> <td>   0.311</td>\n",
       "</tr>\n",
       "<tr>\n",
       "  <th>Method:</th>             <td>Least Squares</td>  <th>  F-statistic:       </th> <td>   18.61</td>\n",
       "</tr>\n",
       "<tr>\n",
       "  <th>Date:</th>             <td>Wed, 24 Oct 2018</td> <th>  Prob (F-statistic):</th> <td>0.000110</td>\n",
       "</tr>\n",
       "<tr>\n",
       "  <th>Time:</th>                 <td>00:57:56</td>     <th>  Log-Likelihood:    </th> <td> -19.769</td>\n",
       "</tr>\n",
       "<tr>\n",
       "  <th>No. Observations:</th>      <td>    40</td>      <th>  AIC:               </th> <td>   43.54</td>\n",
       "</tr>\n",
       "<tr>\n",
       "  <th>Df Residuals:</th>          <td>    38</td>      <th>  BIC:               </th> <td>   46.92</td>\n",
       "</tr>\n",
       "<tr>\n",
       "  <th>Df Model:</th>              <td>     1</td>      <th>                     </th>     <td> </td>   \n",
       "</tr>\n",
       "<tr>\n",
       "  <th>Covariance Type:</th>      <td>nonrobust</td>    <th>                     </th>     <td> </td>   \n",
       "</tr>\n",
       "</table>\n",
       "<table class=\"simpletable\">\n",
       "<tr>\n",
       "      <td></td>         <th>coef</th>     <th>std err</th>      <th>t</th>      <th>P>|t|</th>  <th>[0.025</th>    <th>0.975]</th>  \n",
       "</tr>\n",
       "<tr>\n",
       "  <th>const</th>     <td>   -0.0587</td> <td>    0.119</td> <td>   -0.492</td> <td> 0.625</td> <td>   -0.300</td> <td>    0.183</td>\n",
       "</tr>\n",
       "<tr>\n",
       "  <th>D29963_at</th> <td>    1.2764</td> <td>    0.296</td> <td>    4.314</td> <td> 0.000</td> <td>    0.677</td> <td>    1.875</td>\n",
       "</tr>\n",
       "</table>\n",
       "<table class=\"simpletable\">\n",
       "<tr>\n",
       "  <th>Omnibus:</th>       <td> 5.833</td> <th>  Durbin-Watson:     </th> <td>   0.838</td>\n",
       "</tr>\n",
       "<tr>\n",
       "  <th>Prob(Omnibus):</th> <td> 0.054</td> <th>  Jarque-Bera (JB):  </th> <td>   5.011</td>\n",
       "</tr>\n",
       "<tr>\n",
       "  <th>Skew:</th>          <td> 0.775</td> <th>  Prob(JB):          </th> <td>  0.0816</td>\n",
       "</tr>\n",
       "<tr>\n",
       "  <th>Kurtosis:</th>      <td> 2.222</td> <th>  Cond. No.          </th> <td>    5.15</td>\n",
       "</tr>\n",
       "</table><br/><br/>Warnings:<br/>[1] Standard Errors assume that the covariance matrix of the errors is correctly specified."
      ],
      "text/plain": [
       "<class 'statsmodels.iolib.summary.Summary'>\n",
       "\"\"\"\n",
       "                            OLS Regression Results                            \n",
       "==============================================================================\n",
       "Dep. Variable:            Cancer_type   R-squared:                       0.329\n",
       "Model:                            OLS   Adj. R-squared:                  0.311\n",
       "Method:                 Least Squares   F-statistic:                     18.61\n",
       "Date:                Wed, 24 Oct 2018   Prob (F-statistic):           0.000110\n",
       "Time:                        00:57:56   Log-Likelihood:                -19.769\n",
       "No. Observations:                  40   AIC:                             43.54\n",
       "Df Residuals:                      38   BIC:                             46.92\n",
       "Df Model:                           1                                         \n",
       "Covariance Type:            nonrobust                                         \n",
       "==============================================================================\n",
       "                 coef    std err          t      P>|t|      [0.025      0.975]\n",
       "------------------------------------------------------------------------------\n",
       "const         -0.0587      0.119     -0.492      0.625      -0.300       0.183\n",
       "D29963_at      1.2764      0.296      4.314      0.000       0.677       1.875\n",
       "==============================================================================\n",
       "Omnibus:                        5.833   Durbin-Watson:                   0.838\n",
       "Prob(Omnibus):                  0.054   Jarque-Bera (JB):                5.011\n",
       "Skew:                           0.775   Prob(JB):                       0.0816\n",
       "Kurtosis:                       2.222   Cond. No.                         5.15\n",
       "==============================================================================\n",
       "\n",
       "Warnings:\n",
       "[1] Standard Errors assume that the covariance matrix of the errors is correctly specified.\n",
       "\"\"\""
      ]
     },
     "metadata": {},
     "output_type": "display_data"
    },
    {
     "data": {
      "image/png": "[encoded data removed]",
      "text/plain": [
       "<Figure size 504x504 with 1 Axes>"
      ]
     },
     "metadata": {},
     "output_type": "display_data"
    }
   ],
   "source": [
    "# your code here\n",
    "lm_reg = OLS(y_train, sm.add_constant(X_train['D29963_at']))\n",
    "OLSModel = lm_reg.fit()\n",
    "display(OLSModel.summary())\n",
    "\n",
    "fig, ax = plt.subplots(1,1,figsize=(7,7))\n",
    "ax.hist(OLSModel.predict(sm.add_constant(X_train['D29963_at'])))\n",
    "ax.set_xlabel('Predicted Values', fontsize=12)\n",
    "ax.set_title('Histogram for Predicted Values (OLS)', fontsize=14)\n",
    "ax.tick_params(labelsize=12)"
   ]
  },
  {
   "cell_type": "markdown",
   "metadata": {},
   "source": [
    "**Answer:**\n",
    "*We can clearly see that the predicted values go outside the range of $(0,1)$. This is because the model is trying to formulate a unit change in the response variable in terms of unit change in the gene `D29963_at`, meaning that its treating our response variable as quantitative. Also, as we get closer to 1 or 0, increase or decrease in the gene expression level might not yeild us much different results in reality but the model will still give it a significance even if our response goes beyond $(0,1)$.*"
   ]
  },
  {
   "cell_type": "markdown",
   "metadata": {},
   "source": [
    "**2.2:** The fitted linear regression model can be converted to a classification model..."
   ]
  },
  {
   "cell_type": "code",
   "execution_count": 13,
   "metadata": {},
   "outputs": [
    {
     "name": "stdout",
     "output_type": "stream",
     "text": [
      "Train Set Accuracy Score for OLS: 0.8\n",
      "Test Set Accuracy Score for OLS: 0.7575757575757576\n"
     ]
    }
   ],
   "source": [
    "# your code here\n",
    "y_train_pred = OLSModel.predict(sm.add_constant(X_train['D29963_at']))\n",
    "y_test_pred = OLSModel.predict(sm.add_constant(X_test['D29963_at']))\n",
    "\n",
    "y_train_pred[y_train_pred>=0.5] = 1\n",
    "y_train_pred[y_train_pred<0.5] = 0\n",
    "y_test_pred[y_test_pred>=0.5] = 1\n",
    "y_test_pred[y_test_pred<0.5] = 0\n",
    "\n",
    "print('Train Set Accuracy Score for OLS: %s'%accuracy_score(y_train, y_train_pred))\n",
    "print('Test Set Accuracy Score for OLS: %s'%accuracy_score(y_test, y_test_pred))"
   ]
  },
  {
   "cell_type": "code",
   "execution_count": 14,
   "metadata": {},
   "outputs": [
    {
     "data": {
      "text/plain": [
       "(array([25.,  0.,  0.,  0.,  0.,  0.,  0.,  0.,  0., 15.]),\n",
       " array([0. , 0.1, 0.2, 0.3, 0.4, 0.5, 0.6, 0.7, 0.8, 0.9, 1. ]),\n",
       " <a list of 10 Patch objects>)"
      ]
     },
     "execution_count": 14,
     "metadata": {},
     "output_type": "execute_result"
    },
    {
     "data": {
      "image/png": "[encoded data removed]",
      "text/plain": [
       "<Figure size 432x288 with 1 Axes>"
      ]
     },
     "metadata": {},
     "output_type": "display_data"
    }
   ],
   "source": [
    "plt.hist(y_train)"
   ]
  },
  {
   "cell_type": "markdown",
   "metadata": {},
   "source": [
    "**Answer:**\n",
    "*We can see in the quick histogram that we created for `y_train` (and the histogram of the predicted values in 2.1), that the spread between the two Cancer types is not 80/20. So our model is not classifying everything as one or the other type. Also, the test accuracy is $75$% which is fairly close to train accuracy, considering we are only using one predictor.*\n"
   ]
  },
  {
   "cell_type": "markdown",
   "metadata": {},
   "source": [
    "**2.3:** Next, fit a simple logistic regression model to the training set..."
   ]
  },
  {
   "cell_type": "code",
   "execution_count": 15,
   "metadata": {},
   "outputs": [
    {
     "name": "stdout",
     "output_type": "stream",
     "text": [
      "Train Set Accuracy Score for Logistic Regression: 0.8\n",
      "Test Set Accuracy Score for Logistic Regression: 0.7575757575757576\n"
     ]
    }
   ],
   "source": [
    "# your code here\n",
    "logreg = LogisticRegression(C=100000, solver='newton-cg')\n",
    "logreg_model = logreg.fit(X_train[['D29963_at']], y_train)\n",
    "\n",
    "print('Train Set Accuracy Score for Logistic Regression: %s'%accuracy_score(y_train, logreg_model.predict(X_train[['D29963_at']])))\n",
    "print('Test Set Accuracy Score for Logistic Regression: %s'%accuracy_score(y_test, logreg_model.predict(X_test[['D29963_at']])))"
   ]
  },
  {
   "cell_type": "markdown",
   "metadata": {},
   "source": [
    "**Answer:**\n",
    "*The train and test accuracy scores are exactly the same using logistic regression and linear regression. This is because, the logistic regression only acts as a function to make a sigmoidal curve out of a line so that the values don't go beyond $(0,1)$. Essentially, in logistic regression we predict the `log-odds` of $Y=1$. Hence, with same set of predictors, we will always get the same accuracy for linear and logistic regression after converting our predicted response for linear regression to binary (as done in 2.2).*"
   ]
  },
  {
   "cell_type": "markdown",
   "metadata": {},
   "source": [
    "**2.4:** Create a figure with 4 items ..."
   ]
  },
  {
   "cell_type": "code",
   "execution_count": 16,
   "metadata": {},
   "outputs": [
    {
     "data": {
      "text/plain": [
       "<matplotlib.legend.Legend at 0xead6b2e6d8>"
      ]
     },
     "execution_count": 16,
     "metadata": {},
     "output_type": "execute_result"
    },
    {
     "data": {
      "image/png": "[encoded data removed]",
      "text/plain": [
       "<Figure size 504x504 with 1 Axes>"
      ]
     },
     "metadata": {},
     "output_type": "display_data"
    }
   ],
   "source": [
    "# your code here\n",
    "fig, ax = plt.subplots(1,1, figsize=(7,7))\n",
    "ax.scatter(X_test[['D29963_at']], OLSModel.predict(sm.add_constant(X_test['D29963_at'])), label='OLS Predicted')\n",
    "ax.scatter(X_test[['D29963_at']], pd.DataFrame(logreg_model.predict_proba(X_test[['D29963_at']]))[1], label='Logistic Predicted')\n",
    "ax.scatter(X_test[['D29963_at']], y_test, label='True Response')\n",
    "ax.hlines(y=0.5, color='red', xmin=-0.01, xmax=1.01, label='$Y=0.5$')\n",
    "ax.set_xlabel('D29963_at Expression Level', fontsize=12)\n",
    "ax.set_ylabel('$Y$', fontsize=12)\n",
    "ax.set_xlim(-0.01,1.01)\n",
    "ax.set_title('Comparing OLS vs Logistic for Binary Response', fontsize=14)\n",
    "ax.tick_params(labelsize=12)\n",
    "ax.legend(loc=(0.65,0.14), fontsize=12)"
   ]
  },
  {
   "cell_type": "markdown",
   "metadata": {},
   "source": [
    "**Answer:**\n",
    "*We can see that, for binary response, the logistic regression model is the better suited one as it gives us values within the range of $(0,1)$. It is also easier to interpret logistic regression as the rate of increase or decrease in the `log-odds` goes down as we approach closer to $(0,1)$ unlike in linear regression.*  "
   ]
  },
  {
   "cell_type": "markdown",
   "metadata": {},
   "source": [
    "<div class='exercise'> <b> Question 3 [30pts]: Multiple Logistic Regression </b> </div>\n",
    "\n",
    "\n",
    "**3.1** Next, fit a multiple logistic regression model with all the gene predictors from the data set.  How does the classification accuracy of this model compare with the models fitted in question 2 with a single gene (on both the training and test sets)?  \n",
    "\n",
    "\n",
    "**3.2** How many of the coefficients estimated by this multiple logistic regression in the previous part are significantly different from zero at a *significance level of 5%*? Use the same value of C=100000 as before.\n",
    "\n",
    "**Hint:** To answer this question, use *bootstrapping* with 1000 boostrap samples/iterations.  \n",
    "\n",
    "**3.3** Use the `visualize_prob` function provided below (or any other visualization) to visualize the probabilties predicted by the fitted multiple logistic regression model on both the training and test data sets. The function creates a visualization that places the data points on a vertical line based on the predicted probabilities, with the different cancer classes shown in different colors, and with the 0.5 threshold highlighted using a dotted horizontal line. Is there a difference in the spread of probabilities in the training and test plots? Are there data points for which the predicted probability is close to 0.5? If so, what can you say about these points?\n",
    "\n",
    "**3.4** Open question: Comment on the classification accuracy of the train and test sets. Given the results above how would you assess the generalization capacity of your trained model?  What other tests or approaches would you suggest to better guard against the false sense of security on the accuracy of the model as a whole. \n"
   ]
  },
  {
   "cell_type": "code",
   "execution_count": 17,
   "metadata": {},
   "outputs": [],
   "source": [
    "#--------  visualize_prob\n",
    "# A function to visualize the probabilities predicted by a Logistic Regression model\n",
    "# Input: \n",
    "#      model (Logistic regression model)\n",
    "#      x (n x d array of predictors in training data)\n",
    "#      y (n x 1 array of response variable vals in training data: 0 or 1)\n",
    "#      ax (an axis object to generate the plot)\n",
    "\n",
    "def visualize_prob(model, x, y, ax):\n",
    "    # Use the model to predict probabilities for x\n",
    "    y_pred = model.predict_proba(x)\n",
    "    \n",
    "    # Separate the predictions on the label 1 and label 0 points\n",
    "    ypos = y_pred[y==1]\n",
    "    yneg = y_pred[y==0]\n",
    "    \n",
    "    # Count the number of label 1 and label 0 points\n",
    "    npos = ypos.shape[0]\n",
    "    nneg = yneg.shape[0]\n",
    "    \n",
    "    # Plot the probabilities on a vertical line at x = 0, \n",
    "    # with the positive points in blue and negative points in red\n",
    "    pos_handle = ax.plot(np.zeros((npos,1)), ypos[:,1], 'bo', label = 'Cancer Type 1')\n",
    "    neg_handle = ax.plot(np.zeros((nneg,1)), yneg[:,1], 'ro', label = 'Cancer Type 0')\n",
    "\n",
    "    # Line to mark prob 0.5\n",
    "    ax.axhline(y = 0.5, color = 'k', linestyle = '--')\n",
    "    \n",
    "    # Add y-label and legend, do not display x-axis, set y-axis limit\n",
    "    ax.set_ylabel('Probability of AML class')\n",
    "    ax.legend(loc = 'best')\n",
    "    ax.get_xaxis().set_visible(False)\n",
    "    ax.set_ylim([0,1])"
   ]
  },
  {
   "cell_type": "markdown",
   "metadata": {},
   "source": [
    "#### Answers:\n",
    "\n",
    "**3.1:** Next, fit a multiple logistic regression model with all the gene predictors..."
   ]
  },
  {
   "cell_type": "code",
   "execution_count": 18,
   "metadata": {},
   "outputs": [
    {
     "name": "stdout",
     "output_type": "stream",
     "text": [
      "Train Set Accuracy Score for Logistic Regression: 1.0\n",
      "Test Set Accuracy Score for Logistic Regression: 1.0\n"
     ]
    }
   ],
   "source": [
    "# your code here\n",
    "log_reg_full = LogisticRegression(C=100000)\n",
    "log_model_full = log_reg_full.fit(X_train, y_train)\n",
    "print('Train Set Accuracy Score for Logistic Regression: %s'%accuracy_score(y_train, log_model_full.predict(X_train)))\n",
    "print('Test Set Accuracy Score for Logistic Regression: %s'%accuracy_score(y_test, log_model_full.predict(X_test)))"
   ]
  },
  {
   "cell_type": "markdown",
   "metadata": {},
   "source": [
    "**Answer:**\n",
    "*The accuracy score for model with all predictors is clearly higher than that for the model with just one predictor in Question 2. However, we are surely getting an overfit model with all predictors included, as the number of predictors is greater than the number of observations.*"
   ]
  },
  {
   "cell_type": "markdown",
   "metadata": {},
   "source": [
    "**3.2:** How many of the coefficients estimated by this multiple logistic regression..."
   ]
  },
  {
   "cell_type": "code",
   "execution_count": 19,
   "metadata": {},
   "outputs": [],
   "source": [
    "# bootstrapping code\n",
    "# your code here\n",
    "N=1000\n",
    "betas_boot = [[np.nan]*len(X_train.columns)]*1000\n",
    "for i in range(N):\n",
    "    sample_indices = np.random.choice(list(X_train.index), size=X_train.shape[0], replace=True)\n",
    "    \n",
    "    X_train_resample = X_train.loc[sample_indices,:]\n",
    "    y_train_resample = y_train[sample_indices]\n",
    "    \n",
    "    bootstrap_model = LogisticRegression(C=100000).fit(X_train_resample, y_train_resample)\n",
    "    cur_betas = list(bootstrap_model.coef_[0])\n",
    "    betas_boot[i] = cur_betas"
   ]
  },
  {
   "cell_type": "code",
   "execution_count": 20,
   "metadata": {},
   "outputs": [],
   "source": [
    "betas_bs_df = pd.DataFrame(betas_boot, columns=X_train.columns)"
   ]
  },
  {
   "cell_type": "code",
   "execution_count": 21,
   "metadata": {},
   "outputs": [
    {
     "data": {
      "text/plain": [
       "array([0.03416485, 0.06845332])"
      ]
     },
     "execution_count": 21,
     "metadata": {},
     "output_type": "execute_result"
    }
   ],
   "source": [
    "np.percentile(betas_bs_df['D29963_at'],q=[2.5, 97.5])"
   ]
  },
  {
   "cell_type": "code",
   "execution_count": 22,
   "metadata": {},
   "outputs": [
    {
     "data": {
      "text/plain": [
       "1849"
      ]
     },
     "execution_count": 22,
     "metadata": {},
     "output_type": "execute_result"
    }
   ],
   "source": [
    "sig_betas = []\n",
    "for i in betas_bs_df.columns:\n",
    "    pct = np.percentile(betas_bs_df[i],q=[2.5, 97.5])\n",
    "    if pct[0]>0 or pct[1]<0:\n",
    "        sig_betas.append(i)\n",
    "\n",
    "len(sig_betas)"
   ]
  },
  {
   "cell_type": "markdown",
   "metadata": {},
   "source": [
    "**Answer:**\n",
    "*Only 1849 variables have a confidence interval, at 5% significance, that does not include zero (assuming normal distribution). This means that other predictors contain zero in their 95% confidence interval and are not significantly different.*"
   ]
  },
  {
   "cell_type": "markdown",
   "metadata": {},
   "source": [
    "**3.3:** Use the visualize_prob function provided below ..."
   ]
  },
  {
   "cell_type": "code",
   "execution_count": 23,
   "metadata": {},
   "outputs": [
    {
     "data": {
      "text/plain": [
       "Text(0.5,1,'Test Set')"
      ]
     },
     "execution_count": 23,
     "metadata": {},
     "output_type": "execute_result"
    },
    {
     "data": {
      "image/png": "[encoded data removed]",
      "text/plain": [
       "<Figure size 1080x504 with 2 Axes>"
      ]
     },
     "metadata": {},
     "output_type": "display_data"
    }
   ],
   "source": [
    "\"\"\" Plot classification model \"\"\"\n",
    "\n",
    "# your code here\n",
    "fig1, ax1 = plt.subplots(1, 2, figsize=(15,7))\n",
    "visualize_prob(log_model_full, X_train, y_train, ax=ax1[0])\n",
    "visualize_prob(log_model_full, X_test, y_test, ax=ax1[1])\n",
    "ax1[0].set_ylim(ymin=-0.02, ymax=1.02)\n",
    "ax1[0].set_title('Train Set', fontsize=12)\n",
    "ax1[1].set_ylim(ymin=-0.02, ymax=1.02)\n",
    "ax1[1].set_title('Test Set', fontsize=12)"
   ]
  },
  {
   "cell_type": "markdown",
   "metadata": {},
   "source": [
    "**Answer:**\n",
    "*The predicted probabilities in the training set are always either 0 or 1, which again points to the fact that the model is being overfit on the train set. However, we see the predicted probabilities are more spread out in the test set even though the classification accuracy is the same. So the points that are near the 0.5 threshold have less probability to be in their respective class and could be in a different class if the threshold were to change from 0.5 to something else.*"
   ]
  },
  {
   "cell_type": "markdown",
   "metadata": {},
   "source": [
    "**3.4:** Open question: Comment on the classification accuracy...\n"
   ]
  },
  {
   "cell_type": "markdown",
   "metadata": {},
   "source": [
    "**Answer:** \n",
    "*Due to a very high number of predictors compared to the number of observations, we have too many solutions that give us zero error. Thus, with predicted probabilities either exactly the same as true values, the model is overfit to our training set. However, our classification accuracy mainly depends on the predicted probabilities using our model on the test set and the threshold we are going to use to create a binary response. We also see with bootstrapping that not all betas are significant and that most of them can be eliminated.*\n",
    "\n",
    "*We should try to look at the variables that are signficantly different than zero using bootstrap and find the principal components of just these predictors. Then select the principal components that make most sense and fit a logistic regression model to get train and test set accuracies. It would also be interesting to see the results of the bootstrap after increasing $N$.*"
   ]
  },
  {
   "cell_type": "markdown",
   "metadata": {},
   "source": [
    "<div class='exercise'><b> Question 4 [20 pts]: PCR: Principal Components Regression </b></div>\n",
    "\n",
    "High dimensional problems can lead to problematic behavior in model estimation (and make prediction on a test set worse), thus we often want to try to reduce the dimensionality of our problems. A reasonable approach to reduce the dimensionality of the data is to use PCA and fit a logistic regression model on the smallest set of principal components that explain at least 90% of the variance in the predictors.\n",
    "\n",
    "**4.1:** Fit two separate Logistic Regression models using principal components as the predictors: (1) with the number of components you selected from problem 1.5 and (2) with the number of components that explain at least 90% of the variability in the feature set. How do the classification accuracy values on both the training and tests sets compare with the models fit in question 3?   \n",
    "\n",
    "**4.2:** Use the code provided in question 3 (or your choice of visualization) to visualize the probabilities predicted by the fitted models in the previous part on both the training and test sets. How does the spread of probabilities in these plots compare to those for the model in question 3.2? If the lower dimensional representation yields comparable predictive power, what advantage does the lower dimensional representation provide?\n"
   ]
  },
  {
   "cell_type": "markdown",
   "metadata": {},
   "source": [
    "#### Answers:\n",
    "\n",
    "**4.1:** Fit two separate Logistic Regression models..."
   ]
  },
  {
   "cell_type": "code",
   "execution_count": 24,
   "metadata": {},
   "outputs": [
    {
     "data": {
      "text/html": [
       "<div>\n",
       "<style scoped>\n",
       "    .dataframe tbody tr th:only-of-type {\n",
       "        vertical-align: middle;\n",
       "    }\n",
       "\n",
       "    .dataframe tbody tr th {\n",
       "        vertical-align: top;\n",
       "    }\n",
       "\n",
       "    .dataframe thead th {\n",
       "        text-align: right;\n",
       "    }\n",
       "</style>\n",
       "<table border=\"1\" class=\"dataframe\">\n",
       "  <thead>\n",
       "    <tr style=\"text-align: right;\">\n",
       "      <th></th>\n",
       "      <th>$Var Explained = 0.42$</th>\n",
       "      <th>$Var Explained = 0.9$</th>\n",
       "    </tr>\n",
       "  </thead>\n",
       "  <tbody>\n",
       "    <tr>\n",
       "      <th>Accuracy on Train Set</th>\n",
       "      <td>0.900000</td>\n",
       "      <td>1.000000</td>\n",
       "    </tr>\n",
       "    <tr>\n",
       "      <th>Accuracy on Test Set</th>\n",
       "      <td>0.818182</td>\n",
       "      <td>0.969697</td>\n",
       "    </tr>\n",
       "  </tbody>\n",
       "</table>\n",
       "</div>"
      ],
      "text/plain": [
       "                       $Var Explained = 0.42$  $Var Explained = 0.9$\n",
       "Accuracy on Train Set                0.900000               1.000000\n",
       "Accuracy on Test Set                 0.818182               0.969697"
      ]
     },
     "execution_count": 24,
     "metadata": {},
     "output_type": "execute_result"
    }
   ],
   "source": [
    "# your code here\n",
    "\n",
    "log_reg1 = LogisticRegression(C=100000).fit(x_train_40d[pca_cols[:len(var_42)]], y_train)\n",
    "log_reg2 = LogisticRegression(C=100000).fit(x_train_40d[pca_cols[:len(var_90)]], y_train)\n",
    "\n",
    "accuracy = dict()\n",
    "\n",
    "accuracy[r'$Var Explained = 0.42$'] = [np.nan]*2\n",
    "accuracy[r'$Var Explained = 0.9$'] = [np.nan]*2\n",
    "\n",
    "results = pd.DataFrame(accuracy)\n",
    "results.rename({0: 'Accuracy on Train Set', 1: 'Accuracy on Test Set'}, inplace=True)\n",
    "\n",
    "sc_var42_train = accuracy_score(y_train, log_reg1.predict(x_train_40d[pca_cols[:len(var_42)]]))\n",
    "sc_var42_test = accuracy_score(y_test, log_reg1.predict(x_test_40d[pca_cols[:len(var_42)]]))\n",
    "sc_var90_train = accuracy_score(y_train, log_reg2.predict(x_train_40d[pca_cols[:len(var_90)]]))\n",
    "sc_var90_test = accuracy_score(y_test, log_reg2.predict(x_test_40d[pca_cols[:len(var_90)]]))\n",
    "\n",
    "results[r'$Var Explained = 0.42$'][:] = [sc_var42_train, sc_var42_test]\n",
    "results[r'$Var Explained = 0.9$'][:] = [sc_var90_train, sc_var90_test]\n",
    "\n",
    "results"
   ]
  },
  {
   "cell_type": "markdown",
   "metadata": {},
   "source": [
    "**Answer:**\n",
    "*All accuracies, except the one with Principal Components that explain 90% variance in predictor set, are lower here compared to those in question 3 but still significantly high. Which means that we don't overfit the model to our training set and that there is a greater chance that the model can be used to generalize on additional data.*"
   ]
  },
  {
   "cell_type": "markdown",
   "metadata": {},
   "source": [
    "**4.2:** Use the code provided in question 3..."
   ]
  },
  {
   "cell_type": "code",
   "execution_count": 25,
   "metadata": {},
   "outputs": [
    {
     "data": {
      "text/plain": [
       "Text(0.5,1,'Test Set: PC with 90% Varaince')"
      ]
     },
     "execution_count": 25,
     "metadata": {},
     "output_type": "execute_result"
    },
    {
     "data": {
      "image/png": "[encoded data removed]",
      "text/plain": [
       "<Figure size 1080x1080 with 4 Axes>"
      ]
     },
     "metadata": {},
     "output_type": "display_data"
    }
   ],
   "source": [
    "# your code here\n",
    "fig1, ax1 = plt.subplots(2, 2, figsize=(15,15))\n",
    "visualize_prob(log_reg1, x_train_40d[pca_cols[:len(var_42)]], y_train, ax=ax1[0,0])\n",
    "visualize_prob(log_reg1, x_test_40d[pca_cols[:len(var_42)]], y_test, ax=ax1[0,1])\n",
    "visualize_prob(log_reg2, x_train_40d[pca_cols[:len(var_90)]], y_train, ax=ax1[1,0])\n",
    "visualize_prob(log_reg2, x_test_40d[pca_cols[:len(var_90)]], y_test, ax=ax1[1,1])\n",
    "ax1[0,0].set_ylim(ymin=-0.02, ymax=1.02)\n",
    "ax1[0,0].set_title('Train Set: PC with 42% Varaince', fontsize=14)\n",
    "ax1[0,1].set_ylim(ymin=-0.02, ymax=1.02)\n",
    "ax1[0,1].set_title('Test Set: PC with 42% Varaince', fontsize=14)\n",
    "ax1[1,0].set_ylim(ymin=-0.02, ymax=1.02)\n",
    "ax1[1,0].set_title('Train Set: PC with 90% Varaince', fontsize=14)\n",
    "ax1[1,1].set_ylim(ymin=-0.02, ymax=1.02)\n",
    "ax1[1,1].set_title('Test Set: PC with 90% Varaince', fontsize=14)"
   ]
  },
  {
   "cell_type": "markdown",
   "metadata": {},
   "source": [
    "**Answer:**\n",
    "*The spread of probabilities is wider here compared to question 3.3. However, we still get a very high accuracy in our model with significantly less predictors, which means that there is a unique solution to find the minimum error and that our model is more interpretable.*"
   ]
  },
  {
   "cell_type": "code",
   "execution_count": null,
   "metadata": {},
   "outputs": [],
   "source": []
  }
 ],
 "metadata": {
  "anaconda-cloud": {},
  "kernelspec": {
   "display_name": "Python 3",
   "language": "python",
   "name": "python3"
  },
  "language_info": {
   "codemirror_mode": {
    "name": "ipython",
    "version": 3
   },
   "file_extension": ".py",
   "mimetype": "text/x-python",
   "name": "python",
   "nbconvert_exporter": "python",
   "pygments_lexer": "ipython3",
   "version": "3.6.5"
  }
 },
 "nbformat": 4,
 "nbformat_minor": 2
}
