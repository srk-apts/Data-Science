{
 "cells": [
  {
   "cell_type": "markdown",
   "metadata": {},
   "source": [
    "# <img style=\"float: left; padding-right: 10px; width: 45px\" src=\"https://raw.githubusercontent.com/Harvard-IACS/2018-CS109A/master/content/styles/iacs.png\"> CS109A Introduction to Data Science: \n",
    "\n",
    "## Homework 9  AC 209 : Convolutional Neural Networks\n",
    "\n",
    "\n",
    "**Harvard University**<br/>\n",
    "**Fall 2018**<br/>\n",
    "**Instructors**: Pavlos Protopapas, Kevin Rader\n",
    "\n",
    "<hr style=\"height:2pt\">\n"
   ]
  },
  {
   "cell_type": "code",
   "execution_count": 1,
   "metadata": {},
   "outputs": [
    {
     "data": {
      "text/html": [
       "<style>\n",
       "blockquote { background: #AEDE94; }\n",
       "h1 { \n",
       "    padding-top: 25px;\n",
       "    padding-bottom: 25px;\n",
       "    text-align: left; \n",
       "    padding-left: 10px;\n",
       "    background-color: #DDDDDD; \n",
       "    color: black;\n",
       "}\n",
       "h2 { \n",
       "    padding-top: 10px;\n",
       "    padding-bottom: 10px;\n",
       "    text-align: left; \n",
       "    padding-left: 5px;\n",
       "    background-color: #EEEEEE; \n",
       "    color: black;\n",
       "}\n",
       "\n",
       "div.exercise {\n",
       "\tbackground-color: #ffcccc;\n",
       "\tborder-color: #E9967A; \t\n",
       "\tborder-left: 5px solid #800080; \n",
       "\tpadding: 0.5em;\n",
       "}\n",
       "div.theme {\n",
       "\tbackground-color: #DDDDDD;\n",
       "\tborder-color: #E9967A; \t\n",
       "\tborder-left: 5px solid #800080; \n",
       "\tpadding: 0.5em;\n",
       "\tfont-size: 18pt;\n",
       "}\n",
       "div.gc { \n",
       "\tbackground-color: #AEDE94;\n",
       "\tborder-color: #E9967A; \t \n",
       "\tborder-left: 5px solid #800080; \n",
       "\tpadding: 0.5em;\n",
       "\tfont-size: 12pt;\n",
       "}\n",
       "p.q1 { \n",
       "    padding-top: 5px;\n",
       "    padding-bottom: 5px;\n",
       "    text-align: left; \n",
       "    padding-left: 5px;\n",
       "    background-color: #EEEEEE; \n",
       "    color: black;\n",
       "}\n",
       "header {\n",
       "   padding-top: 35px;\n",
       "    padding-bottom: 35px;\n",
       "    text-align: left; \n",
       "    padding-left: 10px;\n",
       "    background-color: #DDDDDD; \n",
       "    color: black;\n",
       "}\n",
       "</style>\n",
       "\n"
      ],
      "text/plain": [
       "<IPython.core.display.HTML object>"
      ]
     },
     "execution_count": 1,
     "metadata": {},
     "output_type": "execute_result"
    }
   ],
   "source": [
    "# RUN THIS CELL FOR FORMAT\n",
    "import requests\n",
    "from IPython.core.display import HTML\n",
    "styles = requests.get(\"https://raw.githubusercontent.com/Harvard-IACS/2018-CS109A/master/content/styles/cs109.css\").text\n",
    "HTML(styles)"
   ]
  },
  {
   "cell_type": "code",
   "execution_count": 2,
   "metadata": {},
   "outputs": [],
   "source": [
    "# Imports\n",
    "import numpy as np\n",
    "import matplotlib.pyplot as plt\n",
    "from sklearn.model_selection import train_test_split\n",
    "from sklearn import datasets\n",
    "\n",
    "%matplotlib inline"
   ]
  },
  {
   "cell_type": "markdown",
   "metadata": {},
   "source": [
    "<div class='exercise'> <b>  Question 3 [12 pts] </b> </div>\n",
    "\n",
    "**3.1** What is the motivation for convolutional layers in image analysis?.\n",
    "\n",
    "**3.2** Let $C$ be a CNN with the following layers:\n",
    "1. Input layer, 64x64x3 RGB image\n",
    "2. Convolutional Layer, 16 3x3 filters, stride 1, padding = same, activation = relu\n",
    "3. Convolutional layer, 32 5x5 filters, stride 1, padding = same, activation = relu\n",
    "4. Maxpool layer, size 3x3, stride 2\n",
    "5. Convolutional layer, 128 3x3 filters, stride 1, padding = same\n",
    "6. Fully connected layer, 5 outputs\n",
    "\n",
    "a) Without doing any calculations, which layer will have the most parameters? \n",
    "\n",
    "b) How many parameters does this CNN have in total? Show the number of parameters of each layer.\n"
   ]
  },
  {
   "cell_type": "markdown",
   "metadata": {},
   "source": [
    "<div class='exercise'> <b>  Question 4 [13 pts]</b> </div>\n"
   ]
  },
  {
   "cell_type": "markdown",
   "metadata": {},
   "source": [
    "We will now compare a Fully Connected Network (Multi-Layer Perceptron) and a simple CNN on the task of image classification. We'll use a well known open dataset: CIFAR10. We will be using Keras for our networks.\n",
    "\n",
    "CIFAR10 is a classic dataset released by Alex Krizhevsky, Vinod Nair, and Geoffrey Hinton (Machine learning legends). It consists of 60,000 32x32 colour images in 10 classes, with 6,000 images per class. There are 50,000 training images and 10,000 test images. \n",
    "\n",
    "Here are some examples of the images in the dataset:\n",
    "\n",
    "<img style=\"width:500px; height:400px\" src=\"http://clouddatafacts.com/_images/cifar_10.png\">\n",
    "\n",
    "\n",
    "Good news: Keras allows us to easily imports well-known datasets like CIFAR10. We'll import the CIFAR10 dataset with `keras.datasets.cifar10.load_data()`. This will return two tuples of numpy arrays: `(x_train, y_train), (x_test, y_test)`. \n",
    "\n",
    "After that, we will implement an MLP and a CNN to classify the 10 classes of CIFAR10. \n",
    "\n",
    "Keras can build models in two different ways: *Sequential* and *Functional*. \n",
    "\n",
    "The Sequential API is a good starting point, as it allows you to easily create models layer by layer. You used it during the 109 part of the homework. Building a Sequential model just requires to instantiate a `Sequential()` object with `model = Sequential()`, and adding layers after that is easily done with `model.add(layer)`. This API has several limitations, as it does not allow you to easily create bypass connections, share layers between models or have multiple inputs or outputs.\n",
    "\n",
    "Small example of the Sequential API:\n",
    "```\n",
    "from keras.models import Sequential\n",
    "from keras.layers import Dense\n",
    "\n",
    "model = Sequential()\n",
    "model.add(Dense(10, input_dim=1))\n",
    "model.add(Dense(1))\n",
    "```\n",
    "\n",
    "The functional API allows you to create models that have a lot more flexibility as you can easily define models where layers connect to more than just the previous and next layers. You can connect layers to any other layer, add more inputs to your network (even in the middle of it) and concatenating outputs easily. Creating complex networks, such as ResNets, becomes feasible.\n",
    "\n",
    "Small example of the Functional API:\n",
    "```\n",
    "# We define an Input layer\n",
    "inp = Input(shape=(64,64,3))\n",
    "\n",
    "# We instantiate a Dense layer and connect it to the previous layer with (inp)\n",
    "x = Dense(10)(inp)\n",
    "\n",
    "# We repeat the process, connecting here with (x)\n",
    "x= Dense(10)(x)\n",
    "\n",
    "out = Dense(1)(x)\n",
    "\n",
    "# We build the full model\n",
    "model = Model(inputs=in, outputs=out)\n",
    "```\n",
    "\n",
    "We will be using the Functional API for this problem, as this is the main mode that you will be using should you decide to build a serious network. "
   ]
  },
  {
   "cell_type": "markdown",
   "metadata": {},
   "source": [
    "**4.1** Import the CIFAR10 dataset, one-hot encode the labels and put your x_train and x_test into the [0,1] range. Plot some train and test images to get a better feel for the data.\n",
    "Hints:\n",
    "1. Keras has a very convenient function for converting labels to categorical: `keras.utils.np_utils.to_categorical()`.\n",
    "2. Your `x_train` and `x_test` will come as 8-bit images, so numpy array of integers with values from 0 to 255.\n",
    "3. `plt.imshow` is your friend."
   ]
  },
  {
   "cell_type": "markdown",
   "metadata": {},
   "source": [
    "**4.2** Using the functional API, build two networks:\n",
    "\n",
    "(a) MLP with the following layers:\n",
    "1. Input layer\n",
    "2. Flatten layer (so that we can feed easily to Dense layers afterwards)\n",
    "3. Dense layer, 128 nodes, relu activation\n",
    "3. Dropout layer, 0.2 probability\n",
    "4. Dense layer, 256 nodes, relu activation\n",
    "3. Dropout layer, 0.2 probability\n",
    "5. Dense layer, 512 nodes, relu activation\n",
    "3. Dropout layer, 0.2 probability\n",
    "6. Dense layer, 10 nodes, softmax activation\n",
    "\n",
    "(b) CNN with the following layers:\n",
    "1. Conv2D, 32 3x3 filters, (1,1) strides, padding=same, activation=relu, use_bias=True\n",
    "2. Conv2D, 32 3x3 filters, (1,1) strides, padding=same, activation=relu, use_bias=True\n",
    "3. Maxpool, strides (2,2), pool_size (2,2)\n",
    "1. Conv2D, 64 3x3 filters, (1,1) strides, padding=same, activation=relu, use_bias=True\n",
    "2. Conv2D, 64 3x3 filters, (1,1) strides, padding=same, activation=relu, use_bias=True\n",
    "3. Maxpool, strides (2,2), pool_size (2,2)\n",
    "1. Conv2D, 128 3x3 filters, (1,1) strides, padding=same, activation=relu, use_bias=True\n",
    "2. Conv2D, 128 3x3 filters, (1,1) strides, padding=same, activation=relu, use_bias=True\n",
    "3. Maxpool, strides (2,2), pool_size (2,2)\n",
    "5. Flatten layer\n",
    "6. Dropout layer, 0.2 probability\n",
    "7. Dense layer, 512 nodes, relu activation\n",
    "8. Dropout, 0.5 probability\n",
    "9. Dense layer, 10 nodes, softmax activation\n",
    "\n",
    "\n",
    "Some extra help: here are the definitions of generic Conv2D layers, MaxPooling2D layers, Dense, Flatten and Dropout layers:\n",
    "\n",
    "\n",
    "```\n",
    "x = Conv2D(32, (3,3), strides=(1, 1), padding='same', activation='relu', use_bias=True)(x)\n",
    "x = MaxPooling2D(pool_size=(2, 2), strides=(2,2), padding='same')(x)\n",
    "x = Flatten()(x)\n",
    "x = Dropout(0.2)(x)\n",
    "x = Dense(1024, activation='relu')(x)\n",
    "```\n",
    "\n",
    "Use model.summary() to report the number of parameters on each model.\n",
    "Train both models on CIFAR10 with a batch size of 32 for 5 epochs and report the result.\n",
    "\n",
    "Some helpful tips:\n",
    "1. Once you've defined your layers and connected them to each other, remember to use `model = Model(inputs=inp, output=out)` to build the full model.\n",
    "2. Once you have the model, you will need to define an optimizer (SGD, Adam, etc), define a loss (use categorical_crossentropy), indicate which metrics to use, and send those parameters to the compile function before fitting it. Your code should look like this:\n",
    "\n",
    "```\n",
    "optimizer = YourOptimizer(lr=yourLearningRate)\n",
    "model.compile(optimizer, loss='categorical_crossentropy', metrics=['accuracy'])\n",
    "model.fit(x_train, y_train, batch_size=yourBatchSize, epochs = yourEpochs, validation_split=0.2)\n",
    "```\n",
    "\n",
    "A note about `validation_split`: If set to 0.2, the fit function automatically sets apart 20% of your training data and doesn't train on it. It will use that 20% to give indications on how the model is doing by showing a val_acc value at the end of each epoch. You could also extract a validation dataset yourself and send it to the function with `validation_data`. "
   ]
  },
  {
   "cell_type": "markdown",
   "metadata": {},
   "source": [
    "### Answers"
   ]
  },
  {
   "cell_type": "markdown",
   "metadata": {},
   "source": [
    "<div class='exercise'> <b>  Question 7 </b> </div>\n"
   ]
  },
  {
   "cell_type": "markdown",
   "metadata": {},
   "source": [
    "\n",
    "**7.1** What is the motivation for convolutional layers in image analysis?.\n"
   ]
  },
  {
   "cell_type": "markdown",
   "metadata": {},
   "source": [
    "*your answer here*"
   ]
  },
  {
   "cell_type": "markdown",
   "metadata": {},
   "source": [
    "Convolutional layers take advantage of the semantic significance of neighboring pixels to greatly reduce the number of parameters needed in a neural network for image analysis. The main idea of convolutional layers is to use filters that slide through the image, responding to particular characteristics of the image irrespective of their position. With this technique, we are able to detect a given feature in any position in the image, whereas an MLP would need to separately learn to recognize that feature on the top right, bottom left, center, etc."
   ]
  },
  {
   "cell_type": "markdown",
   "metadata": {},
   "source": [
    "\n",
    "**7.2** Let $C$ be a CNN with the following layers:\n",
    "1. Input layer, 64x64x3 RGB image\n",
    "2. Convolutional Layer, 16 3x3 filters, stride 1, padding = same, activation = relu\n",
    "3. Convolutional layer, 32 5x5 filters, stride 1, padding = same, activation = relu\n",
    "4. Maxpool layer, size 3x3, stride 2\n",
    "5. Convolutional layer, 128 3x3 filters, stride 1, padding = same\n",
    "6. Flatten layer\n",
    "7. Fully connected layer, 5 outputs\n",
    "\n",
    "a) Without doing any calculations, which layer will have the most parameters?\n",
    "b) How many parameters does this CNN have in total? Show the number of parameters of each layer.\n"
   ]
  },
  {
   "cell_type": "markdown",
   "metadata": {},
   "source": [
    "*your answer here*"
   ]
  },
  {
   "cell_type": "markdown",
   "metadata": {},
   "source": [
    "a) The fully connected layer has the most parameters. Remember that one of the properties of convolutional layers is that they have a reduced amount of parameters when comapred to a fully connected layer that does the same job. The fully connected layer, however, is connected to every single neuron of the previous convolutional layer's output, and there are WxHxFilters neurons in that layer's output (in this case, 128 filters, so we can definitely see that the fully connected layer is going to have a huge amount of connections). In a lot of cases, the part with the highest amount of parameters in a CNN is always the output block, which is composed of one or more fully connected layers.\n",
    "\n",
    "b) Params per layer:\n",
    "1. 0 params\n",
    "2. 16x3x3x3 + 16 = 448 params\n",
    "3. 32x5x5x16 + 32 = 12832 params\n",
    "4. 0 params, just reduces width and height (important for fully connected!)\n",
    "5. 128x3x3x32 + 128 = 36992 params\n",
    "6. 0 params\n",
    "7. (32x32x128) x 5 + 5 = 655365 params\n",
    "\n",
    "Total: 705637"
   ]
  },
  {
   "cell_type": "markdown",
   "metadata": {},
   "source": [
    "<div class='exercise'> <b>  Question 8 </b> </div>\n"
   ]
  },
  {
   "cell_type": "code",
   "execution_count": 1,
   "metadata": {},
   "outputs": [
    {
     "name": "stderr",
     "output_type": "stream",
     "text": [
      "Using TensorFlow backend.\n"
     ]
    }
   ],
   "source": [
    "# Imports\n",
    "import keras\n",
    "from keras.layers import Conv2D, MaxPooling2D, Dense, Input, Flatten, Dropout, UpSampling2D, GlobalAveragePooling2D\n",
    "from keras.models import Model\n",
    "from keras.optimizers import Adam, SGD\n",
    "import matplotlib.pyplot as plt\n",
    "from keras.utils import np_utils\n",
    "from keras.datasets import cifar10"
   ]
  },
  {
   "cell_type": "markdown",
   "metadata": {},
   "source": [
    "**8.1** Import the CIFAR10 dataset, one-hot encode the labels and put your x_train and x_test into the [0,1] range. Plot some train and test images to get a better feel for the data.\n",
    "Hints:\n",
    "1. Keras has a very convenient function for converting labels to categorical: keras.utils.np_utils.to_categorical()\n",
    "2. Your x_train and x_test will come as 8-bit images, so numpy array of integers with values from 0 to 255.\n",
    "3. plt.imshow() is your friend."
   ]
  },
  {
   "cell_type": "markdown",
   "metadata": {},
   "source": [
    "*your answer here*\n"
   ]
  },
  {
   "cell_type": "code",
   "execution_count": 2,
   "metadata": {},
   "outputs": [],
   "source": [
    "(x_train, y_train), (x_test, y_test) = cifar10.load_data()\n",
    "\n",
    "y_train = np_utils.to_categorical(y_train)\n",
    "y_test = np_utils.to_categorical(y_test)\n",
    "x_train = x_train/255\n",
    "x_test = x_test/255\n",
    "# print(y_train.shape, y_test.shape)\n",
    "# print(x_train[:10])"
   ]
  },
  {
   "cell_type": "code",
   "execution_count": 11,
   "metadata": {},
   "outputs": [
    {
     "data": {
      "text/plain": [
       "Text(0.5,0.98,'Testing images')"
      ]
     },
     "execution_count": 11,
     "metadata": {},
     "output_type": "execute_result"
    },
    {
     "data": {
      "image/png": "[encoded data removed]",
      "text/plain": [
       "<Figure size 720x360 with 10 Axes>"
      ]
     },
     "metadata": {},
     "output_type": "display_data"
    },
    {
     "data": {
      "image/png": "[encoded data removed]",
      "text/plain": [
       "<Figure size 720x360 with 10 Axes>"
      ]
     },
     "metadata": {},
     "output_type": "display_data"
    }
   ],
   "source": [
    "plt.figure(figsize=[10,5])\n",
    "for i in range(10):\n",
    "    plt.subplot(2,5,i+1)\n",
    "    plt.xticks([])\n",
    "    plt.yticks([])\n",
    "    plt.imshow(x_train[i])\n",
    "plt.suptitle('Training images')\n",
    "    \n",
    "plt.figure(figsize=[10,5])\n",
    "for i in range(10):\n",
    "    plt.subplot(2,5,i+1)\n",
    "    plt.xticks([])\n",
    "    plt.yticks([])\n",
    "    plt.imshow(x_test[i])\n",
    "plt.suptitle('Testing images')"
   ]
  },
  {
   "cell_type": "markdown",
   "metadata": {},
   "source": [
    "**8.2** Using the functional API, build two networks:\n",
    "(a) MLP with the following layers:\n",
    "1. Input layer\n",
    "2. Flatten layer (so that we can feed easily to Dense layers afterwards)\n",
    "3. Dense layer, 512 nodes, relu activation\n",
    "3. Dropout layer, 0.2 probability\n",
    "4. Dense layer, 512 nodes, relu activation\n",
    "3. Dropout layer, 0.2 probability\n",
    "5. Dense layer, 256 nodes, relu activation\n",
    "3. Dropout layer, 0.2 probability\n",
    "5. Dense layer, 128 nodes, relu activation\n",
    "3. Dropout layer, 0.2 probability\n",
    "6. Dense layer, 10 nodes, softmax activation\n",
    "\n",
    "(b) CNN with the following layers:\n",
    "1. Conv2D, 32 3x3 filters, (1,1) strides, padding=same, activation=relu, use_bias=True\n",
    "2. Conv2D, 32 3x3 filters, (1,1) strides, padding=same, activation=relu, use_bias=True\n",
    "3. Maxpool, strides (2,2), pool_size (2,2)\n",
    "1. Conv2D, 64 3x3 filters, (1,1) strides, padding=same, activation=relu, use_bias=True\n",
    "2. Conv2D, 64 3x3 filters, (1,1) strides, padding=same, activation=relu, use_bias=True\n",
    "3. Maxpool, strides (2,2), pool_size (2,2)\n",
    "1. Conv2D, 128 3x3 filters, (1,1) strides, padding=same, activation=relu, use_bias=True\n",
    "2. Conv2D, 128 3x3 filters, (1,1) strides, padding=same, activation=relu, use_bias=True\n",
    "3. Maxpool, strides (2,2), pool_size (2,2)\n",
    "5. Flatten layer\n",
    "6. Dropout layer, 0.2 probability\n",
    "7. Dense layer, 512 nodes, relu activation\n",
    "8. Dropout, 0.5 probability\n",
    "9. Dense layer, 10 nodes, softmax activation\n",
    "\n",
    "\n",
    "Some extra help: here are the definitions of generic Conv2D layers, MaxPooling2D layers, Dense, Flatten and Dropout layers:\n",
    "\n",
    "\n",
    "```\n",
    "x = Conv2D(32, (3,3), strides=(1, 1), padding='same', activation='relu', use_bias=True)(x)\n",
    "x = MaxPooling2D(pool_size=(2, 2), strides=(2,2), padding='same')(x)\n",
    "x = Flatten()(x)\n",
    "x = Dropout(0.2)(x)\n",
    "x = Dense(1024, activation='relu')(x)\n",
    "```\n",
    "\n",
    "Use model.summary() to report the number of parameters on each model.\n",
    "Train both models on CIFAR10 with a batch size of 32 for 10 epochs and report the result.\n",
    "\n",
    "Some helpful tips:\n",
    "1. Once you've defined your layers and connected them to each other, remember to use model = Model(inputs=inp, output=out) to build the full model.\n",
    "2. You can evaluate your model in keras with model.evaluate(x_test,y_test). This function returns your loss and metrics.\n",
    "3. Once you have the model, you will need to define an optimizer (SGD, Adam, etc), define a loss (use categorical_crossentropy), indicate which metrics to use, and send those parameters to the compile function before fitting it. Your code should look like this:\n",
    "\n",
    "```\n",
    "model = Model(inputs=inp, output=out)\n",
    "model.compile(optimizer='Adam', loss='categorical_crossentropy', metrics=['accuracy'])\n",
    "model.fit(x_train, y_train, batch_size = 32, epochs = 10, validation_split=0.2)\n",
    "```\n",
    "\n",
    "A note about `validation_split`: If set to 0.2, the fit function automatically sets apart 20% of your training data and doesn't train on it. It will use that 20% to give indications on how the model is doing by showing a val_acc value at the end of each epoch. You could also extract a validation dataset yourself and send it to the function with `validation_data`. "
   ]
  },
  {
   "cell_type": "markdown",
   "metadata": {},
   "source": [
    "*your answer here*\n"
   ]
  },
  {
   "cell_type": "code",
   "execution_count": 33,
   "metadata": {},
   "outputs": [
    {
     "name": "stdout",
     "output_type": "stream",
     "text": [
      "_________________________________________________________________\n",
      "Layer (type)                 Output Shape              Param #   \n",
      "=================================================================\n",
      "input_18 (InputLayer)        (None, 32, 32, 3)         0         \n",
      "_________________________________________________________________\n",
      "flatten_14 (Flatten)         (None, 3072)              0         \n",
      "_________________________________________________________________\n",
      "dense_67 (Dense)             (None, 512)               1573376   \n",
      "_________________________________________________________________\n",
      "dropout_59 (Dropout)         (None, 512)               0         \n",
      "_________________________________________________________________\n",
      "dense_68 (Dense)             (None, 512)               262656    \n",
      "_________________________________________________________________\n",
      "dropout_60 (Dropout)         (None, 512)               0         \n",
      "_________________________________________________________________\n",
      "dense_69 (Dense)             (None, 256)               131328    \n",
      "_________________________________________________________________\n",
      "dropout_61 (Dropout)         (None, 256)               0         \n",
      "_________________________________________________________________\n",
      "dense_70 (Dense)             (None, 128)               32896     \n",
      "_________________________________________________________________\n",
      "dropout_62 (Dropout)         (None, 128)               0         \n",
      "_________________________________________________________________\n",
      "dense_71 (Dense)             (None, 10)                1290      \n",
      "=================================================================\n",
      "Total params: 2,001,546\n",
      "Trainable params: 2,001,546\n",
      "Non-trainable params: 0\n",
      "_________________________________________________________________\n"
     ]
    }
   ],
   "source": [
    "# MLP network\n",
    "\n",
    "inp = Input(shape = (32,32,3))\n",
    "x = Flatten()(inp)\n",
    "x = Dense(512, activation='relu')(x)\n",
    "x = Dropout(0.2)(x)\n",
    "x = Dense(512, activation='relu')(x)\n",
    "x = Dropout(0.2)(x)\n",
    "x = Dense(256, activation='relu')(x)\n",
    "x = Dropout(0.2)(x)\n",
    "x = Dense(128, activation='relu')(x)\n",
    "x = Dropout(0.2)(x)\n",
    "x = Dense(10, activation='softmax')(x)\n",
    "\n",
    "model = Model(inputs=inp, outputs= x)\n",
    "\n",
    "model.summary()"
   ]
  },
  {
   "cell_type": "code",
   "execution_count": 34,
   "metadata": {},
   "outputs": [
    {
     "name": "stdout",
     "output_type": "stream",
     "text": [
      "Train on 40000 samples, validate on 10000 samples\n",
      "Epoch 1/10\n",
      "40000/40000 [==============================] - 15s 373us/step - loss: 2.0434 - acc: 0.2335 - val_loss: 1.8719 - val_acc: 0.3146\n",
      "Epoch 2/10\n",
      "40000/40000 [==============================] - 13s 335us/step - loss: 1.9255 - acc: 0.2871 - val_loss: 1.8434 - val_acc: 0.3361\n",
      "Epoch 3/10\n",
      "40000/40000 [==============================] - 13s 334us/step - loss: 1.8918 - acc: 0.3030 - val_loss: 1.8361 - val_acc: 0.3297\n",
      "Epoch 4/10\n",
      "40000/40000 [==============================] - 13s 333us/step - loss: 1.8658 - acc: 0.3164 - val_loss: 1.8214 - val_acc: 0.3448\n",
      "Epoch 5/10\n",
      "40000/40000 [==============================] - 13s 335us/step - loss: 1.8460 - acc: 0.3256 - val_loss: 1.8075 - val_acc: 0.3498\n",
      "Epoch 6/10\n",
      "40000/40000 [==============================] - 13s 333us/step - loss: 1.8371 - acc: 0.3280 - val_loss: 1.8035 - val_acc: 0.3356\n",
      "Epoch 7/10\n",
      "40000/40000 [==============================] - 13s 334us/step - loss: 1.8145 - acc: 0.3358 - val_loss: 1.7507 - val_acc: 0.3640\n",
      "Epoch 8/10\n",
      "40000/40000 [==============================] - 13s 333us/step - loss: 1.8057 - acc: 0.3388 - val_loss: 1.7646 - val_acc: 0.3616\n",
      "Epoch 9/10\n",
      "40000/40000 [==============================] - 13s 333us/step - loss: 1.7913 - acc: 0.3459 - val_loss: 1.7463 - val_acc: 0.3782\n",
      "Epoch 10/10\n",
      "40000/40000 [==============================] - 13s 333us/step - loss: 1.7799 - acc: 0.3501 - val_loss: 1.7245 - val_acc: 0.3777\n"
     ]
    },
    {
     "data": {
      "text/plain": [
       "<keras.callbacks.History at 0x211d6e9bc88>"
      ]
     },
     "execution_count": 34,
     "metadata": {},
     "output_type": "execute_result"
    }
   ],
   "source": [
    "model.compile(optimizer='Adam', loss='categorical_crossentropy', metrics=['accuracy'])\n",
    "model.fit(x_train, y_train, batch_size=32, epochs = 10, validation_split=0.2)"
   ]
  },
  {
   "cell_type": "code",
   "execution_count": 35,
   "metadata": {},
   "outputs": [
    {
     "name": "stdout",
     "output_type": "stream",
     "text": [
      "10000/10000 [==============================] - 1s 140us/step\n"
     ]
    },
    {
     "data": {
      "text/plain": [
       "[1.701607027053833, 0.389]"
      ]
     },
     "execution_count": 35,
     "metadata": {},
     "output_type": "execute_result"
    }
   ],
   "source": [
    "model.evaluate(x_test, y_test)"
   ]
  },
  {
   "cell_type": "code",
   "execution_count": 36,
   "metadata": {},
   "outputs": [
    {
     "name": "stdout",
     "output_type": "stream",
     "text": [
      "_________________________________________________________________\n",
      "Layer (type)                 Output Shape              Param #   \n",
      "=================================================================\n",
      "input_19 (InputLayer)        (None, 32, 32, 3)         0         \n",
      "_________________________________________________________________\n",
      "conv2d_25 (Conv2D)           (None, 32, 32, 32)        2432      \n",
      "_________________________________________________________________\n",
      "conv2d_26 (Conv2D)           (None, 32, 32, 32)        9248      \n",
      "_________________________________________________________________\n",
      "max_pooling2d_13 (MaxPooling (None, 16, 16, 32)        0         \n",
      "_________________________________________________________________\n",
      "conv2d_27 (Conv2D)           (None, 16, 16, 64)        18496     \n",
      "_________________________________________________________________\n",
      "conv2d_28 (Conv2D)           (None, 16, 16, 64)        36928     \n",
      "_________________________________________________________________\n",
      "max_pooling2d_14 (MaxPooling (None, 8, 8, 64)          0         \n",
      "_________________________________________________________________\n",
      "conv2d_29 (Conv2D)           (None, 8, 8, 128)         73856     \n",
      "_________________________________________________________________\n",
      "conv2d_30 (Conv2D)           (None, 8, 8, 128)         147584    \n",
      "_________________________________________________________________\n",
      "max_pooling2d_15 (MaxPooling (None, 4, 4, 128)         0         \n",
      "_________________________________________________________________\n",
      "flatten_15 (Flatten)         (None, 2048)              0         \n",
      "_________________________________________________________________\n",
      "dropout_63 (Dropout)         (None, 2048)              0         \n",
      "_________________________________________________________________\n",
      "dense_72 (Dense)             (None, 512)               1049088   \n",
      "_________________________________________________________________\n",
      "dropout_64 (Dropout)         (None, 512)               0         \n",
      "_________________________________________________________________\n",
      "dense_73 (Dense)             (None, 10)                5130      \n",
      "=================================================================\n",
      "Total params: 1,342,762\n",
      "Trainable params: 1,342,762\n",
      "Non-trainable params: 0\n",
      "_________________________________________________________________\n"
     ]
    }
   ],
   "source": [
    "# CNN network\n",
    "\n",
    "inp = Input(shape = (32,32,3))\n",
    "\n",
    "x = Conv2D(32, (5,5), strides=(1, 1), padding='same', activation='relu', use_bias=True)(inp)\n",
    "x = Conv2D(32, (3,3), strides=(1, 1), padding='same', activation='relu', use_bias=True)(x)\n",
    "x = MaxPooling2D(pool_size=(2, 2), strides=(2,2), padding='same', data_format=None)(x)\n",
    "x = Conv2D(64, (3,3), strides=(1, 1), padding='same', activation='relu', use_bias=True)(x)\n",
    "x = Conv2D(64, (3,3), strides=(1, 1), padding='same', activation='relu', use_bias=True)(x)\n",
    "x = MaxPooling2D(pool_size=(2, 2), strides=(2,2), padding='same', data_format=None)(x)\n",
    "x = Conv2D(128, (3,3), strides=(1, 1), padding='same', activation='relu', use_bias=True)(x)\n",
    "x = Conv2D(128, (3,3), strides=(1, 1), padding='same', activation='relu', use_bias=True)(x)\n",
    "x = MaxPooling2D(pool_size=(2, 2), strides=(2,2), padding='same', data_format=None)(x)\n",
    "x = Flatten()(x)\n",
    "x = Dropout(0.2)(x)\n",
    "x = Dense(512, activation='relu')(x)\n",
    "x = Dropout(0.5)(x)\n",
    "x = Dense(10, activation='softmax')(x)\n",
    "\n",
    "model = Model(inputs=inp, outputs= x)\n",
    "\n",
    "model.summary()"
   ]
  },
  {
   "cell_type": "code",
   "execution_count": 38,
   "metadata": {},
   "outputs": [
    {
     "name": "stdout",
     "output_type": "stream",
     "text": [
      "Train on 40000 samples, validate on 10000 samples\n",
      "Epoch 1/10\n",
      "40000/40000 [==============================] - 23s 574us/step - loss: 1.7772 - acc: 0.3433 - val_loss: 1.5517 - val_acc: 0.4419\n",
      "Epoch 2/10\n",
      "40000/40000 [==============================] - 21s 532us/step - loss: 1.4520 - acc: 0.4709 - val_loss: 1.3123 - val_acc: 0.5339\n",
      "Epoch 3/10\n",
      "40000/40000 [==============================] - 21s 534us/step - loss: 1.3073 - acc: 0.5284 - val_loss: 1.2452 - val_acc: 0.5537\n",
      "Epoch 4/10\n",
      "40000/40000 [==============================] - 21s 535us/step - loss: 1.1929 - acc: 0.5748 - val_loss: 1.0990 - val_acc: 0.6109\n",
      "Epoch 5/10\n",
      "40000/40000 [==============================] - 21s 530us/step - loss: 1.0954 - acc: 0.6101 - val_loss: 1.0156 - val_acc: 0.6411\n",
      "Epoch 6/10\n",
      "40000/40000 [==============================] - 21s 530us/step - loss: 1.0204 - acc: 0.6413 - val_loss: 0.9765 - val_acc: 0.6568\n",
      "Epoch 7/10\n",
      "40000/40000 [==============================] - 21s 531us/step - loss: 0.9548 - acc: 0.6646 - val_loss: 0.9371 - val_acc: 0.6712\n",
      "Epoch 8/10\n",
      "40000/40000 [==============================] - 21s 529us/step - loss: 0.8979 - acc: 0.6848 - val_loss: 0.8877 - val_acc: 0.6899\n",
      "Epoch 9/10\n",
      "40000/40000 [==============================] - 21s 525us/step - loss: 0.8433 - acc: 0.7047 - val_loss: 0.8305 - val_acc: 0.7084\n",
      "Epoch 10/10\n",
      "40000/40000 [==============================] - 21s 527us/step - loss: 0.8012 - acc: 0.7191 - val_loss: 0.7932 - val_acc: 0.7221\n"
     ]
    },
    {
     "data": {
      "text/plain": [
       "<keras.callbacks.History at 0x211d87c24a8>"
      ]
     },
     "execution_count": 38,
     "metadata": {},
     "output_type": "execute_result"
    }
   ],
   "source": [
    "model.compile(optimizer='Adam', loss='categorical_crossentropy', metrics=['accuracy'])\n",
    "model.fit(x_train, y_train, batch_size=32, epochs = 10, validation_split=0.2)"
   ]
  },
  {
   "cell_type": "code",
   "execution_count": 39,
   "metadata": {},
   "outputs": [
    {
     "name": "stdout",
     "output_type": "stream",
     "text": [
      "10000/10000 [==============================] - 2s 162us/step\n"
     ]
    },
    {
     "data": {
      "text/plain": [
       "[0.8121622955322265, 0.7162]"
      ]
     },
     "execution_count": 39,
     "metadata": {},
     "output_type": "execute_result"
    }
   ],
   "source": [
    "model.evaluate(x_test, y_test)"
   ]
  },
  {
   "cell_type": "markdown",
   "metadata": {},
   "source": [
    "**8.3** Comment on the result. Which model has more parameters? Which model performs better? What can you say about what you observed?"
   ]
  },
  {
   "cell_type": "markdown",
   "metadata": {},
   "source": [
    "*your answer here*\n"
   ]
  },
  {
   "cell_type": "markdown",
   "metadata": {},
   "source": [
    "Clearly, the CNN performs much better: in 10 epochs, it gets to much higher accuracy than the MLP, and with fewer parameters! This shows the superiority of convolutional layers over blindly connecting every cell with every other one. Convolutional layers are more adapted for iamge analysis, as they use filters to analyze the entire image in a sliding fashion and search for particular features."
   ]
  }
 ],
 "metadata": {
  "kernelspec": {
   "display_name": "Python 3",
   "language": "python",
   "name": "python3"
  },
  "language_info": {
   "codemirror_mode": {
    "name": "ipython",
    "version": 3
   },
   "file_extension": ".py",
   "mimetype": "text/x-python",
   "name": "python",
   "nbconvert_exporter": "python",
   "pygments_lexer": "ipython3",
   "version": "3.6.3"
  }
 },
 "nbformat": 4,
 "nbformat_minor": 2
}
