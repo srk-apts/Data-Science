{
 "cells": [
  {
   "cell_type": "markdown",
   "metadata": {},
   "source": [
    "# <img style=\"float: left; padding-right: 10px; width: 45px\" src=\"https://raw.githubusercontent.com/Harvard-IACS/2018-CS109A/master/content/styles/iacs.png\"> CS109A Introduction to Data Science: \n",
    "\n",
    "## Homework 6  AC 209 : GLMs\n",
    "\n",
    "\n",
    "**Harvard University**<br/>\n",
    "**Fall 2018**<br/>\n",
    "**Instructors**: Pavlos Protopapas, Kevin Rader\n",
    "\n",
    "Names of people you have worked with goes here: "
   ]
  },
  {
   "cell_type": "code",
   "execution_count": null,
   "metadata": {
    "collapsed": true
   },
   "outputs": [],
   "source": []
  },
  {
   "cell_type": "markdown",
   "metadata": {},
   "source": [
    "<hr style=\"height:2pt\">"
   ]
  },
  {
   "cell_type": "code",
   "execution_count": 1,
   "metadata": {},
   "outputs": [
    {
     "data": {
      "text/html": [
       "<style>\n",
       "h1 { \n",
       "    padding-top: 25px;\n",
       "    padding-bottom: 25px;\n",
       "    text-align: left; \n",
       "    padding-left: 10px;\n",
       "    background-color: #DDDDDD; \n",
       "    color: black;\n",
       "}\n",
       "h2 { \n",
       "    padding-top: 10px;\n",
       "    padding-bottom: 10px;\n",
       "    text-align: left; \n",
       "    padding-left: 5px;\n",
       "    background-color: #EEEEEE; \n",
       "    color: black;\n",
       "}\n",
       "\n",
       "div.exercise {\n",
       "\tbackground-color: #ffcccc;\n",
       "\tborder-color: #E9967A; \t\n",
       "\tborder-left: 5px solid #800080; \n",
       "\tpadding: 0.5em;\n",
       "}\n",
       "div.theme {\n",
       "\tbackground-color: #DDDDDD;\n",
       "\tborder-color: #E9967A; \t\n",
       "\tborder-left: 5px solid #800080; \n",
       "\tpadding: 0.5em;\n",
       "\tfont-size: 18pt;\n",
       "}\n",
       "p.q1 { \n",
       "    padding-top: 5px;\n",
       "    padding-bottom: 5px;\n",
       "    text-align: left; \n",
       "    padding-left: 5px;\n",
       "    background-color: #EEEEEE; \n",
       "    color: black;\n",
       "}\n",
       "header {\n",
       "   padding-top: 35px;\n",
       "    padding-bottom: 35px;\n",
       "    text-align: left; \n",
       "    padding-left: 10px;\n",
       "    background-color: #DDDDDD; \n",
       "    color: black;\n",
       "}\n",
       "</style>\n",
       "\n"
      ],
      "text/plain": [
       "<IPython.core.display.HTML object>"
      ]
     },
     "execution_count": 1,
     "metadata": {},
     "output_type": "execute_result"
    }
   ],
   "source": [
    "# RUN THIS CELL FOR FORMAT\n",
    "import requests\n",
    "from IPython.core.display import HTML\n",
    "styles = requests.get(\"https://raw.githubusercontent.com/Harvard-IACS/2018-CS109A/master/content/styles/cs109.css\").text\n",
    "HTML(styles)"
   ]
  },
  {
   "cell_type": "markdown",
   "metadata": {},
   "source": [
    "<div class='exercise'> <b> Question 5 [25 pts] </b> </div>\n",
    "\n",
    "The probability density function of Poisson distribution is given by:\n",
    "$$ p(y|\\lambda) =  \\frac{\\lambda^{y}}{y!} e^{-\\lambda}.$$\n",
    "\n",
    "\n",
    "**5.1** Show that Poisson distribution belongs to the general exponential distribution family with probability density:\n",
    "\n",
    "$$f(y|\\theta)= \\exp\\left( \\frac{y  \\,\\theta-b(\\theta)}{\\phi}+c(y,\\phi)\\right).$$\n",
    "\n",
    "**5.2** For the Poisson distribution calculate the canonical parameter $\\theta$ in terms of $\\lambda$, the cumulant function $b(\\theta)$, the dispersion parameter $\\phi$, and the normalization function $c(y,\\phi)$.\n",
    "\n",
    "**5.3**  Show that the canonical link $g(.)$ for the Poisson regression model is given by:\n",
    "$$\\eta = g(\\lambda) = \\log(\\lambda).$$\n",
    "\n",
    "**5.4** Derive to the *normal equations* that maximizes the likelihood in the Poisson regression model.\n"
   ]
  },
  {
   "cell_type": "markdown",
   "metadata": {},
   "source": [
    "### Answers\n",
    "\n"
   ]
  },
  {
   "cell_type": "markdown",
   "metadata": {},
   "source": [
    "**5.1** Show that Poisson distribution belongs to the general exponential distribution family with probability density:\n",
    "\n",
    "$$f(y|\\theta)= \\exp\\left( \\frac{y  \\,\\theta-b(\\theta)}{\\phi}+c(y,\\phi)\\right).$$\n"
   ]
  },
  {
   "cell_type": "markdown",
   "metadata": {},
   "source": [
    "*your answer here*\n",
    "\n",
    "We perform some algebra to rewrite the Poisson distribution denstity in the general exponential distribution family: \n",
    "\n",
    "$$ p(y|\\lambda) =  \\frac{\\lambda^{y}}{y!} \\exp(-\\lambda) =(y!)^{-1}\\lambda^y  \\exp(-\\lambda) =  \\exp(-\\log(y!))  \\exp(\\log \\lambda^y)  \\exp(-\\lambda) \\Rightarrow $$\n",
    "$$ p(y|\\lambda) = \\exp \\left( y \\log \\lambda -\\lambda -\\log(y!) \\right).$$"
   ]
  },
  {
   "cell_type": "markdown",
   "metadata": {},
   "source": [
    "**5.2** For the Poisson distribution calculate the canonical parameter $\\theta$ in terms of $\\lambda$, the cumulant function $b(\\theta)$, the dispersion parameter $\\phi$, and the normalization function $c(y,\\phi)$.\n"
   ]
  },
  {
   "cell_type": "markdown",
   "metadata": {},
   "source": [
    "*your answer here*\n",
    "\n",
    "From the last exponential formula of 5.1 we read:\n",
    "\n",
    "The canonical parameter: $\\theta = \\log \\lambda$.\n",
    "\n",
    "The cumulant function: $b(\\lambda) = \\lambda.$ We can write $\\lambda = e^\\theta$, hence: $ b(\\theta) = e^\\theta$.\n",
    "\n",
    "The dispersion parameter: $\\phi = 1$.\n",
    "\n",
    "The normalization function: $c(y,\\phi) = - \\log(y!)$.\n",
    "\n",
    "Using the above definitions the  Poisson distribution is written in the exponential family form: \n",
    "\n",
    "$$ p(y|\\theta) = \\exp\\left( \\frac{y\\theta -b(\\theta)}{\\phi}+c(y,\\phi) \\right)$$"
   ]
  },
  {
   "cell_type": "markdown",
   "metadata": {},
   "source": [
    "**5.3**  Show that the canonical link $g(.)$ for the Poisson regression model is given by:\n",
    "$$\\eta = g(\\lambda) = \\log(\\lambda).$$"
   ]
  },
  {
   "cell_type": "markdown",
   "metadata": {},
   "source": [
    "*your answer here* \n",
    "\n",
    "A canonical link $g$ transforms the expectation value $\\mu$ to be equal to the canonical parameter $\\theta$, thus\n",
    "$$ g(\\mu) = \\theta. $$\n",
    "\n",
    "The expectation value in the general exponential family of distributions is given in terms of the cumulant function as: $\\mu = b'(\\theta)$, where prime denotes derivative with respect to $\\theta$. Hence, for the Poisson distribution we have:\n",
    "$$ \\mu = b'(\\theta) = e^\\theta. $$\n",
    "\n",
    "In order to make $\\mu$ to be equal with $\\theta$ we need to take the logarithm of  $\\mu$, so the link function is the $\\log$ function:\n",
    "$$ g(\\mu) = \\log(e^\\theta) = \\theta.$$\n",
    "\n",
    "Using from 5.2 that $\\lambda = e^\\theta$, we can write the canonical link in terms of the parameter $\\lambda$ as:\n",
    "$$\\eta=  g(\\lambda) = \\log(\\lambda),$$\n",
    "where $\\eta$ is the linear predictor."
   ]
  },
  {
   "cell_type": "markdown",
   "metadata": {},
   "source": [
    "**5.4** Derive to the *normal equations* that maximizes the likelihood in the Poisson regression model.\n"
   ]
  },
  {
   "cell_type": "markdown",
   "metadata": {
    "collapsed": true
   },
   "source": [
    "*your answer here* \n",
    "\n",
    "In the lecture (and in the notes) we found that the normal equations that maximize the likelihood of the exponential family of distributions are:\n",
    "\n",
    "$$ \\sum_{i=1}^n  \\frac{1}{\\phi_i} \\left( y_i - \\mu_i \\right) {\\bf x}_i^T =0, $$\n",
    "\n",
    "where $n$ is the number of observations $y_1,...y_n$ and ${\\bf x}_i$ is the predictor vector for the $i^\\text{th}$ observation. For  Poisson distribution we found that  $\\phi=1$ and $\\mu=e^\\theta$. Thus, for all the observations we have $\\phi_i=\\phi =1$ and  by using the linear predictor $\\eta_i= \\theta_i = {\\bf x}_i^T \\beta$, where $\\beta$ is the vector of the coefficients that are estimated by maximizing the likelihood,  we read that\n",
    "$$ \\mu_i = e^\\theta  = e^{{\\bf x}_i^T \\beta}. $$\n",
    "By substituting $\\mu_i$ in the normal equations we obtain  the MLE equations for the Poisson regression model that estimate the coefficients $\\beta$:\n",
    "\n",
    "$$  \\sum_{i=1}^n   \\left( y_i - e^{{\\bf x}_i^T \\beta} \\right) {\\bf x}_i^T =0. $$"
   ]
  },
  {
   "cell_type": "code",
   "execution_count": null,
   "metadata": {
    "collapsed": true
   },
   "outputs": [],
   "source": []
  }
 ],
 "metadata": {
  "kernelspec": {
   "display_name": "Python 3",
   "language": "python",
   "name": "python3"
  },
  "language_info": {
   "codemirror_mode": {
    "name": "ipython",
    "version": 3
   },
   "file_extension": ".py",
   "mimetype": "text/x-python",
   "name": "python",
   "nbconvert_exporter": "python",
   "pygments_lexer": "ipython3",
   "version": "3.6.3"
  }
 },
 "nbformat": 4,
 "nbformat_minor": 2
}
