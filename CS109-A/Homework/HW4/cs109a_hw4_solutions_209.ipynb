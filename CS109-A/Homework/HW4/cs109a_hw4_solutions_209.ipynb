{
 "cells": [
  {
   "cell_type": "markdown",
   "metadata": {},
   "source": [
    "# <img style=\"float: left; padding-right: 10px; width: 45px\" src=\"https://raw.githubusercontent.com/Harvard-IACS/2018-CS109A/master/content/styles/iacs.png\"> CS109A Introduction to Data Science: \n",
    "\n",
    "## Homework 4  AC 209 : Regularization\n",
    "\n",
    "\n",
    "**Harvard University**<br/>\n",
    "**Fall 2018**<br/>\n",
    "**Instructors**: Pavlos Protopapas, Kevin Rader\n",
    "\n",
    "Names of people you have worked with goes here: "
   ]
  },
  {
   "cell_type": "code",
   "execution_count": null,
   "metadata": {},
   "outputs": [],
   "source": []
  },
  {
   "cell_type": "markdown",
   "metadata": {},
   "source": [
    "<hr style=\"height:2pt\">"
   ]
  },
  {
   "cell_type": "code",
   "execution_count": 44,
   "metadata": {},
   "outputs": [
    {
     "data": {
      "text/html": [
       "<style>\n",
       "h1 { \n",
       "    padding-top: 25px;\n",
       "    padding-bottom: 25px;\n",
       "    text-align: left; \n",
       "    padding-left: 10px;\n",
       "    background-color: #DDDDDD; \n",
       "    color: black;\n",
       "}\n",
       "h2 { \n",
       "    padding-top: 10px;\n",
       "    padding-bottom: 10px;\n",
       "    text-align: left; \n",
       "    padding-left: 5px;\n",
       "    background-color: #EEEEEE; \n",
       "    color: black;\n",
       "}\n",
       "\n",
       "div.exercise {\n",
       "\tbackground-color: #ffcccc;\n",
       "\tborder-color: #E9967A; \t\n",
       "\tborder-left: 5px solid #800080; \n",
       "\tpadding: 0.5em;\n",
       "}\n",
       "div.theme {\n",
       "\tbackground-color: #DDDDDD;\n",
       "\tborder-color: #E9967A; \t\n",
       "\tborder-left: 5px solid #800080; \n",
       "\tpadding: 0.5em;\n",
       "\tfont-size: 18pt;\n",
       "}\n",
       "p.q1 { \n",
       "    padding-top: 5px;\n",
       "    padding-bottom: 5px;\n",
       "    text-align: left; \n",
       "    padding-left: 5px;\n",
       "    background-color: #EEEEEE; \n",
       "    color: black;\n",
       "}\n",
       "header {\n",
       "   padding-top: 35px;\n",
       "    padding-bottom: 35px;\n",
       "    text-align: left; \n",
       "    padding-left: 10px;\n",
       "    background-color: #DDDDDD; \n",
       "    color: black;\n",
       "}\n",
       "</style>\n",
       "\n"
      ],
      "text/plain": [
       "<IPython.core.display.HTML object>"
      ]
     },
     "execution_count": 44,
     "metadata": {},
     "output_type": "execute_result"
    }
   ],
   "source": [
    "# RUN THIS CELL FOR FORMAT\n",
    "import requests\n",
    "from IPython.core.display import HTML\n",
    "styles = requests.get(\"https://raw.githubusercontent.com/Harvard-IACS/2018-CS109A/master/content/styles/cs109.css\").text\n",
    "HTML(styles)"
   ]
  },
  {
   "cell_type": "code",
   "execution_count": 45,
   "metadata": {},
   "outputs": [],
   "source": [
    "# Imports\n",
    "import numpy as np\n",
    "import matplotlib.pyplot as plt\n",
    "from sklearn.datasets import make_regression\n",
    "from sklearn.linear_model import LinearRegression, Ridge, Lasso, ElasticNet, RidgeCV, LassoCV, ElasticNetCV\n",
    "from sklearn.model_selection import train_test_split\n",
    "from sklearn.metrics import r2_score\n",
    "\n",
    "%matplotlib inline"
   ]
  },
  {
   "cell_type": "markdown",
   "metadata": {},
   "source": [
    "<div class='exercise'> <b> Question 1 [12 pts] </b> </div>\n",
    "\n",
    "Ridge and LASSO regularizations are powerful tools that not only increase generalization, but also expand the range of problems that we can solve. We will study this statement in this question. "
   ]
  },
  {
   "cell_type": "markdown",
   "metadata": {},
   "source": [
    "**5.1** Let $X\\in \\mathbb{R}^{n\\times p}$ be a matrix of observations, where each row corresponds an observation and each column corresponds to a predictor. Now consider the case $p > n$: explain why there is no unique solution to the OLS estimator. \n",
    "\n",
    "**5.2**  Now consider the Ridge formulation. Show that finding the ridge estimator is equivalent to solving an OLS problem after adding p dummy observations with their X value equal to $\\sqrt{\\lambda}$ at the j-th component and zero everywhere else, and their Y value set to zero. In a nutshell, show that the ridge estimator can be found by getting the least squares estimator for the augmented problem:\n",
    "\n",
    "$$X^* = \\begin{bmatrix} X \\\\ \\sqrt{\\lambda}I \\end{bmatrix}$$\n",
    "\n",
    "$$Y^* = \\begin{bmatrix} Y \\\\ \\textbf{0} \\end{bmatrix}$$\n",
    "\n",
    "**5.3** Can we now solve the $p > n$ situation? Explain why.\n",
    "\n",
    "**5.4** Take a look at the LASSO estimator expression that we derived when $X^TX=I$. What needs to happen for LASSO to nullify  $\\beta_i$?\n",
    "\n",
    "**5.5**  Can LASSO be used when $p>n$? What important consideration, related to the number of predictors that LASSO chooses, do we have to keep in mind in that case?\n",
    "\n",
    "**5.6** Ridge and LASSO still have room for improvement. List two limitations of Ridge, and two limitations of LASSO.\n",
    "\n",
    "**5.7** Review the class slides and answer the following questions: When is Ridge preferred? When is LASSO preferred? When is Elastic Net preferred?"
   ]
  },
  {
   "cell_type": "markdown",
   "metadata": {},
   "source": []
  },
  {
   "cell_type": "markdown",
   "metadata": {},
   "source": [
    "### Answers"
   ]
  },
  {
   "cell_type": "markdown",
   "metadata": {},
   "source": [
    "**5.1** Let $X\\in \\mathbb{R}^{n\\times p}$ be a matrix of observations, where each row corresponds an observation and each column corresponds to a predictor. Now consider the case $p > n$: explain why there is no unique solution to the OLS estimator. "
   ]
  },
  {
   "cell_type": "markdown",
   "metadata": {},
   "source": [
    "*your answer here*\n",
    "\n",
    "The formula leading to the least squares estimator is simply:\n",
    "\n",
    "$$X^TX\\beta = X^Ty$$\n",
    "\n",
    "If $p > n$, $X^TX$ is not invertible, thus there is no unique solution to the least squares problem. We can see this with a basic property of the Gram Matrix:\n",
    "\n",
    "$$Xv = 0 \\Leftrightarrow X^TXv=0$$\n",
    "\n",
    "When $p > n$, the rank of $X$ is at most $n$. This means that there are infinite nonzero $v$ that will satisfy the above equation, and the same thing happens to $X^TX$. This proves that $X^TX$ is non invertible, and we will have infinite solutions to the least squares estimator."
   ]
  },
  {
   "cell_type": "markdown",
   "metadata": {},
   "source": [
    "**5.2**  Now consider the Ridge formulation. Show that finding the ridge estimator is equivalent to solving an OLS problem after adding p dummy observations with their X value equal to $\\sqrt{\\lambda}$ at the j-th component and zero everywhere else, and their Y value set to zero. In a nutshell, show that the ridge estimator can be found by getting the least squares estimator for the augmented problem:\n",
    "\n",
    "$$X^* = \\begin{bmatrix} X \\\\ \\sqrt{\\lambda}I \\end{bmatrix}$$\n",
    "\n",
    "$$Y^* = \\begin{bmatrix} Y \\\\ \\textbf{0} \\end{bmatrix}$$\n",
    "\n"
   ]
  },
  {
   "cell_type": "markdown",
   "metadata": {},
   "source": [
    "*your answer here*\n",
    "\n",
    "The Ridge estimator is X, and this value is found by minimizing: \n",
    "\n",
    "$$min_\\beta \\lVert X\\beta - Y\\rVert_2^2+\\lambda\\lVert \\beta\\rVert^2_2$$\n",
    "\n",
    "If we develop the norms, we have:\n",
    "\n",
    "$$min_\\beta \\left ((\\beta_1 x_1 - y_1)^2 +\\dots+ (\\beta_n x_n - y_n)^2 + \\lambda\\sum_{i=1}^p\\beta_i^2 \\right)$$\n",
    "\n",
    "$$min_\\beta \\left ((\\beta_1 x_1 - y_1)^2 +\\dots+ (\\beta_n x_n - y_n)^2 + \\sum_{i=1}^p(\\sqrt{\\lambda}\\beta_i)^2 \\right)$$\n",
    "\n",
    "$$min_\\beta \\left( (\\beta_1 x_1 - y_1)^2 +\\dots+ (\\beta_n x_n - y_n)^2 + (\\sqrt{\\lambda}\\beta_1 - 0)^2 +\\dots+ (\\sqrt{\\lambda}\\beta_p - 0)^2\\right)$$\n",
    "\n",
    "And this expression could be seen as another norm, with the following form:\n",
    "\n",
    "$$min_\\beta \\left\\lVert       \\begin{pmatrix}\n",
    "          \\begin{bmatrix}\n",
    "            X\\beta\\\\  \n",
    "           \\sqrt{\\lambda}I\\beta\n",
    "          \\end{bmatrix} -\n",
    "          \\begin{bmatrix}\n",
    "           Y \\\\\n",
    "           \\textbf{0}\n",
    "         \\end{bmatrix}\n",
    "    \\end{pmatrix} \\right \\rVert^2_2$$\n",
    "    \n",
    "$$min_\\beta \\left\\lVert       \\begin{pmatrix}\n",
    "          \\begin{bmatrix}\n",
    "            X\\\\  \n",
    "           \\sqrt{\\lambda}I_p\n",
    "          \\end{bmatrix}\\beta -\n",
    "          \\begin{bmatrix}\n",
    "           Y \\\\\n",
    "           \\textbf{0}\n",
    "         \\end{bmatrix}\n",
    "    \\end{pmatrix} \\right \\rVert^2_2$$\n",
    "    \n",
    "Developing this norm gives us the same expression as above. Now this expression is basically computing the maximum likelihood estimator with a modified X and Y matrices, $X^*$ and $Y^*$:\n",
    "$$\n",
    "X^* = \n",
    "          \\begin{bmatrix}\n",
    "            X\\\\  \n",
    "           \\sqrt{\\lambda}I_p\n",
    "          \\end{bmatrix}\n",
    "$$\n",
    "          \n",
    "$$\n",
    "Y^*=\\begin{bmatrix}\n",
    "           Y \\\\\n",
    "           \\textbf{0}\n",
    "         \\end{bmatrix}\n",
    "$$\n",
    "\n",
    "\n",
    "We have then shown that ridge regression can be seen as extending the X matrix with m rows corresponding to $\\sqrt{\\lambda}I_p$, and extending Y with corresponding zeros. "
   ]
  },
  {
   "cell_type": "markdown",
   "metadata": {},
   "source": [
    "**5.3** Can we now solve the $p > n$ situation? Explain why."
   ]
  },
  {
   "cell_type": "markdown",
   "metadata": {},
   "source": [
    "*your answer here*\n",
    "\n",
    "Solving this minimization problem is now possible since the new matrix $X^* = \\begin{bmatrix}\n",
    "            X\\\\  \n",
    "           \\sqrt{\\lambda}I_p\n",
    "          \\end{bmatrix}$ now has p independent rows, which means that it has at least rank p. The square matrix $X^{*T}X^* \\in \\mathbb{R}^{p\\times p}$ will then necessarily have rank p (full rank). "
   ]
  },
  {
   "cell_type": "markdown",
   "metadata": {},
   "source": [
    "**5.4** Take a look at the LASSO estimator expression that we derived when $X^TX=I$. What needs to happen for LASSO to nullify  $\\beta_i$?\n"
   ]
  },
  {
   "cell_type": "markdown",
   "metadata": {},
   "source": [
    "*your answer here*\n",
    "\n",
    "From the slides, the LASSO estimator formulation shows that component $\\beta_i$ will be nullified if $|x_i^Ty| < \\lambda/2$. This means that if column i's correlation with y is lower than half our regularization parameter, we remove that predictor."
   ]
  },
  {
   "cell_type": "markdown",
   "metadata": {},
   "source": [
    "**5.5**  Can LASSO be used when $p>n$? What important consideration, related to the number of predictors that LASSO chooses, do we have to keep in mind in that case?"
   ]
  },
  {
   "cell_type": "markdown",
   "metadata": {},
   "source": [
    "*your answer here*\n",
    "\n",
    "Lasso can be used in the p > n case, as there is no explicit requiremenet for $X^TX$ to be invertible in its formulation. It is important to keep in mind, however, that LASSO will select at most n predictors (and nullify the rest), so in extreme cases suchas as p >> n, we might need another type of regularization such as Elastic Net. One thing done in practice in these cases to reduce the dimiensionality is to fit a Ridge Regression and remove all coefficients with absolute magnitude greater than a certain threshold."
   ]
  },
  {
   "cell_type": "markdown",
   "metadata": {},
   "source": [
    "**5.6 ** Ridge and LASSO still have room for improvement. List two limitations of Ridge, and two limitations of LASSO."
   ]
  },
  {
   "cell_type": "markdown",
   "metadata": {},
   "source": [
    "*your answer here* \n",
    "\n",
    "Ridge:\n",
    "- Does not perform feature selection.\n",
    "- Lower interpretability\n",
    "- Sensitive to outliers\n",
    "- If the problem is intrinsically sparse, Ridge will not regularize as well as expected.\n",
    "\n",
    "LASSO:\n",
    "- Can eliminate at most n predictors. \n",
    "- When features are highly collinear, LASSO becomes unstable in its choice of features to remove.\n",
    "- No analytical solution"
   ]
  },
  {
   "cell_type": "markdown",
   "metadata": {},
   "source": [
    "**5.7** Review the class slides and answer the following questions: When is Ridge preferred? When is LASSO preferred? When is Elastic Net preferred?"
   ]
  },
  {
   "cell_type": "markdown",
   "metadata": {},
   "source": [
    "*your answer here* \n",
    "\n",
    "Ridge is preferred when the problem is known to have strong multicollinearity, but a manageable amount of predictors. Ridge's main strength is pushing the problem towards a well-conditioned state, and increasing generalization by reducing the magnitude of the betas. \n",
    "\n",
    "LASSO is preferred over Ridge when we are dealing with an underlying model that is believed to have few nonzero coefficients (sparse solution), because $L_1$  regularization promotes sparsity, while $L_2$ does not. \n",
    "\n",
    "Elastic Net is preferred over LASSO in a general sense because it combines the power of both estimators. Keep in mind, however, that EN has 2 hyperparameters that need to be found. It is particularly helpful in situations when the number of features is much greater than the number of samples. EN is also good in cases where there are highly correlated features, as LASSO behaves inconsitently in the choice of estimators to keep."
   ]
  },
  {
   "cell_type": "markdown",
   "metadata": {},
   "source": [
    "<div class='exercise'><b> Question 6 [12pts]</b></div>\n",
    "\n",
    "We want to analyze the behavior of our estimators in cases where p > n. We will generate dummy regression problems for this analysis, so that we have full control on the properties of the problem. Sklearn provides an easy to use function to generate regression problems: `sklearn.datasets.make_regression`."
   ]
  },
  {
   "cell_type": "markdown",
   "metadata": {},
   "source": [
    "**6.1** Use the provided notebook cell to to build a dataset with 500 samples, 2500 features, 100 informative features and a noise sd of 10.0. The function will return the true coefficients in `true_coef`. Intercepts are not generated, so do not fit them in your regressions. Fit LinearRegression, LassoCV, RidgeCV and ElasticNetCV estimators on the traininig set with 5-fold crossvalidation.\n",
    "\n",
    "Test 100 lambda values from 0.01 to 1000, in logscale. For Elastic Net, also test the following L1 ratios: [.1, .5, .7, .9, .95, .99] (it is good practice to try more ratio values near the L1 term, as the ridge penalty tends to have higher absolute magnitude).\n",
    "\n",
    "**Do not change `random_state=209`, to facilitate grading.**\n",
    "\n",
    "**6.2** As we used `n_informative = 100`, the true betas will contain 100 non-zero values. Let's see if our estimators picked up on that trend. Print the number of betas greater than $10^{-6}$ (non-zero values) for each estimator, and comment on the results.\n",
    "\n",
    "**6.3**  Let's see how our estimators perform on the test set. Calculate $R^2$ for each estimator on the test set. Comment on the results.\n",
    "\n",
    "**6.4** Now, let's observe what happens when we  increase the number of informative features. Generate another regression problem with the same parameters as before, but this time with an n_informative of 600. Finally, fit OLS, Ridge, LASSO and EN, and print the number of non-zero coefficients and R2 Scores.\n",
    "\n",
    "\n",
    "**6.5**  Compare the results with the previous case and comment. What can we say about LASSO and Elastic Net in particular?"
   ]
  },
  {
   "cell_type": "code",
   "execution_count": 53,
   "metadata": {},
   "outputs": [],
   "source": [
    "# Constants\n",
    "n= 500\n",
    "p= 2500\n",
    "informative= 100\n",
    "rs = 209\n",
    "sd = 5\n",
    "\n",
    "# Generate regresion\n",
    "X,y,true_coef = make_regression(n_samples = n, n_features = p, n_informative = informative,\n",
    "                                coef = True, noise = sd)\n",
    "\n",
    "# Get train test split\n",
    "X_train, X_test, y_train, y_test = train_test_split(X, y, test_size=0.33, random_state=rs)"
   ]
  },
  {
   "cell_type": "markdown",
   "metadata": {},
   "source": [
    "### Solutions"
   ]
  },
  {
   "cell_type": "markdown",
   "metadata": {},
   "source": [
    "**6.1** Use the provided notebook cell to to build a dataset with 500 samples, 2500 features, 100 informative features and a noise sd of 10.0. The function will return the true coefficients in `true_coef`. Intercepts are not generated, so do not fit them in your regressions. Fit LinearRegression, LassoCV, RidgeCV and ElasticNetCV estimators on the traininig set with 5-fold crossvalidation."
   ]
  },
  {
   "cell_type": "code",
   "execution_count": 54,
   "metadata": {},
   "outputs": [],
   "source": [
    "# your code here \n",
    "\n",
    "def fit_regression(X, y, regr=['OLS'], verbose=True, lambdas=None, ratios=[0.5]):\n",
    "    betas=[]\n",
    "    regressions=[]\n",
    "    if regr == 'all':\n",
    "        regr = ['OLS','Ridge','LASSO','EN']\n",
    "        \n",
    "    for r in regr:\n",
    "        if r == 'OLS':\n",
    "            # OLS fit\n",
    "            regr_ols = LinearRegression(fit_intercept=False)\n",
    "            regr_ols.fit(X, y)\n",
    "            beta_ols = regr_ols.coef_ \n",
    "            if verbose:\n",
    "                print(f'OLS coefficients: {beta_ols}')\n",
    "            betas.append(beta_ols)\n",
    "            regressions.append(regr_ols)\n",
    "        \n",
    "        elif r == 'Ridge':\n",
    "            # Ridge fit\n",
    "            regr_ridge = RidgeCV(cv=5, fit_intercept=False, alphas=lambdas)\n",
    "            regr_ridge.fit(X, y)\n",
    "            beta_ridge = regr_ridge.coef_\n",
    "            if verbose:\n",
    "                print(f'Ridge coefficients:{beta_ridge}, regularization coef: {regr_ridge.alpha_}')\n",
    "            betas.append(beta_ridge)\n",
    "            regressions.append(regr_ridge)\n",
    "        \n",
    "        elif r == 'LASSO':\n",
    "            # LASSO fit\n",
    "            regr_lasso = LassoCV(cv=5, fit_intercept=False, alphas=lambdas)\n",
    "            regr_lasso.fit(X, y)\n",
    "            beta_lasso = regr_lasso.coef_ \n",
    "            if verbose:\n",
    "                print(f'LASSO coefficients:{beta_lasso}, regularization coef: {regr_lasso.alpha_}')\n",
    "            betas.append(beta_lasso)\n",
    "            regressions.append(regr_lasso)\n",
    "\n",
    "        elif r == 'EN':\n",
    "            # Elastic Net fit\n",
    "            regr_EN = ElasticNetCV(cv=5, fit_intercept=False, alphas=lambdas, l1_ratio=ratios)\n",
    "            regr_EN.fit(X, y)\n",
    "            beta_EN = regr_EN.coef_ \n",
    "            if verbose:\n",
    "                print(f'ElasticNet coefficients:{beta_EN}, regularization coef: {regr_EN.alpha_}')\n",
    "            betas.append(beta_EN)\n",
    "            regressions.append(regr_EN)\n",
    "    \n",
    "    return betas, regressions\n",
    "\n",
    "lambdas = np.logspace(-2,3,100)\n",
    "ratios = [.1, .5, .7, .9, .95, .99]\n",
    "regrs = ['OLS','Ridge','LASSO','EN']\n",
    "betas, regressions = fit_regression(X_train,y_train,regr=regrs,verbose=False, lambdas=lambdas, ratios=ratios);"
   ]
  },
  {
   "cell_type": "markdown",
   "metadata": {},
   "source": [
    "**6.2** As we used `n_informative = 100`, the true betas will contain 100 non-zero values. Let's see if our estimators picked up on that trend. Print the number of betas with absolute value greater than $10^{-6}$ (which will corrspond to non-zero values) for each estimator, and comment on the results."
   ]
  },
  {
   "cell_type": "code",
   "execution_count": 55,
   "metadata": {},
   "outputs": [
    {
     "name": "stdout",
     "output_type": "stream",
     "text": [
      "Number of true non-zero betas: 100\n",
      "Non-zero betas for OLS: 2500\n",
      "Non-zero betas for Ridge: 2500\n",
      "Non-zero betas for LASSO: 306\n",
      "Non-zero betas for EN: 415\n"
     ]
    }
   ],
   "source": [
    "# your code here\n",
    "# Find nonzero betas function\n",
    "def find_betas_nonzero(betas, tol):\n",
    "    return sum(np.abs(betas)>tol)\n",
    "\n",
    "print('Number of true non-zero betas:',find_betas_nonzero(true_coef, 1e-6))\n",
    "\n",
    "for i,r in enumerate(regrs):\n",
    "    print(f'Non-zero betas for {r}:',find_betas_nonzero(betas[i], 1e-6))"
   ]
  },
  {
   "cell_type": "markdown",
   "metadata": {},
   "source": [
    "*your answer here*\n",
    "\n",
    "LASSO gets close to the true value of zeros in the beta vector. In general, it appears to come up with a model that is more similar to the true one. EN also reduces multiple coefficients to zero, but much less than LASSO. Ridge, as expected, has no null coefficients, following the OLS trend."
   ]
  },
  {
   "cell_type": "markdown",
   "metadata": {},
   "source": [
    "**6.3**  Let's see how our estimators perform on the test set. Calculate $R^2$ for each estimator on the test set. Comment on the results."
   ]
  },
  {
   "cell_type": "code",
   "execution_count": 56,
   "metadata": {},
   "outputs": [
    {
     "name": "stdout",
     "output_type": "stream",
     "text": [
      "Test R2 for OLS: 0.14931310317181334\n",
      "Test R2 for Ridge: 0.1493130025657693\n",
      "Test R2 for LASSO: 0.7423310123488791\n",
      "Test R2 for EN: 0.5453639644204611\n"
     ]
    }
   ],
   "source": [
    "# your code here \n",
    "# We can use regressions.score to easily compute the R2.\n",
    "for i,r in enumerate(regrs):\n",
    "    print(f'Test R2 for {r}:',regressions[i].score(X_test, y_test))\n"
   ]
  },
  {
   "cell_type": "markdown",
   "metadata": {},
   "source": [
    "*your answer here*\n",
    "\n",
    "The performance of OLS and RIdge are fairly similar in this case (we are not in a situation where Ridge's benefits shine). Lasso performs well, as was to be expected, and Elastic Net is in between. This is what we were expecting: because the solution for this regression is very sparse, Lasso will perform extremely well, while Ridge will struggle. Elastic Net will also perform reasonably well, as long as our crossvalidation gives us a good l1_ratio."
   ]
  },
  {
   "cell_type": "markdown",
   "metadata": {},
   "source": [
    "**6.4** Now, let's observe what happens when we  increase the number of informative features. Generate another regression problem with the same parameters as before, but this time with an n_informative of 600. Finally, fit OLS, Ridge, LASSO and EN, and print the number of non-zero coefficients and R2 Scores."
   ]
  },
  {
   "cell_type": "code",
   "execution_count": 57,
   "metadata": {},
   "outputs": [
    {
     "name": "stdout",
     "output_type": "stream",
     "text": [
      "Number of true non-zero betas: 600\n",
      "Non-zero betas for OLS: 2500\n",
      "Non-zero betas for Ridge: 2500\n",
      "Non-zero betas for LASSO: 107\n",
      "Non-zero betas for EN: 2325\n",
      "\n",
      "Test R2 for OLS: 0.1435722260611656\n",
      "Test R2 for Ridge: 0.14298323087045006\n",
      "Test R2 for LASSO: -0.03446291703661131\n",
      "Test R2 for EN: 0.14243898486427542\n"
     ]
    }
   ],
   "source": [
    "# your code here\n",
    "# Generate regression\n",
    "X,y,true_coef = make_regression(n_samples = n, n_features = p, n_informative = 600,\n",
    "                                coef = True, noise = sd, random_state=rs)\n",
    "\n",
    "# Get train and test sets\n",
    "X_train, X_test, y_train, y_test = train_test_split(X, y, test_size=0.33, random_state=rs)\n",
    "\n",
    "\n",
    "# Your code here\n",
    "\n",
    "\n",
    "betas, regressions = fit_regression(X_train,y_train,regr=regrs,verbose=False,lambdas=lambdas, ratios=ratios);\n",
    "\n",
    "print('Number of true non-zero betas:',find_betas_nonzero(true_coef, 1e-6))\n",
    "for i,r in enumerate(regrs):\n",
    "    print(f'Non-zero betas for {r}:',find_betas_nonzero(betas[i], 1e-6))\n",
    "    \n",
    "print('')\n",
    "for i,r in enumerate(regrs):\n",
    "    print(f'Test R2 for {r}:',regressions[i].score(X_test, y_test))\n"
   ]
  },
  {
   "cell_type": "markdown",
   "metadata": {},
   "source": [
    "**6.5**  Compare the results with the previous case and comment. What can we say about LASSO and Elastic Net in particular?"
   ]
  },
  {
   "cell_type": "markdown",
   "metadata": {},
   "source": [
    "*your answer here* \n",
    "\n",
    "Here, we see that the LASSO performance tanks considerably, highlighting one of LASSO's drawbacks: LASSO can only choose $n$ predictors. So in this case, where we bumped the amount of informative features to n+100, LASSO simply cannot generate a good enough representation of the underlying model to perform well. Ridge gets good results in this context, and ElasticNet can be seen to perform very well once again: as it has both regularizations, EN is not restricted in the amount of predictors to use. Elastic Net should be our estimator of choice in situations where $p > n$ and we are unsure of the amount of informative features."
   ]
  },
  {
   "cell_type": "markdown",
   "metadata": {},
   "source": [
    "<div class='exercise'><b> Question 7 [1pt] (for fun) </b></div>\n",
    "\n",
    "We would like to visualize how Ridge, LASSO and Elastic Net behave. We will build a toy regression example to observe the behavior of the coefficients and loss function as lambda increases.\n",
    "\n",
    "**7.1** Use `sklearn.datasets.make_regression` to build a well-conditioned regression problem with 1000 samples, 5 features, noise standard deviation of 10 and random state 209.\n",
    "\n",
    "**7.2** Find the Ridge, LASSO and EN estimator for this problem, varying the regularization parameter in the interval $[0.1,100]$ for LASSO and EN, and $[0.1,10000]$ for Ridge. Plot the evolution of the 5 coefficients for each estimator in a 2D plot, where the X axis is the regularization parameter and the Y axis is the coefficient value. For Elastic Net, make 4 plots, each one with one of the following L1 ratios: $[0.1, 0.5, 0.8, 0.95]$ You should have 6 plots: one for Lasso, one for Ridge, and 4 for EN. Each plot should have 5 curves, one per coefficient. \n",
    "\n",
    "**7.3** Comment on this evolution. Does this make sense with what we've seen so far?\n",
    "\n",
    "**7.4** We're now interested in visualizing the behavior of the Loss functions. First, generate a regression problem with 1000 samples and 2 features. Then, use the provided \"loss_3d_interactive\" function to observe how the loss surface changes as the regularization parameter changes. Test the function with Ridge_loss, LASSO_loss and EN_loss. Comment on what you observe.**\n",
    "\n",
    "**Note: for this to work, you have to install plotly. Go to https://plot.ly/python/getting-started/ and follow the steps. You don't need to make an account as we'll use the offline mode.**"
   ]
  },
  {
   "cell_type": "markdown",
   "metadata": {},
   "source": [
    "### Solutions "
   ]
  },
  {
   "cell_type": "markdown",
   "metadata": {},
   "source": [
    "**7.1** Use `sklearn.datasets.make_regression` to build a well-conditioned regression problem with 1000 samples, 5 features, noise standard deviation of 10 and random state 209.\n",
    "\n"
   ]
  },
  {
   "cell_type": "code",
   "execution_count": 58,
   "metadata": {},
   "outputs": [],
   "source": [
    "# your code here \n",
    "X,y,true_coef = make_regression(n_samples = 1000, n_features = 5, noise = 10, random_state=209, coef=True)"
   ]
  },
  {
   "cell_type": "markdown",
   "metadata": {},
   "source": [
    "**7.2** Find the Ridge, LASSO and EN estimator for this problem, varying the regularization parameter in the interval $[0.1,100]$ for LASSO and EN, and $[0.1,10000]$ for Ridge. Plot the evolution of the 5 coefficients for each estimator in a 2D plot, where the X axis is the regularization parameter and the Y axis is the coefficient value. For Elastic Net, make 4 plots, each one with one of the following L1 ratios: $[0.1, 0.5, 0.8, 0.95]$ You should have 6 plots: one for Lasso, one for Ridge, and 4 for EN. Each plot should have 5 curves, one per coefficient. **"
   ]
  },
  {
   "cell_type": "code",
   "execution_count": 59,
   "metadata": {},
   "outputs": [],
   "source": [
    "# your code here \n",
    "# Set lambdas\n",
    "lambdas1 = np.linspace(0.1,100,500)\n",
    "lambdas2 = np.linspace(0.1,10000,500)\n",
    "l1_ratios = [0.1,0.5,0.8,0.95]\n",
    "\n",
    "# Fit Ridge\n",
    "clf = Ridge()\n",
    "coefs_ridge=[]\n",
    "for l in lambdas2:\n",
    "    clf.set_params(alpha=l)\n",
    "    clf.fit(X, y)\n",
    "    coefs_ridge.append(clf.coef_)\n",
    "    \n",
    "# Fit LASSO\n",
    "clf = Lasso()\n",
    "coefs_lasso=[]\n",
    "for l in lambdas1:\n",
    "    clf.set_params(alpha=l)\n",
    "    clf.fit(X, y)\n",
    "    coefs_lasso.append(clf.coef_)\n",
    "    \n",
    "# Fit ElasticNet\n",
    "clf = ElasticNet()\n",
    "coefs_EN={}\n",
    "for ratio in l1_ratios:\n",
    "    coefs_EN[ratio]=[]\n",
    "    for l in lambdas1:\n",
    "        clf.set_params(alpha=l)\n",
    "        clf.set_params(l1_ratio=ratio)\n",
    "        clf.fit(X, y)\n",
    "        coefs_EN[ratio].append(clf.coef_)\n",
    "    "
   ]
  },
  {
   "cell_type": "code",
   "execution_count": 60,
   "metadata": {
    "scrolled": false
   },
   "outputs": [
    {
     "data": {
      "image/png": "[encoded data removed]",
      "text/plain": [
       "<matplotlib.figure.Figure at 0x1c08bcb9be0>"
      ]
     },
     "metadata": {},
     "output_type": "display_data"
    },
    {
     "data": {
      "image/png": "[encoded data removed]",
      "text/plain": [
       "<matplotlib.figure.Figure at 0x1c08bcb9cc0>"
      ]
     },
     "metadata": {},
     "output_type": "display_data"
    },
    {
     "data": {
      "image/png": "[encoded data removed]",
      "text/plain": [
       "<matplotlib.figure.Figure at 0x1c087db5710>"
      ]
     },
     "metadata": {},
     "output_type": "display_data"
    },
    {
     "data": {
      "image/png": "[encoded data removed]",
      "text/plain": [
       "<matplotlib.figure.Figure at 0x1c0884cc240>"
      ]
     },
     "metadata": {},
     "output_type": "display_data"
    },
    {
     "data": {
      "image/png": "[encoded data removed]",
      "text/plain": [
       "<matplotlib.figure.Figure at 0x1c08850fa20>"
      ]
     },
     "metadata": {},
     "output_type": "display_data"
    },
    {
     "data": {
      "image/png": "[encoded data removed]",
      "text/plain": [
       "<matplotlib.figure.Figure at 0x1c08844c828>"
      ]
     },
     "metadata": {},
     "output_type": "display_data"
    }
   ],
   "source": [
    "#your code here\n",
    "# Plotting code\n",
    "def plot_coef_variation(lambdas, betas, name='', logscale=False):\n",
    "    plt.figure()\n",
    "    plt.plot(lambdas,betas)\n",
    "    if logscale:\n",
    "        plt.xscale('log')\n",
    "    plt.xlabel('alpha')\n",
    "    plt.ylabel('weights')\n",
    "    plt.title(name+' coefficients as a function of the regularization')\n",
    "    plt.axis('tight')\n",
    "    \n",
    "plot_coef_variation(lambdas2,coefs_ridge, 'Ridge')\n",
    "plot_coef_variation(lambdas1,coefs_lasso, 'LASSO')\n",
    "for r in l1_ratios:\n",
    "    plot_coef_variation(lambdas1,coefs_EN[r], 'EN (l1_ratio='+str(r)+')')"
   ]
  },
  {
   "cell_type": "markdown",
   "metadata": {},
   "source": [
    "**7.3** Comment on this evolution. Does this make sense with what we've seen so far?**"
   ]
  },
  {
   "cell_type": "markdown",
   "metadata": {},
   "source": [
    "*your answer here* \n",
    "\n",
    "AS can be seen, the Ridge coefficients approach zero smoothly, while the LASSO coefficients tend to move towards zero in a sharper manner. They are already nullified at lower values of lambda. The EN is a mix between the two, as expected. The L1 ratio controls how much of L1 or L2 regularization we need, so the plots become more like LASSO when we increase it."
   ]
  },
  {
   "cell_type": "markdown",
   "metadata": {},
   "source": [
    "**7.4** We're now interested in visualizing the behavior of the Loss functions. First, generate a regression problem with 1000 samples and 2 features. Then, use the provided \"loss_3d_interactive\" function to observe how the loss surface changes as the regularization parameter changes. Test the function with Ridge_loss, LASSO_loss and EN_loss. Comment on what you observe.**\n",
    "\n",
    "**Note: for this to work, you have to install plotly. Go to https://plot.ly/python/getting-started/ and follow the steps. You don't need to make an account as we'll use the offline mode.**"
   ]
  },
  {
   "cell_type": "code",
   "execution_count": 61,
   "metadata": {},
   "outputs": [],
   "source": [
    "X,y,true_coef = make_regression(n_samples = 1000, n_features = 2, noise = 10, random_state=209, coef=True)"
   ]
  },
  {
   "cell_type": "code",
   "execution_count": 62,
   "metadata": {},
   "outputs": [
    {
     "data": {
      "text/html": [
       "<script>requirejs.config({paths: { 'plotly': ['https://cdn.plot.ly/plotly-latest.min']},});if(!window.Plotly) {{require(['plotly'],function(plotly) {window.Plotly=plotly;});}}</script>"
      ],
      "text/vnd.plotly.v1+html": [
       "<script>requirejs.config({paths: { 'plotly': ['https://cdn.plot.ly/plotly-latest.min']},});if(!window.Plotly) {{require(['plotly'],function(plotly) {window.Plotly=plotly;});}}</script>"
      ]
     },
     "metadata": {},
     "output_type": "display_data"
    }
   ],
   "source": [
    "from ipywidgets import interactive, HBox, VBox\n",
    "from plotly.offline import download_plotlyjs, init_notebook_mode, plot, iplot\n",
    "import plotly.graph_objs as go\n",
    "init_notebook_mode(connected=True)\n",
    "\n",
    "def OLS_loss(X, y, beta, lbda=0):\n",
    "    y_hat = np.dot(X,beta)\n",
    "    return np.sum((y_hat-y)**2,axis=0)\n",
    "\n",
    "def Ridge_loss(X, y, beta, lbda):\n",
    "    y_hat = np.dot(X,beta)\n",
    "    return np.sum((y_hat-y)**2,axis=0) + lbda*np.sum(beta**2, axis=0)\n",
    "\n",
    "def LASSO_loss(X, y, beta, lbda):\n",
    "    y_hat = np.dot(X,beta)\n",
    "    return (1 / (2 * len(X)))*np.sum((y_hat-y)**2,axis=0) + lbda*np.sum(np.abs(beta), axis=0)\n",
    "\n",
    "def EN_loss(X, y, beta, lbda):\n",
    "    ratio=0.1\n",
    "    y_hat = np.dot(X,beta)\n",
    "    return (1 / (2 * len(X)))*np.sum((y_hat-y)**2,axis=0) + lbda*(ratio*np.sum(beta**2, axis=0) + (1-ratio)*np.sum(np.abs(beta), axis=0))\n",
    "\n",
    "def loss_3d_interactive(X, y, loss='Ridge'):\n",
    "    '''Uses plotly to draw an interactive 3D representation of the loss function, \n",
    "    with a slider to control the regularization factor.\n",
    "    \n",
    "    Inputs:\n",
    "    X: predictor matrix for the regression problem. Has to be of dim n x 2\n",
    "    y: response vector \n",
    "    \n",
    "    loss: string with the loss to plot. Options are 'Ridge', 'LASSO', 'EN'.\n",
    "    '''\n",
    "    \n",
    "    if loss == 'Ridge':\n",
    "        loss_function = Ridge_loss\n",
    "        lbda_slider_min = 0\n",
    "        lbda_slider_max = 10000\n",
    "        lbda_step = 10\n",
    "        clf = Ridge()\n",
    "    elif loss == 'LASSO':\n",
    "        loss_function = LASSO_loss\n",
    "        lbda_slider_min = 1\n",
    "        lbda_slider_max = 150\n",
    "        lbda_step = 1\n",
    "        clf = Lasso()\n",
    "    elif loss == 'EN':\n",
    "        loss_function = EN_loss\n",
    "        lbda_slider_min = 1\n",
    "        lbda_slider_max = 150\n",
    "        lbda_step = 1\n",
    "        clf = ElasticNet()\n",
    "    else:\n",
    "        raise ValueError(\"Loss string not recognized. Available options are: 'Ridge', 'LASSO', 'EN'.\")\n",
    "        \n",
    "    \n",
    "    # linspace for loss surface\n",
    "    L=20\n",
    "    lsp_b = np.linspace(-80,80,L)\n",
    "    lsp_b_x, lsp_b_y = np.meshgrid(lsp_b,lsp_b)\n",
    "    lsp_b_mat = np.column_stack((lsp_b_x.flatten(),lsp_b_y.flatten()))\n",
    "    \n",
    "    # Get all optimal betas for current lambda range\n",
    "    precomp_coefs=[]\n",
    "    for l in range(lbda_slider_min,lbda_slider_max+1,lbda_step):\n",
    "        clf.set_params(alpha=l)\n",
    "        clf.fit(X, y)\n",
    "        precomp_coefs.append(clf.coef_)\n",
    "                \n",
    "    f = go.FigureWidget(\n",
    "        data=[\n",
    "            go.Surface(\n",
    "                    x=lsp_b_x,\n",
    "                    y=lsp_b_y,\n",
    "                    z=loss_function(X,y.reshape(-1,1), lsp_b_mat.T, 0).reshape((L,L)),\n",
    "                    colorscale='Viridis',\n",
    "                    opacity=0.7,\n",
    "                    contours=dict(z=dict(show=True,\n",
    "                                         width=3,\n",
    "                                         highlight=True,\n",
    "                                         highlightcolor='orange',\n",
    "                                         project=dict(z=True),\n",
    "                                         usecolormap=True))\n",
    "            ),\n",
    "            \n",
    "            go.Scatter3d(\n",
    "                x=[p[0] for p in precomp_coefs],\n",
    "                y=[p[1] for p in precomp_coefs],\n",
    "                z=np.zeros(len(precomp_coefs)),\n",
    "                marker=dict(\n",
    "                    size=1,\n",
    "                    color='darkorange',\n",
    "                    line=dict(\n",
    "                        color='darkorange',\n",
    "                        width=1\n",
    "                        ),\n",
    "                    opacity=1\n",
    "                    )\n",
    "                ),\n",
    "            go.Scatter3d(\n",
    "                x=[0],\n",
    "                y=[0],\n",
    "                z=[0],\n",
    "                \n",
    "                marker=dict(\n",
    "                    size=10,\n",
    "                    color='orange',\n",
    "                    opacity=1\n",
    "                    ),\n",
    "            )\n",
    "        ],\n",
    "\n",
    "        layout=go.Layout(scene=go.layout.Scene(\n",
    "                    xaxis = dict(\n",
    "                        title='Beta 1'),\n",
    "                    yaxis = dict(\n",
    "                        title='Beta 2'),\n",
    "                    zaxis = dict(\n",
    "                        title='Loss'),\n",
    "            camera=go.layout.scene.Camera(\n",
    "                up=dict(x=0, y=0, z=1),\n",
    "                center=dict(x=0, y=0, z=0),\n",
    "                eye=dict(x=1.25, y=1.25, z=1.25))\n",
    "        ),\n",
    "            width=1000,\n",
    "            height=700,)\n",
    "    )\n",
    "\n",
    "    def update_z(lbda):\n",
    "        f.data[0].z = loss_function(X, y.reshape(-1,1), lsp_b_mat.T, lbda).reshape((L,L))\n",
    "        beta_opt = precomp_coefs[(lbda-lbda_slider_min)//(lbda_step)]\n",
    "        f.data[-1].x = [beta_opt[0]]\n",
    "        f.data[-1].y = [beta_opt[1]]\n",
    "        f.data[-1].z = [0]\n",
    "\n",
    "    lambda_slider = interactive(update_z, lbda=(lbda_slider_min, lbda_slider_max, lbda_step))\n",
    "    vb = VBox((f, lambda_slider))\n",
    "    vb.layout.align_items = 'center'\n",
    "    display(vb)\n",
    "    "
   ]
  },
  {
   "cell_type": "code",
   "execution_count": 63,
   "metadata": {},
   "outputs": [
    {
     "data": {
      "application/vnd.jupyter.widget-view+json": {
       "model_id": "0f1e83749bac44668ae8f122f9fc7336",
       "version_major": 2,
       "version_minor": 0
      },
      "text/plain": [
       "VBox(children=(FigureWidget({\n",
       "    'data': [{'colorscale': 'Viridis',\n",
       "              'contours': {'z': {'highlig…"
      ]
     },
     "metadata": {},
     "output_type": "display_data"
    }
   ],
   "source": [
    "#youe code here\n",
    "loss_3d_interactive(X, y, loss='Ridge')"
   ]
  },
  {
   "cell_type": "code",
   "execution_count": 64,
   "metadata": {},
   "outputs": [
    {
     "data": {
      "application/vnd.jupyter.widget-view+json": {
       "model_id": "68ceeaff7ca644f78402ed1c42ca7cea",
       "version_major": 2,
       "version_minor": 0
      },
      "text/plain": [
       "VBox(children=(FigureWidget({\n",
       "    'data': [{'colorscale': 'Viridis',\n",
       "              'contours': {'z': {'highlig…"
      ]
     },
     "metadata": {},
     "output_type": "display_data"
    }
   ],
   "source": [
    "#youe code here\n",
    "loss_3d_interactive(X, y, loss='LASSO')"
   ]
  },
  {
   "cell_type": "code",
   "execution_count": 65,
   "metadata": {},
   "outputs": [
    {
     "data": {
      "application/vnd.jupyter.widget-view+json": {
       "model_id": "5b336444af2047dd8f7ca2b732efce2e",
       "version_major": 2,
       "version_minor": 0
      },
      "text/plain": [
       "VBox(children=(FigureWidget({\n",
       "    'data': [{'colorscale': 'Viridis',\n",
       "              'contours': {'z': {'highlig…"
      ]
     },
     "metadata": {},
     "output_type": "display_data"
    }
   ],
   "source": [
    "#youe code here\n",
    "loss_3d_interactive(X, y, loss='EN')"
   ]
  },
  {
   "cell_type": "code",
   "execution_count": null,
   "metadata": {},
   "outputs": [],
   "source": []
  }
 ],
 "metadata": {
  "kernelspec": {
   "display_name": "Python 3",
   "language": "python",
   "name": "python3"
  },
  "language_info": {
   "codemirror_mode": {
    "name": "ipython",
    "version": 3
   },
   "file_extension": ".py",
   "mimetype": "text/x-python",
   "name": "python",
   "nbconvert_exporter": "python",
   "pygments_lexer": "ipython3",
   "version": "3.6.5"
  }
 },
 "nbformat": 4,
 "nbformat_minor": 2
}
