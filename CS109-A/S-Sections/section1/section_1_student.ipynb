{
 "cells": [
  {
   "cell_type": "markdown",
   "metadata": {},
   "source": [
    "# <img style=\"float: left; padding-right: 10px; width: 45px\" src=\"https://raw.githubusercontent.com/Harvard-IACS/2018-CS109A/master/content/styles/iacs.png\"> CS109A Introduction to Data Science \n",
    "\n",
    "## Standard Section 1: Introduction to Web Scraping\n",
    "\n",
    "**Harvard University**<br/>\n",
    "**Fall 2018**<br/>\n",
    "**Instructors**: Pavlos Protopapas and Kevin Rader<br/>\n",
    "**Section Leaders**: Cecilia Garraffo, Mehul Smriti Raje, Ken Arnold, Karan Motwani<br/>\n",
    "\n",
    "\n",
    "\n",
    "<hr style='height:2px'>"
   ]
  },
  {
   "cell_type": "code",
   "execution_count": 1,
   "metadata": {},
   "outputs": [
    {
     "data": {
      "text/html": [
       "<style>\n",
       "h1 { \n",
       "    padding-top: 25px;\n",
       "    padding-bottom: 25px;\n",
       "    text-align: left; \n",
       "    padding-left: 10px;\n",
       "    background-color: #DDDDDD; \n",
       "    color: black;\n",
       "}\n",
       "h2 { \n",
       "    padding-top: 10px;\n",
       "    padding-bottom: 10px;\n",
       "    text-align: left; \n",
       "    padding-left: 5px;\n",
       "    background-color: #EEEEEE; \n",
       "    color: black;\n",
       "}\n",
       "\n",
       "div.exercise {\n",
       "\tbackground-color: #ffcccc;\n",
       "\tborder-color: #E9967A; \t\n",
       "\tborder-left: 5px solid #800080; \n",
       "\tpadding: 0.5em;\n",
       "}\n",
       "div.theme {\n",
       "\tbackground-color: #DDDDDD;\n",
       "\tborder-color: #E9967A; \t\n",
       "\tborder-left: 5px solid #800080; \n",
       "\tpadding: 0.5em;\n",
       "\tfont-size: 18pt;\n",
       "}\n",
       "p.q1 { \n",
       "    padding-top: 5px;\n",
       "    padding-bottom: 5px;\n",
       "    text-align: left; \n",
       "    padding-left: 5px;\n",
       "    background-color: #EEEEEE; \n",
       "    color: black;\n",
       "}\n",
       "header {\n",
       "   padding-top: 35px;\n",
       "    padding-bottom: 35px;\n",
       "    text-align: left; \n",
       "    padding-left: 10px;\n",
       "    background-color: #DDDDDD; \n",
       "    color: black;\n",
       "}\n",
       "</style>\n",
       "\n"
      ],
      "text/plain": [
       "<IPython.core.display.HTML object>"
      ]
     },
     "execution_count": 1,
     "metadata": {},
     "output_type": "execute_result"
    }
   ],
   "source": [
    "## RUN THIS CELL TO GET THE RIGHT FORMATTING \n",
    "import requests\n",
    "from IPython.core.display import HTML\n",
    "styles = requests.get(\"https://raw.githubusercontent.com/Harvard-IACS/2018-CS109A/master/content/styles/cs109.css\").text\n",
    "HTML(styles)"
   ]
  },
  {
   "cell_type": "markdown",
   "metadata": {},
   "source": [
    "When we're done today, you will approach messy real-world data with confidence that you can get it into a format that you can manipulate.\n",
    "\n",
    "Specifically, our learning objectives are:\n",
    "* Understand the structure of an HTML document and use that structure to extract desired information\n",
    "* Use Python data structures such as lists, dictionaries, and Pandas DataFrames to store and manipulate information\n",
    "* Identify some other (semi-)structured formats commonly used for storing and transferring data, such as JSON and CSV\n",
    "* Practice using [Python](https://docs.python.org/3.6/) packages such as [BeautifulSoup](https://www.crummy.com/software/BeautifulSoup/bs4/doc/) and [Pandas](https://pandas.pydata.org/pandas-docs/stable/), including how to navigate their documentation to find functionality."
   ]
  },
  {
   "cell_type": "code",
   "execution_count": 2,
   "metadata": {},
   "outputs": [],
   "source": [
    "%matplotlib inline\n",
    "import numpy as np\n",
    "import matplotlib.pyplot as plt\n",
    "import pandas as pd\n",
    "import seaborn as sns\n",
    "sns.set_style(\"whitegrid\")\n",
    "sns.set_context(\"notebook\")\n",
    "\n",
    "import requests\n",
    "from bs4 import BeautifulSoup\n",
    "from IPython.display import HTML"
   ]
  },
  {
   "cell_type": "code",
   "execution_count": 3,
   "metadata": {},
   "outputs": [],
   "source": [
    "# Setting up 'requests' to make HTTPS requests properly takes some extra steps... we'll skip them for now.\n",
    "requests.packages.urllib3.disable_warnings()"
   ]
  },
  {
   "cell_type": "markdown",
   "metadata": {},
   "source": [
    "## Our goals today"
   ]
  },
  {
   "cell_type": "markdown",
   "metadata": {},
   "source": [
    "Is science becoming more collaborative over time? How about literature? Are there a few \"geniuses\" or lots of hard workers? One way we might answer those questions is by looking at Nobel Prizes. We could ask questions like:\n",
    "\n",
    "* How has the number of recipients per award changed over time?\n",
    "* Has anyone won a prize more than once?\n",
    "\n",
    "To answer these questions, we'll need data: *who* received *what* award *when*. \n",
    "\n",
    "Before we dive into acquiring this data the way we've been teaching in class, let's pause to ask: **what are 5 different approaches we could take to acquiring Nobel Prize data**?\n",
    "\n",
    "\n",
    "\n"
   ]
  },
  {
   "cell_type": "markdown",
   "metadata": {},
   "source": [
    "## Ingesting data (and what is JSON?)"
   ]
  },
  {
   "cell_type": "markdown",
   "metadata": {},
   "source": [
    "Turns out that https://www.nobelprize.org/prizes/lists/all-nobel-prizes/ has the data we want. But the `nobelprize.org` server is a little slow sometimes. Fortunately, the Internet Archive periodically crawls most of the Internet and saves what it finds. (That's a lot of data!) So let's grab the data from the Archive's \"Wayback Machine\" (great name!).\n",
    "\n",
    "We could go to http://archive.org, search for our URL, and get the URL for the archived version there. But since you'll often need to talk with APIs, let's take this opportunity to use the Wayback Machine's [API](https://archive.org/help/wayback_api.php) for the . This will also give us a chance to practice working with JSON."
   ]
  },
  {
   "cell_type": "code",
   "execution_count": 4,
   "metadata": {},
   "outputs": [],
   "source": [
    "url = \"https://www.nobelprize.org/prizes/lists/all-nobel-prizes/\"\n",
    "# All 3 of these do the same thing. The third is my (KCA's) favorite new feature of Python 3.6.\n",
    "wayback_query_url = 'http://archive.org/wayback/available?url={}'.format(url)\n",
    "wayback_query_url = 'http://archive.org/wayback/available?url={url}'.format(url=url)\n",
    "wayback_query_url = f'http://archive.org/wayback/available?url={url}'\n",
    "r = requests.get(wayback_query_url)"
   ]
  },
  {
   "cell_type": "markdown",
   "metadata": {},
   "source": [
    "We got some kind of response... what is it?"
   ]
  },
  {
   "cell_type": "code",
   "execution_count": 5,
   "metadata": {},
   "outputs": [
    {
     "data": {
      "text/plain": [
       "'{\"url\": \"https://www.nobelprize.org/prizes/lists/all-nobel-prizes/\", \"archived_snapshots\": {\"closest\": {\"status\": \"200\", \"available\": true, \"url\": \"http://web.archive.org/web/20180820111639/https://www.nobelprize.org/prizes/lists/all-nobel-prizes/\", \"timestamp\": \"20180820111639\"}}}'"
      ]
     },
     "execution_count": 5,
     "metadata": {},
     "output_type": "execute_result"
    }
   ],
   "source": [
    "r.text"
   ]
  },
  {
   "cell_type": "markdown",
   "metadata": {},
   "source": [
    "Yay, [JSON](https://en.wikipedia.org/wiki/JSON)! It's usually pretty easy to work with JSON, once we parse it."
   ]
  },
  {
   "cell_type": "code",
   "execution_count": 8,
   "metadata": {},
   "outputs": [
    {
     "data": {
      "text/plain": [
       "{'url': 'https://www.nobelprize.org/prizes/lists/all-nobel-prizes/',\n",
       " 'archived_snapshots': {'closest': {'status': '200',\n",
       "   'available': True,\n",
       "   'url': 'http://web.archive.org/web/20180820111639/https://www.nobelprize.org/prizes/lists/all-nobel-prizes/',\n",
       "   'timestamp': '20180820111639'}}}"
      ]
     },
     "execution_count": 8,
     "metadata": {},
     "output_type": "execute_result"
    }
   ],
   "source": [
    "import json\n",
    "json.loads(r.text)"
   ]
  },
  {
   "cell_type": "markdown",
   "metadata": {},
   "source": [
    "Loading responses as JSON is so common that `requests` has a convenience method for it:"
   ]
  },
  {
   "cell_type": "code",
   "execution_count": 9,
   "metadata": {},
   "outputs": [
    {
     "data": {
      "text/plain": [
       "{'url': 'https://www.nobelprize.org/prizes/lists/all-nobel-prizes/',\n",
       " 'archived_snapshots': {'closest': {'status': '200',\n",
       "   'available': True,\n",
       "   'url': 'http://web.archive.org/web/20180820111639/https://www.nobelprize.org/prizes/lists/all-nobel-prizes/',\n",
       "   'timestamp': '20180820111639'}}}"
      ]
     },
     "execution_count": 9,
     "metadata": {},
     "output_type": "execute_result"
    }
   ],
   "source": [
    "response_json = r.json()\n",
    "response_json"
   ]
  },
  {
   "cell_type": "markdown",
   "metadata": {},
   "source": [
    "**What kind of object is this?**\n",
    "\n",
    "A little Python syntax review: **How can we get the snapshot URL?**"
   ]
  },
  {
   "cell_type": "code",
   "execution_count": 10,
   "metadata": {},
   "outputs": [],
   "source": [
    "snapshot_url = response_json['archived_snapshots']['closest']['url']\n",
    "snapshot = requests.get(snapshot_url)"
   ]
  },
  {
   "cell_type": "markdown",
   "metadata": {},
   "source": [
    "Always remember to “not to be evil” when scraping with requests! If downloading multiple pages (like you will be on HW1), always put a delay between requests (e.g, `time.sleep(1)`, with the `time` library) so you don’t unwittingly hammer someone’s webserver and/or get blocked."
   ]
  },
  {
   "cell_type": "code",
   "execution_count": 11,
   "metadata": {},
   "outputs": [
    {
     "name": "stdout",
     "output_type": "stream",
     "text": [
      "\t<!DOCTYPE html>\n",
      "\n",
      "\t<html lang=\"en-US\" prefix=\"og: http://ogp.me/ns#\" class=\"no-js\">\n",
      "\n",
      "\t<head><script src=\"//archive.org/includes/analytics.js?v=cf34f82\" type=\"text/javascript\"></script>\n",
      "<script type=\"text/javascript\">window.addEventListener('DOMContentLoaded',function(){var v=archive_analytics.values;v.service='wb';v.server_name='wwwb-app43.us.archive.org';v.server_ms=374;archive_analytics.send_pageview({});});</script>\n",
      "<script type=\"text/javascript\" src=\"/static/js/ait-client-rewrite.js?v=153629\n"
     ]
    }
   ],
   "source": [
    "raw_html = snapshot.text\n",
    "print(raw_html[:500])"
   ]
  },
  {
   "cell_type": "markdown",
   "metadata": {},
   "source": [
    "Now, we have all our data in the notebook. Unfortunately, it is the form of one really long string, which is hard to work with directly. This is where BeautifulSoup comes in.  "
   ]
  },
  {
   "cell_type": "markdown",
   "metadata": {},
   "source": [
    "## Parse the HTML with BeautifulSoup"
   ]
  },
  {
   "cell_type": "code",
   "execution_count": 12,
   "metadata": {},
   "outputs": [],
   "source": [
    "soup = BeautifulSoup(raw_html, 'html.parser')"
   ]
  },
  {
   "cell_type": "markdown",
   "metadata": {},
   "source": [
    "Key BeautifulSoup functions we’ll be using in this section:\n",
    "- **`node.prettify()`**: Returns cleaned-up version of raw HTML, useful for printing\n",
    "- **`node.select(selector)`**: Return a list of nodes matching a [CSS selector](https://developer.mozilla.org/en-US/docs/Learn/CSS/Introduction_to_CSS/Simple_selectors)\n",
    "- **`node.select_one(selector)`**: Return the first node matching a CSS selector\n",
    "- **`node.text/soup.get_text()`**: Returns visible text of an object (e.g.,\"`<p>Some text</p>`\" -> \"Some text\")\n",
    "- **`node.contents`**: A list of the immediate children of this node\n",
    "\n",
    "You can also use these functions to find nodes.\n",
    "- **`node.find_all(<tag name>,attrs=<attributes>)`**: Returns a list of matching objects\n",
    "- **`node.find(<htmltag>,attrs=<attributes>)`**: Returns first matching object\n",
    "\n",
    "BeautifulSoup is a very powerful library -- much more info here: https://www.crummy.com/software/BeautifulSoup/bs4/doc/"
   ]
  },
  {
   "cell_type": "markdown",
   "metadata": {},
   "source": [
    "### Let's practice some BeautifulSoup commands..."
   ]
  },
  {
   "cell_type": "markdown",
   "metadata": {},
   "source": [
    "**Print a cleaned-up version of raw HTML**"
   ]
  },
  {
   "cell_type": "code",
   "execution_count": 13,
   "metadata": {},
   "outputs": [
    {
     "name": "stdout",
     "output_type": "stream",
     "text": [
      "<!DOCTYPE html>\n",
      "<html class=\"no-js\" lang=\"en-US\" prefix=\"og: http://ogp.me/ns#\">\n",
      " <head>\n",
      "  <script src=\"//archive.org/includes/analytics.js?v=cf34f82\" type=\"text/javascript\">\n",
      "  </script>\n",
      "  <script type=\"text/javascript\">\n",
      "   window.addEventListener('DOMContentLoaded',function(){var v=archive_analytics.values;v.service='wb';v.server_name='wwwb-app43.us.archive.org';v.server_ms=374;archive_analytics.send_pageview({});});\n",
      "  </script>\n",
      "  <script charset=\"utf-8\" src=\"/static/js/ait-client-rewrite.js?v=\n"
     ]
    }
   ],
   "source": [
    "print(soup.prettify()[:500])"
   ]
  },
  {
   "cell_type": "markdown",
   "metadata": {},
   "source": [
    "** Find the first “title” object ** "
   ]
  },
  {
   "cell_type": "code",
   "execution_count": 14,
   "metadata": {},
   "outputs": [
    {
     "data": {
      "text/plain": [
       "<title>All Nobel Prizes</title>"
      ]
     },
     "execution_count": 14,
     "metadata": {},
     "output_type": "execute_result"
    }
   ],
   "source": [
    "soup.select_one('title')"
   ]
  },
  {
   "cell_type": "markdown",
   "metadata": {},
   "source": [
    "** Extract the text of first “title” object ** "
   ]
  },
  {
   "cell_type": "code",
   "execution_count": 15,
   "metadata": {},
   "outputs": [
    {
     "data": {
      "text/plain": [
       "'All Nobel Prizes'"
      ]
     },
     "execution_count": 15,
     "metadata": {},
     "output_type": "execute_result"
    }
   ],
   "source": [
    "soup.select_one('title').text"
   ]
  },
  {
   "cell_type": "markdown",
   "metadata": {},
   "source": [
    "## Extracting award data"
   ]
  },
  {
   "cell_type": "markdown",
   "metadata": {},
   "source": [
    "Let's use the structure of the HTML document to extract the data we want.\n",
    "\n",
    "From inspecting the page in DevTools, we found that each award is in a `div` with a `by_year` class. Let's get all of them."
   ]
  },
  {
   "cell_type": "code",
   "execution_count": 16,
   "metadata": {},
   "outputs": [
    {
     "data": {
      "text/plain": [
       "640"
      ]
     },
     "execution_count": 16,
     "metadata": {},
     "output_type": "execute_result"
    }
   ],
   "source": [
    "award_nodes = soup.select('.by_year')\n",
    "len(award_nodes)"
   ]
  },
  {
   "cell_type": "markdown",
   "metadata": {},
   "source": [
    "Let's pull out a few examples."
   ]
  },
  {
   "cell_type": "code",
   "execution_count": 17,
   "metadata": {},
   "outputs": [
    {
     "data": {
      "text/plain": [
       "[<div class=\"by_year\">\n",
       " <h3><a href=\"http://web.archive.org/web/20180820111639/https://www.nobelprize.org/nobel_prizes/medicine/laureates/1985/\">The Nobel Prize in Physiology or Medicine 1985</a></h3>\n",
       " <h6><a href=\"http://web.archive.org/web/20180820111639/https://www.nobelprize.org/nobel_prizes/medicine/laureates/1985/brown-facts.html\">Michael S. Brown</a> and <a href=\"http://web.archive.org/web/20180820111639/https://www.nobelprize.org/nobel_prizes/medicine/laureates/1985/goldstein-facts.html\">Joseph L. Goldstein</a></h6>\n",
       " <p>“for their discoveries concerning the regulation of cholesterol metabolism”</p>\n",
       " </div>, <div class=\"by_year\">\n",
       " <h3><a href=\"http://web.archive.org/web/20180820111639/https://www.nobelprize.org/nobel_prizes/literature/laureates/1985/\">The Nobel Prize in Literature 1985</a></h3>\n",
       " <h6><a href=\"http://web.archive.org/web/20180820111639/https://www.nobelprize.org/nobel_prizes/literature/laureates/1985/simon-facts.html\">Claude Simon</a></h6>\n",
       " <p>“who in his novel combines the poet’s and the painter’s creativeness with a deepened awareness of time in the depiction of the human condition”</p>\n",
       " </div>]"
      ]
     },
     "execution_count": 17,
     "metadata": {},
     "output_type": "execute_result"
    }
   ],
   "source": [
    "award_nodes[200:202]"
   ]
  },
  {
   "cell_type": "markdown",
   "metadata": {},
   "source": [
    "How about just a single example?"
   ]
  },
  {
   "cell_type": "code",
   "execution_count": 18,
   "metadata": {},
   "outputs": [],
   "source": [
    "award_node = award_nodes[200]"
   ]
  },
  {
   "cell_type": "code",
   "execution_count": 19,
   "metadata": {},
   "outputs": [
    {
     "data": {
      "text/html": [
       "<div class=\"by_year\">\n",
       " <h3>\n",
       "  <a href=\"http://web.archive.org/web/20180820111639/https://www.nobelprize.org/nobel_prizes/medicine/laureates/1985/\">\n",
       "   The Nobel Prize in Physiology or Medicine 1985\n",
       "  </a>\n",
       " </h3>\n",
       " <h6>\n",
       "  <a href=\"http://web.archive.org/web/20180820111639/https://www.nobelprize.org/nobel_prizes/medicine/laureates/1985/brown-facts.html\">\n",
       "   Michael S. Brown\n",
       "  </a>\n",
       "  and\n",
       "  <a href=\"http://web.archive.org/web/20180820111639/https://www.nobelprize.org/nobel_prizes/medicine/laureates/1985/goldstein-facts.html\">\n",
       "   Joseph L. Goldstein\n",
       "  </a>\n",
       " </h6>\n",
       " <p>\n",
       "  “for their discoveries concerning the regulation of cholesterol metabolism”\n",
       " </p>\n",
       "</div>\n"
      ],
      "text/plain": [
       "<IPython.core.display.HTML object>"
      ]
     },
     "execution_count": 19,
     "metadata": {},
     "output_type": "execute_result"
    }
   ],
   "source": [
    "HTML(award_node.prettify())"
   ]
  },
  {
   "cell_type": "markdown",
   "metadata": {},
   "source": [
    "## Individual Activity 1\n",
    "Let's practice getting data out of a BS Node"
   ]
  },
  {
   "cell_type": "markdown",
   "metadata": {},
   "source": [
    "### Extract the prize title\n",
    "Start by getting the full title including the year."
   ]
  },
  {
   "cell_type": "code",
   "execution_count": 2,
   "metadata": {},
   "outputs": [
    {
     "ename": "NameError",
     "evalue": "name 'award_node' is not defined",
     "output_type": "error",
     "traceback": [
      "\u001b[1;31m---------------------------------------------------------------------------\u001b[0m",
      "\u001b[1;31mNameError\u001b[0m                                 Traceback (most recent call last)",
      "\u001b[1;32m<ipython-input-2-28a7c380d217>\u001b[0m in \u001b[0;36m<module>\u001b[1;34m()\u001b[0m\n\u001b[0;32m      1\u001b[0m \u001b[1;31m# Your code here\u001b[0m\u001b[1;33m\u001b[0m\u001b[1;33m\u001b[0m\u001b[0m\n\u001b[1;32m----> 2\u001b[1;33m \u001b[0maward_node\u001b[0m\u001b[1;33m.\u001b[0m\u001b[0mh3\u001b[0m\u001b[1;33m.\u001b[0m\u001b[0mtext\u001b[0m\u001b[1;33m\u001b[0m\u001b[0m\n\u001b[0m",
      "\u001b[1;31mNameError\u001b[0m: name 'award_node' is not defined"
     ]
    }
   ],
   "source": [
    "# Your code here\n",
    "award_node.h3.text"
   ]
  },
  {
   "cell_type": "markdown",
   "metadata": {},
   "source": [
    "**Now try to separate the title from the year**"
   ]
  },
  {
   "cell_type": "code",
   "execution_count": 27,
   "metadata": {},
   "outputs": [
    {
     "data": {
      "text/plain": [
       "'The Nobel Prize in Physiology or Medicine'"
      ]
     },
     "execution_count": 27,
     "metadata": {},
     "output_type": "execute_result"
    }
   ],
   "source": [
    "def get_award_title(award_node):\n",
    "    # Your code here\n",
    "    return award_node.select_one('h3').text[:-4].strip()\n",
    "get_award_title(award_node)"
   ]
  },
  {
   "cell_type": "code",
   "execution_count": 1,
   "metadata": {},
   "outputs": [
    {
     "ename": "NameError",
     "evalue": "name 'award_node' is not defined",
     "output_type": "error",
     "traceback": [
      "\u001b[1;31m---------------------------------------------------------------------------\u001b[0m",
      "\u001b[1;31mNameError\u001b[0m                                 Traceback (most recent call last)",
      "\u001b[1;32m<ipython-input-1-6466fcc171ba>\u001b[0m in \u001b[0;36m<module>\u001b[1;34m()\u001b[0m\n\u001b[0;32m      2\u001b[0m     \u001b[1;31m# Your code here\u001b[0m\u001b[1;33m\u001b[0m\u001b[1;33m\u001b[0m\u001b[0m\n\u001b[0;32m      3\u001b[0m     \u001b[1;32mreturn\u001b[0m \u001b[0mint\u001b[0m\u001b[1;33m(\u001b[0m\u001b[0maward_node\u001b[0m\u001b[1;33m.\u001b[0m\u001b[0mselect_one\u001b[0m\u001b[1;33m(\u001b[0m\u001b[1;34m'h3'\u001b[0m\u001b[1;33m)\u001b[0m\u001b[1;33m.\u001b[0m\u001b[0mtext\u001b[0m\u001b[1;33m[\u001b[0m\u001b[1;33m-\u001b[0m\u001b[1;36m4\u001b[0m\u001b[1;33m:\u001b[0m\u001b[1;33m]\u001b[0m\u001b[1;33m)\u001b[0m\u001b[1;33m\u001b[0m\u001b[0m\n\u001b[1;32m----> 4\u001b[1;33m \u001b[0mget_award_year\u001b[0m\u001b[1;33m(\u001b[0m\u001b[0maward_node\u001b[0m\u001b[1;33m)\u001b[0m\u001b[1;33m\u001b[0m\u001b[0m\n\u001b[0m",
      "\u001b[1;31mNameError\u001b[0m: name 'award_node' is not defined"
     ]
    }
   ],
   "source": [
    "def get_award_year(award_node):\n",
    "    # Your code here\n",
    "    return int(award_node.select_one('h3').text[-4:])\n",
    "get_award_year(award_node)"
   ]
  },
  {
   "cell_type": "markdown",
   "metadata": {},
   "source": [
    "**Make a list of titles for all awards**"
   ]
  },
  {
   "cell_type": "code",
   "execution_count": 30,
   "metadata": {},
   "outputs": [
    {
     "name": "stdout",
     "output_type": "stream",
     "text": [
      "['The Nobel Prize in Physics', 'The Nobel Prize in Chemistry', 'The Nobel Prize in Physiology or Medicine', 'The Nobel Prize in Literature', 'The Nobel Peace Prize', 'The Sveriges Riksbank Prize in Economic Sciences in Memory of Alfred Nobel', 'The Nobel Prize in Physics', 'The Nobel Prize in Chemistry', 'The Nobel Prize in Physiology or Medicine', 'The Nobel Prize in Literature', 'The Nobel Peace Prize', 'The Sveriges Riksbank Prize in Economic Sciences in Memory of Alfred Nobel', 'The Nobel Prize in Physics', 'The Nobel Prize in Chemistry', 'The Nobel Prize in Physiology or Medicine', 'The Nobel Prize in Literature', 'The Nobel Peace Prize', 'The Sveriges Riksbank Prize in Economic Sciences in Memory of Alfred Nobel', 'The Nobel Prize in Physics', 'The Nobel Prize in Chemistry', 'The Nobel Prize in Physiology or Medicine', 'The Nobel Prize in Literature', 'The Nobel Peace Prize', 'The Sveriges Riksbank Prize in Economic Sciences in Memory of Alfred Nobel', 'The Nobel Prize in Physics', 'The Nobel Prize in Chemistry', 'The Nobel Prize in Physiology or Medicine', 'The Nobel Prize in Literature', 'The Nobel Peace Prize', 'The Sveriges Riksbank Prize in Economic Sciences in Memory of Alfred Nobel', 'The Nobel Prize in Physics', 'The Nobel Prize in Chemistry', 'The Nobel Prize in Physiology or Medicine', 'The Nobel Prize in Literature', 'The Nobel Peace Prize', 'The Sveriges Riksbank Prize in Economic Sciences in Memory of Alfred Nobel', 'The Nobel Prize in Physics', 'The Nobel Prize in Chemistry', 'The Nobel Prize in Physiology or Medicine', 'The Nobel Prize in Literature', 'The Nobel Peace Prize', 'The Sveriges Riksbank Prize in Economic Sciences in Memory of Alfred Nobel', 'The Nobel Prize in Physics', 'The Nobel Prize in Chemistry', 'The Nobel Prize in Physiology or Medicine', 'The Nobel Prize in Literature', 'The Nobel Peace Prize', 'The Sveriges Riksbank Prize in Economic Sciences in Memory of Alfred Nobel', 'The Nobel Prize in Physics', 'The Nobel Prize in Chemistry', 'The Nobel Prize in Physiology or Medicine', 'The Nobel Prize in Literature', 'The Nobel Peace Prize', 'The Sveriges Riksbank Prize in Economic Sciences in Memory of Alfred Nobel', 'The Nobel Prize in Physics', 'The Nobel Prize in Chemistry', 'The Nobel Prize in Physiology or Medicine', 'The Nobel Prize in Literature', 'The Nobel Peace Prize', 'The Sveriges Riksbank Prize in Economic Sciences in Memory of Alfred Nobel', 'The Nobel Prize in Physics', 'The Nobel Prize in Chemistry', 'The Nobel Prize in Physiology or Medicine', 'The Nobel Prize in Literature', 'The Nobel Peace Prize', 'The Sveriges Riksbank Prize in Economic Sciences in Memory of Alfred Nobel', 'The Nobel Prize in Physics', 'The Nobel Prize in Chemistry', 'The Nobel Prize in Physiology or Medicine', 'The Nobel Prize in Literature', 'The Nobel Peace Prize', 'The Sveriges Riksbank Prize in Economic Sciences in Memory of Alfred Nobel', 'The Nobel Prize in Physics', 'The Nobel Prize in Chemistry', 'The Nobel Prize in Physiology or Medicine', 'The Nobel Prize in Literature', 'The Nobel Peace Prize', 'The Sveriges Riksbank Prize in Economic Sciences in Memory of Alfred Nobel', 'The Nobel Prize in Physics', 'The Nobel Prize in Chemistry', 'The Nobel Prize in Physiology or Medicine', 'The Nobel Prize in Literature', 'The Nobel Peace Prize', 'The Sveriges Riksbank Prize in Economic Sciences in Memory of Alfred Nobel', 'The Nobel Prize in Physics', 'The Nobel Prize in Chemistry', 'The Nobel Prize in Physiology or Medicine', 'The Nobel Prize in Literature', 'The Nobel Peace Prize', 'The Sveriges Riksbank Prize in Economic Sciences in Memory of Alfred Nobel', 'The Nobel Prize in Physics', 'The Nobel Prize in Chemistry', 'The Nobel Prize in Physiology or Medicine', 'The Nobel Prize in Literature', 'The Nobel Peace Prize', 'The Sveriges Riksbank Prize in Economic Sciences in Memory of Alfred Nobel', 'The Nobel Prize in Physics', 'The Nobel Prize in Chemistry', 'The Nobel Prize in Physiology or Medicine', 'The Nobel Prize in Literature', 'The Nobel Peace Prize', 'The Sveriges Riksbank Prize in Economic Sciences in Memory of Alfred Nobel', 'The Nobel Prize in Physics', 'The Nobel Prize in Chemistry', 'The Nobel Prize in Physiology or Medicine', 'The Nobel Prize in Literature', 'The Nobel Peace Prize', 'The Sveriges Riksbank Prize in Economic Sciences in Memory of Alfred Nobel', 'The Nobel Prize in Physics', 'The Nobel Prize in Chemistry', 'The Nobel Prize in Physiology or Medicine', 'The Nobel Prize in Literature', 'The Nobel Peace Prize', 'The Sveriges Riksbank Prize in Economic Sciences in Memory of Alfred Nobel', 'The Nobel Prize in Physics', 'The Nobel Prize in Chemistry', 'The Nobel Prize in Physiology or Medicine', 'The Nobel Prize in Literature', 'The Nobel Peace Prize', 'The Sveriges Riksbank Prize in Economic Sciences in Memory of Alfred Nobel', 'The Nobel Prize in Physics', 'The Nobel Prize in Chemistry', 'The Nobel Prize in Physiology or Medicine', 'The Nobel Prize in Literature', 'The Nobel Peace Prize', 'The Sveriges Riksbank Prize in Economic Sciences in Memory of Alfred Nobel', 'The Nobel Prize in Physics', 'The Nobel Prize in Chemistry', 'The Nobel Prize in Physiology or Medicine', 'The Nobel Prize in Literature', 'The Nobel Peace Prize', 'The Sveriges Riksbank Prize in Economic Sciences in Memory of Alfred Nobel', 'The Nobel Prize in Physics', 'The Nobel Prize in Chemistry', 'The Nobel Prize in Physiology or Medicine', 'The Nobel Prize in Literature', 'The Nobel Peace Prize', 'The Sveriges Riksbank Prize in Economic Sciences in Memory of Alfred Nobel', 'The Nobel Prize in Physics', 'The Nobel Prize in Chemistry', 'The Nobel Prize in Physiology or Medicine', 'The Nobel Prize in Literature', 'The Nobel Peace Prize', 'The Sveriges Riksbank Prize in Economic Sciences in Memory of Alfred Nobel', 'The Nobel Prize in Physics', 'The Nobel Prize in Chemistry', 'The Nobel Prize in Physiology or Medicine', 'The Nobel Prize in Literature', 'The Nobel Peace Prize', 'The Sveriges Riksbank Prize in Economic Sciences in Memory of Alfred Nobel', 'The Nobel Prize in Physics', 'The Nobel Prize in Chemistry', 'The Nobel Prize in Physiology or Medicine', 'The Nobel Prize in Literature', 'The Nobel Peace Prize', 'The Sveriges Riksbank Prize in Economic Sciences in Memory of Alfred Nobel', 'The Nobel Prize in Physics', 'The Nobel Prize in Chemistry', 'The Nobel Prize in Physiology or Medicine', 'The Nobel Prize in Literature', 'The Nobel Peace Prize', 'The Sveriges Riksbank Prize in Economic Sciences in Memory of Alfred Nobel', 'The Nobel Prize in Physics', 'The Nobel Prize in Chemistry', 'The Nobel Prize in Physiology or Medicine', 'The Nobel Prize in Literature', 'The Nobel Peace Prize', 'The Sveriges Riksbank Prize in Economic Sciences in Memory of Alfred Nobel', 'The Nobel Prize in Physics', 'The Nobel Prize in Chemistry', 'The Nobel Prize in Physiology or Medicine', 'The Nobel Prize in Literature', 'The Nobel Peace Prize', 'The Sveriges Riksbank Prize in Economic Sciences in Memory of Alfred Nobel', 'The Nobel Prize in Physics', 'The Nobel Prize in Chemistry', 'The Nobel Prize in Physiology or Medicine', 'The Nobel Prize in Literature', 'The Nobel Peace Prize', 'The Sveriges Riksbank Prize in Economic Sciences in Memory of Alfred Nobel', 'The Nobel Prize in Physics', 'The Nobel Prize in Chemistry', 'The Nobel Prize in Physiology or Medicine', 'The Nobel Prize in Literature', 'The Nobel Peace Prize', 'The Sveriges Riksbank Prize in Economic Sciences in Memory of Alfred Nobel', 'The Nobel Prize in Physics', 'The Nobel Prize in Chemistry', 'The Nobel Prize in Physiology or Medicine', 'The Nobel Prize in Literature', 'The Nobel Peace Prize', 'The Sveriges Riksbank Prize in Economic Sciences in Memory of Alfred Nobel', 'The Nobel Prize in Physics', 'The Nobel Prize in Chemistry', 'The Nobel Prize in Physiology or Medicine', 'The Nobel Prize in Literature', 'The Nobel Peace Prize', 'The Sveriges Riksbank Prize in Economic Sciences in Memory of Alfred Nobel', 'The Nobel Prize in Physics', 'The Nobel Prize in Chemistry', 'The Nobel Prize in Physiology or Medicine', 'The Nobel Prize in Literature', 'The Nobel Peace Prize', 'The Sveriges Riksbank Prize in Economic Sciences in Memory of Alfred Nobel', 'The Nobel Prize in Physics', 'The Nobel Prize in Chemistry', 'The Nobel Prize in Physiology or Medicine', 'The Nobel Prize in Literature', 'The Nobel Peace Prize', 'The Sveriges Riksbank Prize in Economic Sciences in Memory of Alfred Nobel', 'The Nobel Prize in Physics', 'The Nobel Prize in Chemistry', 'The Nobel Prize in Physiology or Medicine', 'The Nobel Prize in Literature', 'The Nobel Peace Prize', 'The Sveriges Riksbank Prize in Economic Sciences in Memory of Alfred Nobel', 'The Nobel Prize in Physics', 'The Nobel Prize in Chemistry', 'The Nobel Prize in Physiology or Medicine', 'The Nobel Prize in Literature', 'The Nobel Peace Prize', 'The Sveriges Riksbank Prize in Economic Sciences in Memory of Alfred Nobel', 'The Nobel Prize in Physics', 'The Nobel Prize in Chemistry', 'The Nobel Prize in Physiology or Medicine', 'The Nobel Prize in Literature', 'The Nobel Peace Prize', 'The Sveriges Riksbank Prize in Economic Sciences in Memory of Alfred Nobel', 'The Nobel Prize in Physics', 'The Nobel Prize in Chemistry', 'The Nobel Prize in Physiology or Medicine', 'The Nobel Prize in Literature', 'The Nobel Peace Prize', 'The Sveriges Riksbank Prize in Economic Sciences in Memory of Alfred Nobel', 'The Nobel Prize in Physics', 'The Nobel Prize in Chemistry', 'The Nobel Prize in Physiology or Medicine', 'The Nobel Prize in Literature', 'The Nobel Peace Prize', 'The Sveriges Riksbank Prize in Economic Sciences in Memory of Alfred Nobel', 'The Nobel Prize in Physics', 'The Nobel Prize in Chemistry', 'The Nobel Prize in Physiology or Medicine', 'The Nobel Prize in Literature', 'The Nobel Peace Prize', 'The Sveriges Riksbank Prize in Economic Sciences in Memory of Alfred Nobel', 'The Nobel Prize in Physics', 'The Nobel Prize in Chemistry', 'The Nobel Prize in Physiology or Medicine', 'The Nobel Prize in Literature', 'The Nobel Peace Prize', 'The Sveriges Riksbank Prize in Economic Sciences in Memory of Alfred Nobel', 'The Nobel Prize in Physics', 'The Nobel Prize in Chemistry', 'The Nobel Prize in Physiology or Medicine', 'The Nobel Prize in Literature', 'The Nobel Peace Prize', 'The Sveriges Riksbank Prize in Economic Sciences in Memory of Alfred Nobel', 'The Nobel Prize in Physics', 'The Nobel Prize in Chemistry', 'The Nobel Prize in Physiology or Medicine', 'The Nobel Prize in Literature', 'The Nobel Peace Prize', 'The Sveriges Riksbank Prize in Economic Sciences in Memory of Alfred Nobel', 'The Nobel Prize in Physics', 'The Nobel Prize in Chemistry', 'The Nobel Prize in Physiology or Medicine', 'The Nobel Prize in Literature', 'The Nobel Peace Prize', 'The Sveriges Riksbank Prize in Economic Sciences in Memory of Alfred Nobel', 'The Nobel Prize in Physics', 'The Nobel Prize in Chemistry', 'The Nobel Prize in Physiology or Medicine', 'The Nobel Prize in Literature', 'The Nobel Peace Prize', 'The Sveriges Riksbank Prize in Economic Sciences in Memory of Alfred Nobel', 'The Nobel Prize in Physics', 'The Nobel Prize in Chemistry', 'The Nobel Prize in Physiology or Medicine', 'The Nobel Prize in Literature', 'The Nobel Peace Prize', 'The Sveriges Riksbank Prize in Economic Sciences in Memory of Alfred Nobel', 'The Nobel Prize in Physics', 'The Nobel Prize in Chemistry', 'The Nobel Prize in Physiology or Medicine', 'The Nobel Prize in Literature', 'The Nobel Peace Prize', 'The Sveriges Riksbank Prize in Economic Sciences in Memory of Alfred Nobel', 'The Nobel Prize in Physics', 'The Nobel Prize in Chemistry', 'The Nobel Prize in Physiology or Medicine', 'The Nobel Prize in Literature', 'The Nobel Peace Prize', 'The Sveriges Riksbank Prize in Economic Sciences in Memory of Alfred Nobel', 'The Nobel Prize in Physics', 'The Nobel Prize in Chemistry', 'The Nobel Prize in Physiology or Medicine', 'The Nobel Prize in Literature', 'The Nobel Peace Prize', 'The Sveriges Riksbank Prize in Economic Sciences in Memory of Alfred Nobel', 'The Nobel Prize in Physics', 'The Nobel Prize in Chemistry', 'The Nobel Prize in Physiology or Medicine', 'The Nobel Prize in Literature', 'The Nobel Peace Prize', 'The Nobel Prize in Physics', 'The Nobel Prize in Chemistry', 'The Nobel Prize in Physiology or Medicine', 'The Nobel Prize in Literature', 'The Nobel Peace Prize', 'The Nobel Prize in Physics', 'The Nobel Prize in Chemistry', 'The Nobel Prize in Physiology or Medicine', 'The Nobel Prize in Literature', 'The Nobel Peace Prize', 'The Nobel Prize in Physics', 'The Nobel Prize in Chemistry', 'The Nobel Prize in Physiology or Medicine', 'The Nobel Prize in Literature', 'The Nobel Peace Prize', 'The Nobel Prize in Physics', 'The Nobel Prize in Chemistry', 'The Nobel Prize in Physiology or Medicine', 'The Nobel Prize in Literature', 'The Nobel Peace Prize', 'The Nobel Prize in Physics', 'The Nobel Prize in Chemistry', 'The Nobel Prize in Physiology or Medicine', 'The Nobel Prize in Literature', 'The Nobel Peace Prize', 'The Nobel Prize in Physics', 'The Nobel Prize in Chemistry', 'The Nobel Prize in Physiology or Medicine', 'The Nobel Prize in Literature', 'The Nobel Peace Prize', 'The Nobel Prize in Physics', 'The Nobel Prize in Chemistry', 'The Nobel Prize in Physiology or Medicine', 'The Nobel Prize in Literature', 'The Nobel Peace Prize', 'The Nobel Prize in Physics', 'The Nobel Prize in Chemistry', 'The Nobel Prize in Physiology or Medicine', 'The Nobel Prize in Literature', 'The Nobel Peace Prize', 'The Nobel Prize in Physics', 'The Nobel Prize in Chemistry', 'The Nobel Prize in Physiology or Medicine', 'The Nobel Prize in Literature', 'The Nobel Peace Prize', 'The Nobel Prize in Physics', 'The Nobel Prize in Chemistry', 'The Nobel Prize in Physiology or Medicine', 'The Nobel Prize in Literature', 'The Nobel Peace Prize', 'The Nobel Prize in Physics', 'The Nobel Prize in Chemistry', 'The Nobel Prize in Physiology or Medicine', 'The Nobel Prize in Literature', 'The Nobel Peace Prize', 'The Nobel Prize in Physics', 'The Nobel Prize in Chemistry', 'The Nobel Prize in Physiology or Medicine', 'The Nobel Prize in Literature', 'The Nobel Peace Prize', 'The Nobel Prize in Physics', 'The Nobel Prize in Chemistry', 'The Nobel Prize in Physiology or Medicine', 'The Nobel Prize in Literature', 'The Nobel Peace Prize', 'The Nobel Prize in Physics', 'The Nobel Prize in Chemistry', 'The Nobel Prize in Physiology or Medicine', 'The Nobel Prize in Literature', 'The Nobel Peace Prize', 'The Nobel Prize in Physics', 'The Nobel Prize in Chemistry', 'The Nobel Prize in Physiology or Medicine', 'The Nobel Prize in Literature', 'The Nobel Peace Prize', 'The Nobel Prize in Physics', 'The Nobel Prize in Chemistry', 'The Nobel Prize in Physiology or Medicine', 'The Nobel Prize in Literature', 'The Nobel Peace Prize', 'The Nobel Prize in Physics', 'The Nobel Prize in Chemistry', 'The Nobel Prize in Physiology or Medicine', 'The Nobel Prize in Literature', 'The Nobel Peace Prize', 'The Nobel Prize in Physics', 'The Nobel Prize in Chemistry', 'The Nobel Prize in Physiology or Medicine', 'The Nobel Prize in Literature', 'The Nobel Peace Prize', 'The Nobel Prize in Physics', 'The Nobel Prize in Chemistry', 'The Nobel Prize in Physiology or Medicine', 'The Nobel Prize in Literature', 'The Nobel Peace Prize', 'The Nobel Prize in Physics', 'The Nobel Prize in Chemistry', 'The Nobel Prize in Physiology or Medicine', 'The Nobel Prize in Literature', 'The Nobel Peace Prize', 'The Nobel Prize in Physics', 'The Nobel Prize in Chemistry', 'The Nobel Prize in Physiology or Medicine', 'The Nobel Prize in Literature', 'The Nobel Peace Prize', 'The Nobel Prize in Physics', 'The Nobel Prize in Chemistry', 'The Nobel Prize in Physiology or Medicine', 'The Nobel Prize in Literature', 'The Nobel Peace Prize', 'The Nobel Prize in Physics', 'The Nobel Prize in Chemistry', 'The Nobel Prize in Physiology or Medicine', 'The Nobel Prize in Literature', 'The Nobel Peace Prize', 'The Nobel Prize in Physics', 'The Nobel Prize in Chemistry', 'The Nobel Prize in Physiology or Medicine', 'The Nobel Prize in Literature', 'The Nobel Peace Prize', 'The Nobel Prize in Physics', 'The Nobel Prize in Chemistry', 'The Nobel Prize in Physiology or Medicine', 'The Nobel Prize in Literature', 'The Nobel Peace Prize', 'The Nobel Prize in Physics', 'The Nobel Prize in Chemistry', 'The Nobel Prize in Physiology or Medicine', 'The Nobel Prize in Literature', 'The Nobel Peace Prize', 'The Nobel Prize in Physics', 'The Nobel Prize in Chemistry', 'The Nobel Prize in Physiology or Medicine', 'The Nobel Prize in Literature', 'The Nobel Peace Prize', 'The Nobel Prize in Physics', 'The Nobel Prize in Chemistry', 'The Nobel Prize in Physiology or Medicine', 'The Nobel Prize in Literature', 'The Nobel Peace Prize', 'The Nobel Prize in Physics', 'The Nobel Prize in Chemistry', 'The Nobel Prize in Physiology or Medicine', 'The Nobel Prize in Literature', 'The Nobel Peace Prize', 'The Nobel Prize in Physics', 'The Nobel Prize in Chemistry', 'The Nobel Prize in Physiology or Medicine', 'The Nobel Prize in Literature', 'The Nobel Peace Prize', 'The Nobel Prize in Physics', 'The Nobel Prize in Chemistry', 'The Nobel Prize in Physiology or Medicine', 'The Nobel Prize in Literature', 'The Nobel Peace Prize', 'The Nobel Prize in Physics', 'The Nobel Prize in Chemistry', 'The Nobel Prize in Physiology or Medicine', 'The Nobel Prize in Literature', 'The Nobel Peace Prize', 'The Nobel Prize in Physics', 'The Nobel Prize in Chemistry', 'The Nobel Prize in Physiology or Medicine', 'The Nobel Prize in Literature', 'The Nobel Peace Prize', 'The Nobel Prize in Physics', 'The Nobel Prize in Chemistry', 'The Nobel Prize in Physiology or Medicine', 'The Nobel Prize in Literature', 'The Nobel Peace Prize', 'The Nobel Prize in Physics', 'The Nobel Prize in Chemistry', 'The Nobel Prize in Physiology or Medicine', 'The Nobel Prize in Literature', 'The Nobel Peace Prize', 'The Nobel Prize in Physics', 'The Nobel Prize in Chemistry', 'The Nobel Prize in Physiology or Medicine', 'The Nobel Prize in Literature', 'The Nobel Peace Prize', 'The Nobel Prize in Physics', 'The Nobel Prize in Chemistry', 'The Nobel Prize in Physiology or Medicine', 'The Nobel Prize in Literature', 'The Nobel Peace Prize', 'The Nobel Prize in Physics', 'The Nobel Prize in Chemistry', 'The Nobel Prize in Physiology or Medicine', 'The Nobel Prize in Literature', 'The Nobel Peace Prize', 'The Nobel Prize in Physics', 'The Nobel Prize in Chemistry', 'The Nobel Prize in Physiology or Medicine', 'The Nobel Prize in Literature', 'The Nobel Peace Prize', 'The Nobel Prize in Physics', 'The Nobel Prize in Chemistry', 'The Nobel Prize in Physiology or Medicine', 'The Nobel Prize in Literature', 'The Nobel Peace Prize', 'The Nobel Prize in Physics', 'The Nobel Prize in Chemistry', 'The Nobel Prize in Physiology or Medicine', 'The Nobel Prize in Literature', 'The Nobel Peace Prize', 'The Nobel Prize in Physics', 'The Nobel Prize in Chemistry', 'The Nobel Prize in Physiology or Medicine', 'The Nobel Prize in Literature', 'The Nobel Peace Prize', 'The Nobel Prize in Physics', 'The Nobel Prize in Chemistry', 'The Nobel Prize in Physiology or Medicine', 'The Nobel Prize in Literature', 'The Nobel Peace Prize', 'The Nobel Prize in Physics', 'The Nobel Prize in Chemistry', 'The Nobel Prize in Physiology or Medicine', 'The Nobel Prize in Literature', 'The Nobel Peace Prize', 'The Nobel Prize in Physics', 'The Nobel Prize in Chemistry', 'The Nobel Prize in Physiology or Medicine', 'The Nobel Prize in Literature', 'The Nobel Peace Prize', 'The Nobel Prize in Physics', 'The Nobel Prize in Chemistry', 'The Nobel Prize in Physiology or Medicine', 'The Nobel Prize in Literature', 'The Nobel Peace Prize', 'The Nobel Prize in Physics', 'The Nobel Prize in Chemistry', 'The Nobel Prize in Physiology or Medicine', 'The Nobel Prize in Literature', 'The Nobel Peace Prize', 'The Nobel Prize in Physics', 'The Nobel Prize in Chemistry', 'The Nobel Prize in Physiology or Medicine', 'The Nobel Prize in Literature', 'The Nobel Peace Prize', 'The Nobel Prize in Physics', 'The Nobel Prize in Chemistry', 'The Nobel Prize in Physiology or Medicine', 'The Nobel Prize in Literature', 'The Nobel Peace Prize', 'The Nobel Prize in Physics', 'The Nobel Prize in Chemistry', 'The Nobel Prize in Physiology or Medicine', 'The Nobel Prize in Literature', 'The Nobel Peace Prize', 'The Nobel Prize in Physics', 'The Nobel Prize in Chemistry', 'The Nobel Prize in Physiology or Medicine', 'The Nobel Prize in Literature', 'The Nobel Peace Prize', 'The Nobel Prize in Physics', 'The Nobel Prize in Chemistry', 'The Nobel Prize in Physiology or Medicine', 'The Nobel Prize in Literature', 'The Nobel Peace Prize', 'The Nobel Prize in Physics', 'The Nobel Prize in Chemistry', 'The Nobel Prize in Physiology or Medicine', 'The Nobel Prize in Literature', 'The Nobel Peace Prize', 'The Nobel Prize in Physics', 'The Nobel Prize in Chemistry', 'The Nobel Prize in Physiology or Medicine', 'The Nobel Prize in Literature', 'The Nobel Peace Prize', 'The Nobel Prize in Physics', 'The Nobel Prize in Chemistry', 'The Nobel Prize in Physiology or Medicine', 'The Nobel Prize in Literature', 'The Nobel Peace Prize', 'The Nobel Prize in Physics', 'The Nobel Prize in Chemistry', 'The Nobel Prize in Physiology or Medicine', 'The Nobel Prize in Literature', 'The Nobel Peace Prize', 'The Nobel Prize in Physics', 'The Nobel Prize in Chemistry', 'The Nobel Prize in Physiology or Medicine', 'The Nobel Prize in Literature', 'The Nobel Peace Prize', 'The Nobel Prize in Physics', 'The Nobel Prize in Chemistry', 'The Nobel Prize in Physiology or Medicine', 'The Nobel Prize in Literature', 'The Nobel Peace Prize', 'The Nobel Prize in Physics', 'The Nobel Prize in Chemistry', 'The Nobel Prize in Physiology or Medicine', 'The Nobel Prize in Literature', 'The Nobel Peace Prize', 'The Nobel Prize in Physics', 'The Nobel Prize in Chemistry', 'The Nobel Prize in Physiology or Medicine', 'The Nobel Prize in Literature', 'The Nobel Peace Prize', 'The Nobel Prize in Physics', 'The Nobel Prize in Chemistry', 'The Nobel Prize in Physiology or Medicine', 'The Nobel Prize in Literature', 'The Nobel Peace Prize', 'The Nobel Prize in Physics', 'The Nobel Prize in Chemistry', 'The Nobel Prize in Physiology or Medicine', 'The Nobel Prize in Literature', 'The Nobel Peace Prize', 'The Nobel Prize in Physics', 'The Nobel Prize in Chemistry', 'The Nobel Prize in Physiology or Medicine', 'The Nobel Prize in Literature', 'The Nobel Peace Prize', 'The Nobel Prize in Physics', 'The Nobel Prize in Chemistry', 'The Nobel Prize in Physiology or Medicine', 'The Nobel Prize in Literature', 'The Nobel Peace Prize', 'The Nobel Prize in Physics', 'The Nobel Prize in Chemistry', 'The Nobel Prize in Physiology or Medicine', 'The Nobel Prize in Literature', 'The Nobel Peace Prize', 'The Nobel Prize in Physics', 'The Nobel Prize in Chemistry', 'The Nobel Prize in Physiology or Medicine', 'The Nobel Prize in Literature', 'The Nobel Peace Prize', 'The Nobel Prize in Physics', 'The Nobel Prize in Chemistry', 'The Nobel Prize in Physiology or Medicine', 'The Nobel Prize in Literature', 'The Nobel Peace Prize']\n"
     ]
    }
   ],
   "source": [
    "# Your code here\n",
    "titles = []\n",
    "for award_node in award_nodes:\n",
    "    titles.append(get_award_title(award_node))\n",
    "print(titles)\n",
    "\n",
    "# Using list comprehension titles = [get_award_title(award_node) for award_node in award_nodes]"
   ]
  },
  {
   "cell_type": "markdown",
   "metadata": {},
   "source": [
    "**Make a list of dictionaries of the title and year for all awards.**"
   ]
  },
  {
   "cell_type": "code",
   "execution_count": 31,
   "metadata": {},
   "outputs": [
    {
     "data": {
      "text/plain": [
       "[{'title': 'The Nobel Prize in Physics', 'year': 2018},\n",
       " {'title': 'The Nobel Prize in Chemistry', 'year': 2018},\n",
       " {'title': 'The Nobel Prize in Physiology or Medicine', 'year': 2018},\n",
       " {'title': 'The Nobel Prize in Literature', 'year': 2018},\n",
       " {'title': 'The Nobel Peace Prize', 'year': 2018},\n",
       " {'title': 'The Sveriges Riksbank Prize in Economic Sciences in Memory of Alfred Nobel',\n",
       "  'year': 2018},\n",
       " {'title': 'The Nobel Prize in Physics', 'year': 2017},\n",
       " {'title': 'The Nobel Prize in Chemistry', 'year': 2017},\n",
       " {'title': 'The Nobel Prize in Physiology or Medicine', 'year': 2017},\n",
       " {'title': 'The Nobel Prize in Literature', 'year': 2017},\n",
       " {'title': 'The Nobel Peace Prize', 'year': 2017},\n",
       " {'title': 'The Sveriges Riksbank Prize in Economic Sciences in Memory of Alfred Nobel',\n",
       "  'year': 2017},\n",
       " {'title': 'The Nobel Prize in Physics', 'year': 2016},\n",
       " {'title': 'The Nobel Prize in Chemistry', 'year': 2016},\n",
       " {'title': 'The Nobel Prize in Physiology or Medicine', 'year': 2016},\n",
       " {'title': 'The Nobel Prize in Literature', 'year': 2016},\n",
       " {'title': 'The Nobel Peace Prize', 'year': 2016},\n",
       " {'title': 'The Sveriges Riksbank Prize in Economic Sciences in Memory of Alfred Nobel',\n",
       "  'year': 2016},\n",
       " {'title': 'The Nobel Prize in Physics', 'year': 2015},\n",
       " {'title': 'The Nobel Prize in Chemistry', 'year': 2015},\n",
       " {'title': 'The Nobel Prize in Physiology or Medicine', 'year': 2015},\n",
       " {'title': 'The Nobel Prize in Literature', 'year': 2015},\n",
       " {'title': 'The Nobel Peace Prize', 'year': 2015},\n",
       " {'title': 'The Sveriges Riksbank Prize in Economic Sciences in Memory of Alfred Nobel',\n",
       "  'year': 2015},\n",
       " {'title': 'The Nobel Prize in Physics', 'year': 2014},\n",
       " {'title': 'The Nobel Prize in Chemistry', 'year': 2014},\n",
       " {'title': 'The Nobel Prize in Physiology or Medicine', 'year': 2014},\n",
       " {'title': 'The Nobel Prize in Literature', 'year': 2014},\n",
       " {'title': 'The Nobel Peace Prize', 'year': 2014},\n",
       " {'title': 'The Sveriges Riksbank Prize in Economic Sciences in Memory of Alfred Nobel',\n",
       "  'year': 2014},\n",
       " {'title': 'The Nobel Prize in Physics', 'year': 2013},\n",
       " {'title': 'The Nobel Prize in Chemistry', 'year': 2013},\n",
       " {'title': 'The Nobel Prize in Physiology or Medicine', 'year': 2013},\n",
       " {'title': 'The Nobel Prize in Literature', 'year': 2013},\n",
       " {'title': 'The Nobel Peace Prize', 'year': 2013},\n",
       " {'title': 'The Sveriges Riksbank Prize in Economic Sciences in Memory of Alfred Nobel',\n",
       "  'year': 2013},\n",
       " {'title': 'The Nobel Prize in Physics', 'year': 2012},\n",
       " {'title': 'The Nobel Prize in Chemistry', 'year': 2012},\n",
       " {'title': 'The Nobel Prize in Physiology or Medicine', 'year': 2012},\n",
       " {'title': 'The Nobel Prize in Literature', 'year': 2012},\n",
       " {'title': 'The Nobel Peace Prize', 'year': 2012},\n",
       " {'title': 'The Sveriges Riksbank Prize in Economic Sciences in Memory of Alfred Nobel',\n",
       "  'year': 2012},\n",
       " {'title': 'The Nobel Prize in Physics', 'year': 2011},\n",
       " {'title': 'The Nobel Prize in Chemistry', 'year': 2011},\n",
       " {'title': 'The Nobel Prize in Physiology or Medicine', 'year': 2011},\n",
       " {'title': 'The Nobel Prize in Literature', 'year': 2011},\n",
       " {'title': 'The Nobel Peace Prize', 'year': 2011},\n",
       " {'title': 'The Sveriges Riksbank Prize in Economic Sciences in Memory of Alfred Nobel',\n",
       "  'year': 2011},\n",
       " {'title': 'The Nobel Prize in Physics', 'year': 2010},\n",
       " {'title': 'The Nobel Prize in Chemistry', 'year': 2010},\n",
       " {'title': 'The Nobel Prize in Physiology or Medicine', 'year': 2010},\n",
       " {'title': 'The Nobel Prize in Literature', 'year': 2010},\n",
       " {'title': 'The Nobel Peace Prize', 'year': 2010},\n",
       " {'title': 'The Sveriges Riksbank Prize in Economic Sciences in Memory of Alfred Nobel',\n",
       "  'year': 2010},\n",
       " {'title': 'The Nobel Prize in Physics', 'year': 2009},\n",
       " {'title': 'The Nobel Prize in Chemistry', 'year': 2009},\n",
       " {'title': 'The Nobel Prize in Physiology or Medicine', 'year': 2009},\n",
       " {'title': 'The Nobel Prize in Literature', 'year': 2009},\n",
       " {'title': 'The Nobel Peace Prize', 'year': 2009},\n",
       " {'title': 'The Sveriges Riksbank Prize in Economic Sciences in Memory of Alfred Nobel',\n",
       "  'year': 2009},\n",
       " {'title': 'The Nobel Prize in Physics', 'year': 2008},\n",
       " {'title': 'The Nobel Prize in Chemistry', 'year': 2008},\n",
       " {'title': 'The Nobel Prize in Physiology or Medicine', 'year': 2008},\n",
       " {'title': 'The Nobel Prize in Literature', 'year': 2008},\n",
       " {'title': 'The Nobel Peace Prize', 'year': 2008},\n",
       " {'title': 'The Sveriges Riksbank Prize in Economic Sciences in Memory of Alfred Nobel',\n",
       "  'year': 2008},\n",
       " {'title': 'The Nobel Prize in Physics', 'year': 2007},\n",
       " {'title': 'The Nobel Prize in Chemistry', 'year': 2007},\n",
       " {'title': 'The Nobel Prize in Physiology or Medicine', 'year': 2007},\n",
       " {'title': 'The Nobel Prize in Literature', 'year': 2007},\n",
       " {'title': 'The Nobel Peace Prize', 'year': 2007},\n",
       " {'title': 'The Sveriges Riksbank Prize in Economic Sciences in Memory of Alfred Nobel',\n",
       "  'year': 2007},\n",
       " {'title': 'The Nobel Prize in Physics', 'year': 2006},\n",
       " {'title': 'The Nobel Prize in Chemistry', 'year': 2006},\n",
       " {'title': 'The Nobel Prize in Physiology or Medicine', 'year': 2006},\n",
       " {'title': 'The Nobel Prize in Literature', 'year': 2006},\n",
       " {'title': 'The Nobel Peace Prize', 'year': 2006},\n",
       " {'title': 'The Sveriges Riksbank Prize in Economic Sciences in Memory of Alfred Nobel',\n",
       "  'year': 2006},\n",
       " {'title': 'The Nobel Prize in Physics', 'year': 2005},\n",
       " {'title': 'The Nobel Prize in Chemistry', 'year': 2005},\n",
       " {'title': 'The Nobel Prize in Physiology or Medicine', 'year': 2005},\n",
       " {'title': 'The Nobel Prize in Literature', 'year': 2005},\n",
       " {'title': 'The Nobel Peace Prize', 'year': 2005},\n",
       " {'title': 'The Sveriges Riksbank Prize in Economic Sciences in Memory of Alfred Nobel',\n",
       "  'year': 2005},\n",
       " {'title': 'The Nobel Prize in Physics', 'year': 2004},\n",
       " {'title': 'The Nobel Prize in Chemistry', 'year': 2004},\n",
       " {'title': 'The Nobel Prize in Physiology or Medicine', 'year': 2004},\n",
       " {'title': 'The Nobel Prize in Literature', 'year': 2004},\n",
       " {'title': 'The Nobel Peace Prize', 'year': 2004},\n",
       " {'title': 'The Sveriges Riksbank Prize in Economic Sciences in Memory of Alfred Nobel',\n",
       "  'year': 2004},\n",
       " {'title': 'The Nobel Prize in Physics', 'year': 2003},\n",
       " {'title': 'The Nobel Prize in Chemistry', 'year': 2003},\n",
       " {'title': 'The Nobel Prize in Physiology or Medicine', 'year': 2003},\n",
       " {'title': 'The Nobel Prize in Literature', 'year': 2003},\n",
       " {'title': 'The Nobel Peace Prize', 'year': 2003},\n",
       " {'title': 'The Sveriges Riksbank Prize in Economic Sciences in Memory of Alfred Nobel',\n",
       "  'year': 2003},\n",
       " {'title': 'The Nobel Prize in Physics', 'year': 2002},\n",
       " {'title': 'The Nobel Prize in Chemistry', 'year': 2002},\n",
       " {'title': 'The Nobel Prize in Physiology or Medicine', 'year': 2002},\n",
       " {'title': 'The Nobel Prize in Literature', 'year': 2002},\n",
       " {'title': 'The Nobel Peace Prize', 'year': 2002},\n",
       " {'title': 'The Sveriges Riksbank Prize in Economic Sciences in Memory of Alfred Nobel',\n",
       "  'year': 2002},\n",
       " {'title': 'The Nobel Prize in Physics', 'year': 2001},\n",
       " {'title': 'The Nobel Prize in Chemistry', 'year': 2001},\n",
       " {'title': 'The Nobel Prize in Physiology or Medicine', 'year': 2001},\n",
       " {'title': 'The Nobel Prize in Literature', 'year': 2001},\n",
       " {'title': 'The Nobel Peace Prize', 'year': 2001},\n",
       " {'title': 'The Sveriges Riksbank Prize in Economic Sciences in Memory of Alfred Nobel',\n",
       "  'year': 2001},\n",
       " {'title': 'The Nobel Prize in Physics', 'year': 2000},\n",
       " {'title': 'The Nobel Prize in Chemistry', 'year': 2000},\n",
       " {'title': 'The Nobel Prize in Physiology or Medicine', 'year': 2000},\n",
       " {'title': 'The Nobel Prize in Literature', 'year': 2000},\n",
       " {'title': 'The Nobel Peace Prize', 'year': 2000},\n",
       " {'title': 'The Sveriges Riksbank Prize in Economic Sciences in Memory of Alfred Nobel',\n",
       "  'year': 2000},\n",
       " {'title': 'The Nobel Prize in Physics', 'year': 1999},\n",
       " {'title': 'The Nobel Prize in Chemistry', 'year': 1999},\n",
       " {'title': 'The Nobel Prize in Physiology or Medicine', 'year': 1999},\n",
       " {'title': 'The Nobel Prize in Literature', 'year': 1999},\n",
       " {'title': 'The Nobel Peace Prize', 'year': 1999},\n",
       " {'title': 'The Sveriges Riksbank Prize in Economic Sciences in Memory of Alfred Nobel',\n",
       "  'year': 1999},\n",
       " {'title': 'The Nobel Prize in Physics', 'year': 1998},\n",
       " {'title': 'The Nobel Prize in Chemistry', 'year': 1998},\n",
       " {'title': 'The Nobel Prize in Physiology or Medicine', 'year': 1998},\n",
       " {'title': 'The Nobel Prize in Literature', 'year': 1998},\n",
       " {'title': 'The Nobel Peace Prize', 'year': 1998},\n",
       " {'title': 'The Sveriges Riksbank Prize in Economic Sciences in Memory of Alfred Nobel',\n",
       "  'year': 1998},\n",
       " {'title': 'The Nobel Prize in Physics', 'year': 1997},\n",
       " {'title': 'The Nobel Prize in Chemistry', 'year': 1997},\n",
       " {'title': 'The Nobel Prize in Physiology or Medicine', 'year': 1997},\n",
       " {'title': 'The Nobel Prize in Literature', 'year': 1997},\n",
       " {'title': 'The Nobel Peace Prize', 'year': 1997},\n",
       " {'title': 'The Sveriges Riksbank Prize in Economic Sciences in Memory of Alfred Nobel',\n",
       "  'year': 1997},\n",
       " {'title': 'The Nobel Prize in Physics', 'year': 1996},\n",
       " {'title': 'The Nobel Prize in Chemistry', 'year': 1996},\n",
       " {'title': 'The Nobel Prize in Physiology or Medicine', 'year': 1996},\n",
       " {'title': 'The Nobel Prize in Literature', 'year': 1996},\n",
       " {'title': 'The Nobel Peace Prize', 'year': 1996},\n",
       " {'title': 'The Sveriges Riksbank Prize in Economic Sciences in Memory of Alfred Nobel',\n",
       "  'year': 1996},\n",
       " {'title': 'The Nobel Prize in Physics', 'year': 1995},\n",
       " {'title': 'The Nobel Prize in Chemistry', 'year': 1995},\n",
       " {'title': 'The Nobel Prize in Physiology or Medicine', 'year': 1995},\n",
       " {'title': 'The Nobel Prize in Literature', 'year': 1995},\n",
       " {'title': 'The Nobel Peace Prize', 'year': 1995},\n",
       " {'title': 'The Sveriges Riksbank Prize in Economic Sciences in Memory of Alfred Nobel',\n",
       "  'year': 1995},\n",
       " {'title': 'The Nobel Prize in Physics', 'year': 1994},\n",
       " {'title': 'The Nobel Prize in Chemistry', 'year': 1994},\n",
       " {'title': 'The Nobel Prize in Physiology or Medicine', 'year': 1994},\n",
       " {'title': 'The Nobel Prize in Literature', 'year': 1994},\n",
       " {'title': 'The Nobel Peace Prize', 'year': 1994},\n",
       " {'title': 'The Sveriges Riksbank Prize in Economic Sciences in Memory of Alfred Nobel',\n",
       "  'year': 1994},\n",
       " {'title': 'The Nobel Prize in Physics', 'year': 1993},\n",
       " {'title': 'The Nobel Prize in Chemistry', 'year': 1993},\n",
       " {'title': 'The Nobel Prize in Physiology or Medicine', 'year': 1993},\n",
       " {'title': 'The Nobel Prize in Literature', 'year': 1993},\n",
       " {'title': 'The Nobel Peace Prize', 'year': 1993},\n",
       " {'title': 'The Sveriges Riksbank Prize in Economic Sciences in Memory of Alfred Nobel',\n",
       "  'year': 1993},\n",
       " {'title': 'The Nobel Prize in Physics', 'year': 1992},\n",
       " {'title': 'The Nobel Prize in Chemistry', 'year': 1992},\n",
       " {'title': 'The Nobel Prize in Physiology or Medicine', 'year': 1992},\n",
       " {'title': 'The Nobel Prize in Literature', 'year': 1992},\n",
       " {'title': 'The Nobel Peace Prize', 'year': 1992},\n",
       " {'title': 'The Sveriges Riksbank Prize in Economic Sciences in Memory of Alfred Nobel',\n",
       "  'year': 1992},\n",
       " {'title': 'The Nobel Prize in Physics', 'year': 1991},\n",
       " {'title': 'The Nobel Prize in Chemistry', 'year': 1991},\n",
       " {'title': 'The Nobel Prize in Physiology or Medicine', 'year': 1991},\n",
       " {'title': 'The Nobel Prize in Literature', 'year': 1991},\n",
       " {'title': 'The Nobel Peace Prize', 'year': 1991},\n",
       " {'title': 'The Sveriges Riksbank Prize in Economic Sciences in Memory of Alfred Nobel',\n",
       "  'year': 1991},\n",
       " {'title': 'The Nobel Prize in Physics', 'year': 1990},\n",
       " {'title': 'The Nobel Prize in Chemistry', 'year': 1990},\n",
       " {'title': 'The Nobel Prize in Physiology or Medicine', 'year': 1990},\n",
       " {'title': 'The Nobel Prize in Literature', 'year': 1990},\n",
       " {'title': 'The Nobel Peace Prize', 'year': 1990},\n",
       " {'title': 'The Sveriges Riksbank Prize in Economic Sciences in Memory of Alfred Nobel',\n",
       "  'year': 1990},\n",
       " {'title': 'The Nobel Prize in Physics', 'year': 1989},\n",
       " {'title': 'The Nobel Prize in Chemistry', 'year': 1989},\n",
       " {'title': 'The Nobel Prize in Physiology or Medicine', 'year': 1989},\n",
       " {'title': 'The Nobel Prize in Literature', 'year': 1989},\n",
       " {'title': 'The Nobel Peace Prize', 'year': 1989},\n",
       " {'title': 'The Sveriges Riksbank Prize in Economic Sciences in Memory of Alfred Nobel',\n",
       "  'year': 1989},\n",
       " {'title': 'The Nobel Prize in Physics', 'year': 1988},\n",
       " {'title': 'The Nobel Prize in Chemistry', 'year': 1988},\n",
       " {'title': 'The Nobel Prize in Physiology or Medicine', 'year': 1988},\n",
       " {'title': 'The Nobel Prize in Literature', 'year': 1988},\n",
       " {'title': 'The Nobel Peace Prize', 'year': 1988},\n",
       " {'title': 'The Sveriges Riksbank Prize in Economic Sciences in Memory of Alfred Nobel',\n",
       "  'year': 1988},\n",
       " {'title': 'The Nobel Prize in Physics', 'year': 1987},\n",
       " {'title': 'The Nobel Prize in Chemistry', 'year': 1987},\n",
       " {'title': 'The Nobel Prize in Physiology or Medicine', 'year': 1987},\n",
       " {'title': 'The Nobel Prize in Literature', 'year': 1987},\n",
       " {'title': 'The Nobel Peace Prize', 'year': 1987},\n",
       " {'title': 'The Sveriges Riksbank Prize in Economic Sciences in Memory of Alfred Nobel',\n",
       "  'year': 1987},\n",
       " {'title': 'The Nobel Prize in Physics', 'year': 1986},\n",
       " {'title': 'The Nobel Prize in Chemistry', 'year': 1986},\n",
       " {'title': 'The Nobel Prize in Physiology or Medicine', 'year': 1986},\n",
       " {'title': 'The Nobel Prize in Literature', 'year': 1986},\n",
       " {'title': 'The Nobel Peace Prize', 'year': 1986},\n",
       " {'title': 'The Sveriges Riksbank Prize in Economic Sciences in Memory of Alfred Nobel',\n",
       "  'year': 1986},\n",
       " {'title': 'The Nobel Prize in Physics', 'year': 1985},\n",
       " {'title': 'The Nobel Prize in Chemistry', 'year': 1985},\n",
       " {'title': 'The Nobel Prize in Physiology or Medicine', 'year': 1985},\n",
       " {'title': 'The Nobel Prize in Literature', 'year': 1985},\n",
       " {'title': 'The Nobel Peace Prize', 'year': 1985},\n",
       " {'title': 'The Sveriges Riksbank Prize in Economic Sciences in Memory of Alfred Nobel',\n",
       "  'year': 1985},\n",
       " {'title': 'The Nobel Prize in Physics', 'year': 1984},\n",
       " {'title': 'The Nobel Prize in Chemistry', 'year': 1984},\n",
       " {'title': 'The Nobel Prize in Physiology or Medicine', 'year': 1984},\n",
       " {'title': 'The Nobel Prize in Literature', 'year': 1984},\n",
       " {'title': 'The Nobel Peace Prize', 'year': 1984},\n",
       " {'title': 'The Sveriges Riksbank Prize in Economic Sciences in Memory of Alfred Nobel',\n",
       "  'year': 1984},\n",
       " {'title': 'The Nobel Prize in Physics', 'year': 1983},\n",
       " {'title': 'The Nobel Prize in Chemistry', 'year': 1983},\n",
       " {'title': 'The Nobel Prize in Physiology or Medicine', 'year': 1983},\n",
       " {'title': 'The Nobel Prize in Literature', 'year': 1983},\n",
       " {'title': 'The Nobel Peace Prize', 'year': 1983},\n",
       " {'title': 'The Sveriges Riksbank Prize in Economic Sciences in Memory of Alfred Nobel',\n",
       "  'year': 1983},\n",
       " {'title': 'The Nobel Prize in Physics', 'year': 1982},\n",
       " {'title': 'The Nobel Prize in Chemistry', 'year': 1982},\n",
       " {'title': 'The Nobel Prize in Physiology or Medicine', 'year': 1982},\n",
       " {'title': 'The Nobel Prize in Literature', 'year': 1982},\n",
       " {'title': 'The Nobel Peace Prize', 'year': 1982},\n",
       " {'title': 'The Sveriges Riksbank Prize in Economic Sciences in Memory of Alfred Nobel',\n",
       "  'year': 1982},\n",
       " {'title': 'The Nobel Prize in Physics', 'year': 1981},\n",
       " {'title': 'The Nobel Prize in Chemistry', 'year': 1981},\n",
       " {'title': 'The Nobel Prize in Physiology or Medicine', 'year': 1981},\n",
       " {'title': 'The Nobel Prize in Literature', 'year': 1981},\n",
       " {'title': 'The Nobel Peace Prize', 'year': 1981},\n",
       " {'title': 'The Sveriges Riksbank Prize in Economic Sciences in Memory of Alfred Nobel',\n",
       "  'year': 1981},\n",
       " {'title': 'The Nobel Prize in Physics', 'year': 1980},\n",
       " {'title': 'The Nobel Prize in Chemistry', 'year': 1980},\n",
       " {'title': 'The Nobel Prize in Physiology or Medicine', 'year': 1980},\n",
       " {'title': 'The Nobel Prize in Literature', 'year': 1980},\n",
       " {'title': 'The Nobel Peace Prize', 'year': 1980},\n",
       " {'title': 'The Sveriges Riksbank Prize in Economic Sciences in Memory of Alfred Nobel',\n",
       "  'year': 1980},\n",
       " {'title': 'The Nobel Prize in Physics', 'year': 1979},\n",
       " {'title': 'The Nobel Prize in Chemistry', 'year': 1979},\n",
       " {'title': 'The Nobel Prize in Physiology or Medicine', 'year': 1979},\n",
       " {'title': 'The Nobel Prize in Literature', 'year': 1979},\n",
       " {'title': 'The Nobel Peace Prize', 'year': 1979},\n",
       " {'title': 'The Sveriges Riksbank Prize in Economic Sciences in Memory of Alfred Nobel',\n",
       "  'year': 1979},\n",
       " {'title': 'The Nobel Prize in Physics', 'year': 1978},\n",
       " {'title': 'The Nobel Prize in Chemistry', 'year': 1978},\n",
       " {'title': 'The Nobel Prize in Physiology or Medicine', 'year': 1978},\n",
       " {'title': 'The Nobel Prize in Literature', 'year': 1978},\n",
       " {'title': 'The Nobel Peace Prize', 'year': 1978},\n",
       " {'title': 'The Sveriges Riksbank Prize in Economic Sciences in Memory of Alfred Nobel',\n",
       "  'year': 1978},\n",
       " {'title': 'The Nobel Prize in Physics', 'year': 1977},\n",
       " {'title': 'The Nobel Prize in Chemistry', 'year': 1977},\n",
       " {'title': 'The Nobel Prize in Physiology or Medicine', 'year': 1977},\n",
       " {'title': 'The Nobel Prize in Literature', 'year': 1977},\n",
       " {'title': 'The Nobel Peace Prize', 'year': 1977},\n",
       " {'title': 'The Sveriges Riksbank Prize in Economic Sciences in Memory of Alfred Nobel',\n",
       "  'year': 1977},\n",
       " {'title': 'The Nobel Prize in Physics', 'year': 1976},\n",
       " {'title': 'The Nobel Prize in Chemistry', 'year': 1976},\n",
       " {'title': 'The Nobel Prize in Physiology or Medicine', 'year': 1976},\n",
       " {'title': 'The Nobel Prize in Literature', 'year': 1976},\n",
       " {'title': 'The Nobel Peace Prize', 'year': 1976},\n",
       " {'title': 'The Sveriges Riksbank Prize in Economic Sciences in Memory of Alfred Nobel',\n",
       "  'year': 1976},\n",
       " {'title': 'The Nobel Prize in Physics', 'year': 1975},\n",
       " {'title': 'The Nobel Prize in Chemistry', 'year': 1975},\n",
       " {'title': 'The Nobel Prize in Physiology or Medicine', 'year': 1975},\n",
       " {'title': 'The Nobel Prize in Literature', 'year': 1975},\n",
       " {'title': 'The Nobel Peace Prize', 'year': 1975},\n",
       " {'title': 'The Sveriges Riksbank Prize in Economic Sciences in Memory of Alfred Nobel',\n",
       "  'year': 1975},\n",
       " {'title': 'The Nobel Prize in Physics', 'year': 1974},\n",
       " {'title': 'The Nobel Prize in Chemistry', 'year': 1974},\n",
       " {'title': 'The Nobel Prize in Physiology or Medicine', 'year': 1974},\n",
       " {'title': 'The Nobel Prize in Literature', 'year': 1974},\n",
       " {'title': 'The Nobel Peace Prize', 'year': 1974},\n",
       " {'title': 'The Sveriges Riksbank Prize in Economic Sciences in Memory of Alfred Nobel',\n",
       "  'year': 1974},\n",
       " {'title': 'The Nobel Prize in Physics', 'year': 1973},\n",
       " {'title': 'The Nobel Prize in Chemistry', 'year': 1973},\n",
       " {'title': 'The Nobel Prize in Physiology or Medicine', 'year': 1973},\n",
       " {'title': 'The Nobel Prize in Literature', 'year': 1973},\n",
       " {'title': 'The Nobel Peace Prize', 'year': 1973},\n",
       " {'title': 'The Sveriges Riksbank Prize in Economic Sciences in Memory of Alfred Nobel',\n",
       "  'year': 1973},\n",
       " {'title': 'The Nobel Prize in Physics', 'year': 1972},\n",
       " {'title': 'The Nobel Prize in Chemistry', 'year': 1972},\n",
       " {'title': 'The Nobel Prize in Physiology or Medicine', 'year': 1972},\n",
       " {'title': 'The Nobel Prize in Literature', 'year': 1972},\n",
       " {'title': 'The Nobel Peace Prize', 'year': 1972},\n",
       " {'title': 'The Sveriges Riksbank Prize in Economic Sciences in Memory of Alfred Nobel',\n",
       "  'year': 1972},\n",
       " {'title': 'The Nobel Prize in Physics', 'year': 1971},\n",
       " {'title': 'The Nobel Prize in Chemistry', 'year': 1971},\n",
       " {'title': 'The Nobel Prize in Physiology or Medicine', 'year': 1971},\n",
       " {'title': 'The Nobel Prize in Literature', 'year': 1971},\n",
       " {'title': 'The Nobel Peace Prize', 'year': 1971},\n",
       " {'title': 'The Sveriges Riksbank Prize in Economic Sciences in Memory of Alfred Nobel',\n",
       "  'year': 1971},\n",
       " {'title': 'The Nobel Prize in Physics', 'year': 1970},\n",
       " {'title': 'The Nobel Prize in Chemistry', 'year': 1970},\n",
       " {'title': 'The Nobel Prize in Physiology or Medicine', 'year': 1970},\n",
       " {'title': 'The Nobel Prize in Literature', 'year': 1970},\n",
       " {'title': 'The Nobel Peace Prize', 'year': 1970},\n",
       " {'title': 'The Sveriges Riksbank Prize in Economic Sciences in Memory of Alfred Nobel',\n",
       "  'year': 1970},\n",
       " {'title': 'The Nobel Prize in Physics', 'year': 1969},\n",
       " {'title': 'The Nobel Prize in Chemistry', 'year': 1969},\n",
       " {'title': 'The Nobel Prize in Physiology or Medicine', 'year': 1969},\n",
       " {'title': 'The Nobel Prize in Literature', 'year': 1969},\n",
       " {'title': 'The Nobel Peace Prize', 'year': 1969},\n",
       " {'title': 'The Sveriges Riksbank Prize in Economic Sciences in Memory of Alfred Nobel',\n",
       "  'year': 1969},\n",
       " {'title': 'The Nobel Prize in Physics', 'year': 1968},\n",
       " {'title': 'The Nobel Prize in Chemistry', 'year': 1968},\n",
       " {'title': 'The Nobel Prize in Physiology or Medicine', 'year': 1968},\n",
       " {'title': 'The Nobel Prize in Literature', 'year': 1968},\n",
       " {'title': 'The Nobel Peace Prize', 'year': 1968},\n",
       " {'title': 'The Nobel Prize in Physics', 'year': 1967},\n",
       " {'title': 'The Nobel Prize in Chemistry', 'year': 1967},\n",
       " {'title': 'The Nobel Prize in Physiology or Medicine', 'year': 1967},\n",
       " {'title': 'The Nobel Prize in Literature', 'year': 1967},\n",
       " {'title': 'The Nobel Peace Prize', 'year': 1967},\n",
       " {'title': 'The Nobel Prize in Physics', 'year': 1966},\n",
       " {'title': 'The Nobel Prize in Chemistry', 'year': 1966},\n",
       " {'title': 'The Nobel Prize in Physiology or Medicine', 'year': 1966},\n",
       " {'title': 'The Nobel Prize in Literature', 'year': 1966},\n",
       " {'title': 'The Nobel Peace Prize', 'year': 1966},\n",
       " {'title': 'The Nobel Prize in Physics', 'year': 1965},\n",
       " {'title': 'The Nobel Prize in Chemistry', 'year': 1965},\n",
       " {'title': 'The Nobel Prize in Physiology or Medicine', 'year': 1965},\n",
       " {'title': 'The Nobel Prize in Literature', 'year': 1965},\n",
       " {'title': 'The Nobel Peace Prize', 'year': 1965},\n",
       " {'title': 'The Nobel Prize in Physics', 'year': 1964},\n",
       " {'title': 'The Nobel Prize in Chemistry', 'year': 1964},\n",
       " {'title': 'The Nobel Prize in Physiology or Medicine', 'year': 1964},\n",
       " {'title': 'The Nobel Prize in Literature', 'year': 1964},\n",
       " {'title': 'The Nobel Peace Prize', 'year': 1964},\n",
       " {'title': 'The Nobel Prize in Physics', 'year': 1963},\n",
       " {'title': 'The Nobel Prize in Chemistry', 'year': 1963},\n",
       " {'title': 'The Nobel Prize in Physiology or Medicine', 'year': 1963},\n",
       " {'title': 'The Nobel Prize in Literature', 'year': 1963},\n",
       " {'title': 'The Nobel Peace Prize', 'year': 1963},\n",
       " {'title': 'The Nobel Prize in Physics', 'year': 1962},\n",
       " {'title': 'The Nobel Prize in Chemistry', 'year': 1962},\n",
       " {'title': 'The Nobel Prize in Physiology or Medicine', 'year': 1962},\n",
       " {'title': 'The Nobel Prize in Literature', 'year': 1962},\n",
       " {'title': 'The Nobel Peace Prize', 'year': 1962},\n",
       " {'title': 'The Nobel Prize in Physics', 'year': 1961},\n",
       " {'title': 'The Nobel Prize in Chemistry', 'year': 1961},\n",
       " {'title': 'The Nobel Prize in Physiology or Medicine', 'year': 1961},\n",
       " {'title': 'The Nobel Prize in Literature', 'year': 1961},\n",
       " {'title': 'The Nobel Peace Prize', 'year': 1961},\n",
       " {'title': 'The Nobel Prize in Physics', 'year': 1960},\n",
       " {'title': 'The Nobel Prize in Chemistry', 'year': 1960},\n",
       " {'title': 'The Nobel Prize in Physiology or Medicine', 'year': 1960},\n",
       " {'title': 'The Nobel Prize in Literature', 'year': 1960},\n",
       " {'title': 'The Nobel Peace Prize', 'year': 1960},\n",
       " {'title': 'The Nobel Prize in Physics', 'year': 1959},\n",
       " {'title': 'The Nobel Prize in Chemistry', 'year': 1959},\n",
       " {'title': 'The Nobel Prize in Physiology or Medicine', 'year': 1959},\n",
       " {'title': 'The Nobel Prize in Literature', 'year': 1959},\n",
       " {'title': 'The Nobel Peace Prize', 'year': 1959},\n",
       " {'title': 'The Nobel Prize in Physics', 'year': 1958},\n",
       " {'title': 'The Nobel Prize in Chemistry', 'year': 1958},\n",
       " {'title': 'The Nobel Prize in Physiology or Medicine', 'year': 1958},\n",
       " {'title': 'The Nobel Prize in Literature', 'year': 1958},\n",
       " {'title': 'The Nobel Peace Prize', 'year': 1958},\n",
       " {'title': 'The Nobel Prize in Physics', 'year': 1957},\n",
       " {'title': 'The Nobel Prize in Chemistry', 'year': 1957},\n",
       " {'title': 'The Nobel Prize in Physiology or Medicine', 'year': 1957},\n",
       " {'title': 'The Nobel Prize in Literature', 'year': 1957},\n",
       " {'title': 'The Nobel Peace Prize', 'year': 1957},\n",
       " {'title': 'The Nobel Prize in Physics', 'year': 1956},\n",
       " {'title': 'The Nobel Prize in Chemistry', 'year': 1956},\n",
       " {'title': 'The Nobel Prize in Physiology or Medicine', 'year': 1956},\n",
       " {'title': 'The Nobel Prize in Literature', 'year': 1956},\n",
       " {'title': 'The Nobel Peace Prize', 'year': 1956},\n",
       " {'title': 'The Nobel Prize in Physics', 'year': 1955},\n",
       " {'title': 'The Nobel Prize in Chemistry', 'year': 1955},\n",
       " {'title': 'The Nobel Prize in Physiology or Medicine', 'year': 1955},\n",
       " {'title': 'The Nobel Prize in Literature', 'year': 1955},\n",
       " {'title': 'The Nobel Peace Prize', 'year': 1955},\n",
       " {'title': 'The Nobel Prize in Physics', 'year': 1954},\n",
       " {'title': 'The Nobel Prize in Chemistry', 'year': 1954},\n",
       " {'title': 'The Nobel Prize in Physiology or Medicine', 'year': 1954},\n",
       " {'title': 'The Nobel Prize in Literature', 'year': 1954},\n",
       " {'title': 'The Nobel Peace Prize', 'year': 1954},\n",
       " {'title': 'The Nobel Prize in Physics', 'year': 1953},\n",
       " {'title': 'The Nobel Prize in Chemistry', 'year': 1953},\n",
       " {'title': 'The Nobel Prize in Physiology or Medicine', 'year': 1953},\n",
       " {'title': 'The Nobel Prize in Literature', 'year': 1953},\n",
       " {'title': 'The Nobel Peace Prize', 'year': 1953},\n",
       " {'title': 'The Nobel Prize in Physics', 'year': 1952},\n",
       " {'title': 'The Nobel Prize in Chemistry', 'year': 1952},\n",
       " {'title': 'The Nobel Prize in Physiology or Medicine', 'year': 1952},\n",
       " {'title': 'The Nobel Prize in Literature', 'year': 1952},\n",
       " {'title': 'The Nobel Peace Prize', 'year': 1952},\n",
       " {'title': 'The Nobel Prize in Physics', 'year': 1951},\n",
       " {'title': 'The Nobel Prize in Chemistry', 'year': 1951},\n",
       " {'title': 'The Nobel Prize in Physiology or Medicine', 'year': 1951},\n",
       " {'title': 'The Nobel Prize in Literature', 'year': 1951},\n",
       " {'title': 'The Nobel Peace Prize', 'year': 1951},\n",
       " {'title': 'The Nobel Prize in Physics', 'year': 1950},\n",
       " {'title': 'The Nobel Prize in Chemistry', 'year': 1950},\n",
       " {'title': 'The Nobel Prize in Physiology or Medicine', 'year': 1950},\n",
       " {'title': 'The Nobel Prize in Literature', 'year': 1950},\n",
       " {'title': 'The Nobel Peace Prize', 'year': 1950},\n",
       " {'title': 'The Nobel Prize in Physics', 'year': 1949},\n",
       " {'title': 'The Nobel Prize in Chemistry', 'year': 1949},\n",
       " {'title': 'The Nobel Prize in Physiology or Medicine', 'year': 1949},\n",
       " {'title': 'The Nobel Prize in Literature', 'year': 1949},\n",
       " {'title': 'The Nobel Peace Prize', 'year': 1949},\n",
       " {'title': 'The Nobel Prize in Physics', 'year': 1948},\n",
       " {'title': 'The Nobel Prize in Chemistry', 'year': 1948},\n",
       " {'title': 'The Nobel Prize in Physiology or Medicine', 'year': 1948},\n",
       " {'title': 'The Nobel Prize in Literature', 'year': 1948},\n",
       " {'title': 'The Nobel Peace Prize', 'year': 1948},\n",
       " {'title': 'The Nobel Prize in Physics', 'year': 1947},\n",
       " {'title': 'The Nobel Prize in Chemistry', 'year': 1947},\n",
       " {'title': 'The Nobel Prize in Physiology or Medicine', 'year': 1947},\n",
       " {'title': 'The Nobel Prize in Literature', 'year': 1947},\n",
       " {'title': 'The Nobel Peace Prize', 'year': 1947},\n",
       " {'title': 'The Nobel Prize in Physics', 'year': 1946},\n",
       " {'title': 'The Nobel Prize in Chemistry', 'year': 1946},\n",
       " {'title': 'The Nobel Prize in Physiology or Medicine', 'year': 1946},\n",
       " {'title': 'The Nobel Prize in Literature', 'year': 1946},\n",
       " {'title': 'The Nobel Peace Prize', 'year': 1946},\n",
       " {'title': 'The Nobel Prize in Physics', 'year': 1945},\n",
       " {'title': 'The Nobel Prize in Chemistry', 'year': 1945},\n",
       " {'title': 'The Nobel Prize in Physiology or Medicine', 'year': 1945},\n",
       " {'title': 'The Nobel Prize in Literature', 'year': 1945},\n",
       " {'title': 'The Nobel Peace Prize', 'year': 1945},\n",
       " {'title': 'The Nobel Prize in Physics', 'year': 1944},\n",
       " {'title': 'The Nobel Prize in Chemistry', 'year': 1944},\n",
       " {'title': 'The Nobel Prize in Physiology or Medicine', 'year': 1944},\n",
       " {'title': 'The Nobel Prize in Literature', 'year': 1944},\n",
       " {'title': 'The Nobel Peace Prize', 'year': 1944},\n",
       " {'title': 'The Nobel Prize in Physics', 'year': 1943},\n",
       " {'title': 'The Nobel Prize in Chemistry', 'year': 1943},\n",
       " {'title': 'The Nobel Prize in Physiology or Medicine', 'year': 1943},\n",
       " {'title': 'The Nobel Prize in Literature', 'year': 1943},\n",
       " {'title': 'The Nobel Peace Prize', 'year': 1943},\n",
       " {'title': 'The Nobel Prize in Physics', 'year': 1942},\n",
       " {'title': 'The Nobel Prize in Chemistry', 'year': 1942},\n",
       " {'title': 'The Nobel Prize in Physiology or Medicine', 'year': 1942},\n",
       " {'title': 'The Nobel Prize in Literature', 'year': 1942},\n",
       " {'title': 'The Nobel Peace Prize', 'year': 1942},\n",
       " {'title': 'The Nobel Prize in Physics', 'year': 1941},\n",
       " {'title': 'The Nobel Prize in Chemistry', 'year': 1941},\n",
       " {'title': 'The Nobel Prize in Physiology or Medicine', 'year': 1941},\n",
       " {'title': 'The Nobel Prize in Literature', 'year': 1941},\n",
       " {'title': 'The Nobel Peace Prize', 'year': 1941},\n",
       " {'title': 'The Nobel Prize in Physics', 'year': 1940},\n",
       " {'title': 'The Nobel Prize in Chemistry', 'year': 1940},\n",
       " {'title': 'The Nobel Prize in Physiology or Medicine', 'year': 1940},\n",
       " {'title': 'The Nobel Prize in Literature', 'year': 1940},\n",
       " {'title': 'The Nobel Peace Prize', 'year': 1940},\n",
       " {'title': 'The Nobel Prize in Physics', 'year': 1939},\n",
       " {'title': 'The Nobel Prize in Chemistry', 'year': 1939},\n",
       " {'title': 'The Nobel Prize in Physiology or Medicine', 'year': 1939},\n",
       " {'title': 'The Nobel Prize in Literature', 'year': 1939},\n",
       " {'title': 'The Nobel Peace Prize', 'year': 1939},\n",
       " {'title': 'The Nobel Prize in Physics', 'year': 1938},\n",
       " {'title': 'The Nobel Prize in Chemistry', 'year': 1938},\n",
       " {'title': 'The Nobel Prize in Physiology or Medicine', 'year': 1938},\n",
       " {'title': 'The Nobel Prize in Literature', 'year': 1938},\n",
       " {'title': 'The Nobel Peace Prize', 'year': 1938},\n",
       " {'title': 'The Nobel Prize in Physics', 'year': 1937},\n",
       " {'title': 'The Nobel Prize in Chemistry', 'year': 1937},\n",
       " {'title': 'The Nobel Prize in Physiology or Medicine', 'year': 1937},\n",
       " {'title': 'The Nobel Prize in Literature', 'year': 1937},\n",
       " {'title': 'The Nobel Peace Prize', 'year': 1937},\n",
       " {'title': 'The Nobel Prize in Physics', 'year': 1936},\n",
       " {'title': 'The Nobel Prize in Chemistry', 'year': 1936},\n",
       " {'title': 'The Nobel Prize in Physiology or Medicine', 'year': 1936},\n",
       " {'title': 'The Nobel Prize in Literature', 'year': 1936},\n",
       " {'title': 'The Nobel Peace Prize', 'year': 1936},\n",
       " {'title': 'The Nobel Prize in Physics', 'year': 1935},\n",
       " {'title': 'The Nobel Prize in Chemistry', 'year': 1935},\n",
       " {'title': 'The Nobel Prize in Physiology or Medicine', 'year': 1935},\n",
       " {'title': 'The Nobel Prize in Literature', 'year': 1935},\n",
       " {'title': 'The Nobel Peace Prize', 'year': 1935},\n",
       " {'title': 'The Nobel Prize in Physics', 'year': 1934},\n",
       " {'title': 'The Nobel Prize in Chemistry', 'year': 1934},\n",
       " {'title': 'The Nobel Prize in Physiology or Medicine', 'year': 1934},\n",
       " {'title': 'The Nobel Prize in Literature', 'year': 1934},\n",
       " {'title': 'The Nobel Peace Prize', 'year': 1934},\n",
       " {'title': 'The Nobel Prize in Physics', 'year': 1933},\n",
       " {'title': 'The Nobel Prize in Chemistry', 'year': 1933},\n",
       " {'title': 'The Nobel Prize in Physiology or Medicine', 'year': 1933},\n",
       " {'title': 'The Nobel Prize in Literature', 'year': 1933},\n",
       " {'title': 'The Nobel Peace Prize', 'year': 1933},\n",
       " {'title': 'The Nobel Prize in Physics', 'year': 1932},\n",
       " {'title': 'The Nobel Prize in Chemistry', 'year': 1932},\n",
       " {'title': 'The Nobel Prize in Physiology or Medicine', 'year': 1932},\n",
       " {'title': 'The Nobel Prize in Literature', 'year': 1932},\n",
       " {'title': 'The Nobel Peace Prize', 'year': 1932},\n",
       " {'title': 'The Nobel Prize in Physics', 'year': 1931},\n",
       " {'title': 'The Nobel Prize in Chemistry', 'year': 1931},\n",
       " {'title': 'The Nobel Prize in Physiology or Medicine', 'year': 1931},\n",
       " {'title': 'The Nobel Prize in Literature', 'year': 1931},\n",
       " {'title': 'The Nobel Peace Prize', 'year': 1931},\n",
       " {'title': 'The Nobel Prize in Physics', 'year': 1930},\n",
       " {'title': 'The Nobel Prize in Chemistry', 'year': 1930},\n",
       " {'title': 'The Nobel Prize in Physiology or Medicine', 'year': 1930},\n",
       " {'title': 'The Nobel Prize in Literature', 'year': 1930},\n",
       " {'title': 'The Nobel Peace Prize', 'year': 1930},\n",
       " {'title': 'The Nobel Prize in Physics', 'year': 1929},\n",
       " {'title': 'The Nobel Prize in Chemistry', 'year': 1929},\n",
       " {'title': 'The Nobel Prize in Physiology or Medicine', 'year': 1929},\n",
       " {'title': 'The Nobel Prize in Literature', 'year': 1929},\n",
       " {'title': 'The Nobel Peace Prize', 'year': 1929},\n",
       " {'title': 'The Nobel Prize in Physics', 'year': 1928},\n",
       " {'title': 'The Nobel Prize in Chemistry', 'year': 1928},\n",
       " {'title': 'The Nobel Prize in Physiology or Medicine', 'year': 1928},\n",
       " {'title': 'The Nobel Prize in Literature', 'year': 1928},\n",
       " {'title': 'The Nobel Peace Prize', 'year': 1928},\n",
       " {'title': 'The Nobel Prize in Physics', 'year': 1927},\n",
       " {'title': 'The Nobel Prize in Chemistry', 'year': 1927},\n",
       " {'title': 'The Nobel Prize in Physiology or Medicine', 'year': 1927},\n",
       " {'title': 'The Nobel Prize in Literature', 'year': 1927},\n",
       " {'title': 'The Nobel Peace Prize', 'year': 1927},\n",
       " {'title': 'The Nobel Prize in Physics', 'year': 1926},\n",
       " {'title': 'The Nobel Prize in Chemistry', 'year': 1926},\n",
       " {'title': 'The Nobel Prize in Physiology or Medicine', 'year': 1926},\n",
       " {'title': 'The Nobel Prize in Literature', 'year': 1926},\n",
       " {'title': 'The Nobel Peace Prize', 'year': 1926},\n",
       " {'title': 'The Nobel Prize in Physics', 'year': 1925},\n",
       " {'title': 'The Nobel Prize in Chemistry', 'year': 1925},\n",
       " {'title': 'The Nobel Prize in Physiology or Medicine', 'year': 1925},\n",
       " {'title': 'The Nobel Prize in Literature', 'year': 1925},\n",
       " {'title': 'The Nobel Peace Prize', 'year': 1925},\n",
       " {'title': 'The Nobel Prize in Physics', 'year': 1924},\n",
       " {'title': 'The Nobel Prize in Chemistry', 'year': 1924},\n",
       " {'title': 'The Nobel Prize in Physiology or Medicine', 'year': 1924},\n",
       " {'title': 'The Nobel Prize in Literature', 'year': 1924},\n",
       " {'title': 'The Nobel Peace Prize', 'year': 1924},\n",
       " {'title': 'The Nobel Prize in Physics', 'year': 1923},\n",
       " {'title': 'The Nobel Prize in Chemistry', 'year': 1923},\n",
       " {'title': 'The Nobel Prize in Physiology or Medicine', 'year': 1923},\n",
       " {'title': 'The Nobel Prize in Literature', 'year': 1923},\n",
       " {'title': 'The Nobel Peace Prize', 'year': 1923},\n",
       " {'title': 'The Nobel Prize in Physics', 'year': 1922},\n",
       " {'title': 'The Nobel Prize in Chemistry', 'year': 1922},\n",
       " {'title': 'The Nobel Prize in Physiology or Medicine', 'year': 1922},\n",
       " {'title': 'The Nobel Prize in Literature', 'year': 1922},\n",
       " {'title': 'The Nobel Peace Prize', 'year': 1922},\n",
       " {'title': 'The Nobel Prize in Physics', 'year': 1921},\n",
       " {'title': 'The Nobel Prize in Chemistry', 'year': 1921},\n",
       " {'title': 'The Nobel Prize in Physiology or Medicine', 'year': 1921},\n",
       " {'title': 'The Nobel Prize in Literature', 'year': 1921},\n",
       " {'title': 'The Nobel Peace Prize', 'year': 1921},\n",
       " {'title': 'The Nobel Prize in Physics', 'year': 1920},\n",
       " {'title': 'The Nobel Prize in Chemistry', 'year': 1920},\n",
       " {'title': 'The Nobel Prize in Physiology or Medicine', 'year': 1920},\n",
       " {'title': 'The Nobel Prize in Literature', 'year': 1920},\n",
       " {'title': 'The Nobel Peace Prize', 'year': 1920},\n",
       " {'title': 'The Nobel Prize in Physics', 'year': 1919},\n",
       " {'title': 'The Nobel Prize in Chemistry', 'year': 1919},\n",
       " {'title': 'The Nobel Prize in Physiology or Medicine', 'year': 1919},\n",
       " {'title': 'The Nobel Prize in Literature', 'year': 1919},\n",
       " {'title': 'The Nobel Peace Prize', 'year': 1919},\n",
       " {'title': 'The Nobel Prize in Physics', 'year': 1918},\n",
       " {'title': 'The Nobel Prize in Chemistry', 'year': 1918},\n",
       " {'title': 'The Nobel Prize in Physiology or Medicine', 'year': 1918},\n",
       " {'title': 'The Nobel Prize in Literature', 'year': 1918},\n",
       " {'title': 'The Nobel Peace Prize', 'year': 1918},\n",
       " {'title': 'The Nobel Prize in Physics', 'year': 1917},\n",
       " {'title': 'The Nobel Prize in Chemistry', 'year': 1917},\n",
       " {'title': 'The Nobel Prize in Physiology or Medicine', 'year': 1917},\n",
       " {'title': 'The Nobel Prize in Literature', 'year': 1917},\n",
       " {'title': 'The Nobel Peace Prize', 'year': 1917},\n",
       " {'title': 'The Nobel Prize in Physics', 'year': 1916},\n",
       " {'title': 'The Nobel Prize in Chemistry', 'year': 1916},\n",
       " {'title': 'The Nobel Prize in Physiology or Medicine', 'year': 1916},\n",
       " {'title': 'The Nobel Prize in Literature', 'year': 1916},\n",
       " {'title': 'The Nobel Peace Prize', 'year': 1916},\n",
       " {'title': 'The Nobel Prize in Physics', 'year': 1915},\n",
       " {'title': 'The Nobel Prize in Chemistry', 'year': 1915},\n",
       " {'title': 'The Nobel Prize in Physiology or Medicine', 'year': 1915},\n",
       " {'title': 'The Nobel Prize in Literature', 'year': 1915},\n",
       " {'title': 'The Nobel Peace Prize', 'year': 1915},\n",
       " {'title': 'The Nobel Prize in Physics', 'year': 1914},\n",
       " {'title': 'The Nobel Prize in Chemistry', 'year': 1914},\n",
       " {'title': 'The Nobel Prize in Physiology or Medicine', 'year': 1914},\n",
       " {'title': 'The Nobel Prize in Literature', 'year': 1914},\n",
       " {'title': 'The Nobel Peace Prize', 'year': 1914},\n",
       " {'title': 'The Nobel Prize in Physics', 'year': 1913},\n",
       " {'title': 'The Nobel Prize in Chemistry', 'year': 1913},\n",
       " {'title': 'The Nobel Prize in Physiology or Medicine', 'year': 1913},\n",
       " {'title': 'The Nobel Prize in Literature', 'year': 1913},\n",
       " {'title': 'The Nobel Peace Prize', 'year': 1913},\n",
       " {'title': 'The Nobel Prize in Physics', 'year': 1912},\n",
       " {'title': 'The Nobel Prize in Chemistry', 'year': 1912},\n",
       " {'title': 'The Nobel Prize in Physiology or Medicine', 'year': 1912},\n",
       " {'title': 'The Nobel Prize in Literature', 'year': 1912},\n",
       " {'title': 'The Nobel Peace Prize', 'year': 1912},\n",
       " {'title': 'The Nobel Prize in Physics', 'year': 1911},\n",
       " {'title': 'The Nobel Prize in Chemistry', 'year': 1911},\n",
       " {'title': 'The Nobel Prize in Physiology or Medicine', 'year': 1911},\n",
       " {'title': 'The Nobel Prize in Literature', 'year': 1911},\n",
       " {'title': 'The Nobel Peace Prize', 'year': 1911},\n",
       " {'title': 'The Nobel Prize in Physics', 'year': 1910},\n",
       " {'title': 'The Nobel Prize in Chemistry', 'year': 1910},\n",
       " {'title': 'The Nobel Prize in Physiology or Medicine', 'year': 1910},\n",
       " {'title': 'The Nobel Prize in Literature', 'year': 1910},\n",
       " {'title': 'The Nobel Peace Prize', 'year': 1910},\n",
       " {'title': 'The Nobel Prize in Physics', 'year': 1909},\n",
       " {'title': 'The Nobel Prize in Chemistry', 'year': 1909},\n",
       " {'title': 'The Nobel Prize in Physiology or Medicine', 'year': 1909},\n",
       " {'title': 'The Nobel Prize in Literature', 'year': 1909},\n",
       " {'title': 'The Nobel Peace Prize', 'year': 1909},\n",
       " {'title': 'The Nobel Prize in Physics', 'year': 1908},\n",
       " {'title': 'The Nobel Prize in Chemistry', 'year': 1908},\n",
       " {'title': 'The Nobel Prize in Physiology or Medicine', 'year': 1908},\n",
       " {'title': 'The Nobel Prize in Literature', 'year': 1908},\n",
       " {'title': 'The Nobel Peace Prize', 'year': 1908},\n",
       " {'title': 'The Nobel Prize in Physics', 'year': 1907},\n",
       " {'title': 'The Nobel Prize in Chemistry', 'year': 1907},\n",
       " {'title': 'The Nobel Prize in Physiology or Medicine', 'year': 1907},\n",
       " {'title': 'The Nobel Prize in Literature', 'year': 1907},\n",
       " {'title': 'The Nobel Peace Prize', 'year': 1907},\n",
       " {'title': 'The Nobel Prize in Physics', 'year': 1906},\n",
       " {'title': 'The Nobel Prize in Chemistry', 'year': 1906},\n",
       " {'title': 'The Nobel Prize in Physiology or Medicine', 'year': 1906},\n",
       " {'title': 'The Nobel Prize in Literature', 'year': 1906},\n",
       " {'title': 'The Nobel Peace Prize', 'year': 1906},\n",
       " {'title': 'The Nobel Prize in Physics', 'year': 1905},\n",
       " {'title': 'The Nobel Prize in Chemistry', 'year': 1905},\n",
       " {'title': 'The Nobel Prize in Physiology or Medicine', 'year': 1905},\n",
       " {'title': 'The Nobel Prize in Literature', 'year': 1905},\n",
       " {'title': 'The Nobel Peace Prize', 'year': 1905},\n",
       " {'title': 'The Nobel Prize in Physics', 'year': 1904},\n",
       " {'title': 'The Nobel Prize in Chemistry', 'year': 1904},\n",
       " {'title': 'The Nobel Prize in Physiology or Medicine', 'year': 1904},\n",
       " {'title': 'The Nobel Prize in Literature', 'year': 1904},\n",
       " {'title': 'The Nobel Peace Prize', 'year': 1904},\n",
       " {'title': 'The Nobel Prize in Physics', 'year': 1903},\n",
       " {'title': 'The Nobel Prize in Chemistry', 'year': 1903},\n",
       " {'title': 'The Nobel Prize in Physiology or Medicine', 'year': 1903},\n",
       " {'title': 'The Nobel Prize in Literature', 'year': 1903},\n",
       " {'title': 'The Nobel Peace Prize', 'year': 1903},\n",
       " {'title': 'The Nobel Prize in Physics', 'year': 1902},\n",
       " {'title': 'The Nobel Prize in Chemistry', 'year': 1902},\n",
       " {'title': 'The Nobel Prize in Physiology or Medicine', 'year': 1902},\n",
       " {'title': 'The Nobel Prize in Literature', 'year': 1902},\n",
       " {'title': 'The Nobel Peace Prize', 'year': 1902},\n",
       " {'title': 'The Nobel Prize in Physics', 'year': 1901},\n",
       " {'title': 'The Nobel Prize in Chemistry', 'year': 1901},\n",
       " {'title': 'The Nobel Prize in Physiology or Medicine', 'year': 1901},\n",
       " {'title': 'The Nobel Prize in Literature', 'year': 1901},\n",
       " {'title': 'The Nobel Peace Prize', 'year': 1901}]"
      ]
     },
     "execution_count": 31,
     "metadata": {},
     "output_type": "execute_result"
    }
   ],
   "source": [
    "# Your code here\n",
    "[\n",
    "    dict(\n",
    "        title=get_award_title(award_node),\n",
    "        year=get_award_year(award_node))\n",
    "    for award_node in award_nodes\n",
    "]"
   ]
  },
  {
   "cell_type": "markdown",
   "metadata": {},
   "source": [
    "## Back together..."
   ]
  },
  {
   "cell_type": "markdown",
   "metadata": {},
   "source": [
    "### The recipients\n",
    "**how do we handle there being more than one?**"
   ]
  },
  {
   "cell_type": "code",
   "execution_count": null,
   "metadata": {},
   "outputs": [],
   "source": [
    "[node.text for node in award_node.select('h6 a')]"
   ]
  },
  {
   "cell_type": "markdown",
   "metadata": {},
   "source": [
    "We'll leave them as a list for now, to return to this later."
   ]
  },
  {
   "cell_type": "markdown",
   "metadata": {},
   "source": [
    "### The prize \"motivation\""
   ]
  },
  {
   "cell_type": "code",
   "execution_count": null,
   "metadata": {},
   "outputs": [],
   "source": [
    "award_node.select_one('p').text"
   ]
  },
  {
   "cell_type": "markdown",
   "metadata": {},
   "source": [
    "What are those weird quotes at either end?"
   ]
  },
  {
   "cell_type": "code",
   "execution_count": null,
   "metadata": {},
   "outputs": [],
   "source": [
    "print(json.dumps(award_node.select_one('p').text))"
   ]
  },
  {
   "cell_type": "markdown",
   "metadata": {},
   "source": [
    "Ah, they're \"smart quotes\". Let's strip them off."
   ]
  },
  {
   "cell_type": "code",
   "execution_count": null,
   "metadata": {},
   "outputs": [],
   "source": [
    "award_node.select_one('p').text.lstrip('\\u201c').rstrip('\\u201d')"
   ]
  },
  {
   "cell_type": "code",
   "execution_count": null,
   "metadata": {},
   "outputs": [],
   "source": [
    "def get_award_motivation(award_node):\n",
    "    award_node = award_node.select_one('p')\n",
    "    if not award_node:\n",
    "        return None\n",
    "    return award_node.text.lstrip('\\u201c').rstrip('\\u201d')"
   ]
  },
  {
   "cell_type": "code",
   "execution_count": null,
   "metadata": {},
   "outputs": [],
   "source": [
    "def get_recipients(award_node):\n",
    "    return [node.text for node in award_node.select('h6 a')]"
   ]
  },
  {
   "cell_type": "markdown",
   "metadata": {},
   "source": [
    "Now let's get all of the awards."
   ]
  },
  {
   "cell_type": "code",
   "execution_count": null,
   "metadata": {},
   "outputs": [],
   "source": [
    "awards = []\n",
    "for award_node in soup.select('.by_year'):\n",
    "    recipients = get_recipients(award_node)\n",
    "    awards.append(dict(\n",
    "        title=get_award_title(award_node),\n",
    "        year=get_award_year(award_node),\n",
    "        recipients=recipients,\n",
    "        num_recipients=len(recipients),\n",
    "        motivation=get_award_motivation(award_node)\n",
    "    ))"
   ]
  },
  {
   "cell_type": "code",
   "execution_count": null,
   "metadata": {},
   "outputs": [],
   "source": [
    "df_awards_raw = pd.DataFrame(awards)"
   ]
  },
  {
   "cell_type": "markdown",
   "metadata": {},
   "source": [
    "### Some quick EDA."
   ]
  },
  {
   "cell_type": "code",
   "execution_count": null,
   "metadata": {},
   "outputs": [],
   "source": [
    "df_awards_raw.info()"
   ]
  },
  {
   "cell_type": "code",
   "execution_count": null,
   "metadata": {},
   "outputs": [],
   "source": [
    "df_awards_raw.year.min()"
   ]
  },
  {
   "cell_type": "markdown",
   "metadata": {},
   "source": [
    "**Hm, that's suspiciously close to a round number. Are we missing some?**"
   ]
  },
  {
   "cell_type": "markdown",
   "metadata": {},
   "source": [
    "**How about recipients?**"
   ]
  },
  {
   "cell_type": "code",
   "execution_count": null,
   "metadata": {},
   "outputs": [],
   "source": [
    "df_awards_raw.num_recipients.value_counts()"
   ]
  },
  {
   "cell_type": "markdown",
   "metadata": {},
   "source": [
    "Why do some have no recipients?"
   ]
  },
  {
   "cell_type": "code",
   "execution_count": null,
   "metadata": {},
   "outputs": [],
   "source": [
    "df_awards_raw[df_awards_raw.num_recipients == 0]"
   ]
  },
  {
   "cell_type": "markdown",
   "metadata": {},
   "source": [
    "Ok: 2018 awards have no recipients because they haven't been awarded yet. Some past years lack awards because there actually were none that year. Let's keep only meaningful data:"
   ]
  },
  {
   "cell_type": "code",
   "execution_count": null,
   "metadata": {},
   "outputs": [],
   "source": [
    "df_awards_past = df_awards_raw[df_awards_raw.year != 2018]\n",
    "df_awards_past.info()"
   ]
  },
  {
   "cell_type": "markdown",
   "metadata": {},
   "source": [
    "Hm, `motivation` has a different number of items... why?"
   ]
  },
  {
   "cell_type": "code",
   "execution_count": null,
   "metadata": {},
   "outputs": [],
   "source": [
    "df_awards_past[df_awards_past.motivation.isnull()].head()"
   ]
  },
  {
   "cell_type": "markdown",
   "metadata": {},
   "source": [
    "Looks like it's fine that those motivations were missing."
   ]
  },
  {
   "cell_type": "markdown",
   "metadata": {},
   "source": [
    "## Individual Activity 2"
   ]
  },
  {
   "cell_type": "markdown",
   "metadata": {},
   "source": [
    "** Sort the awards by year. **"
   ]
  },
  {
   "cell_type": "code",
   "execution_count": null,
   "metadata": {},
   "outputs": [],
   "source": [
    "# Your code here"
   ]
  },
  {
   "cell_type": "markdown",
   "metadata": {},
   "source": [
    "### How many awards of each type were given?"
   ]
  },
  {
   "cell_type": "code",
   "execution_count": null,
   "metadata": {},
   "outputs": [],
   "source": [
    "# Your code here"
   ]
  },
  {
   "cell_type": "markdown",
   "metadata": {},
   "source": [
    "### When was each award first given?"
   ]
  },
  {
   "cell_type": "code",
   "execution_count": null,
   "metadata": {},
   "outputs": [],
   "source": [
    "# Your code here"
   ]
  },
  {
   "cell_type": "markdown",
   "metadata": {},
   "source": [
    "## Back together..."
   ]
  },
  {
   "cell_type": "markdown",
   "metadata": {},
   "source": [
    "## How many recipients per year?"
   ]
  },
  {
   "cell_type": "markdown",
   "metadata": {},
   "source": [
    "Let's include the years with missing awards; if we were to analyze further, we'd have to decide whether to include them."
   ]
  },
  {
   "cell_type": "code",
   "execution_count": null,
   "metadata": {},
   "outputs": [],
   "source": [
    "df_awards_past.plot.scatter(x='year', y='num_recipients')"
   ]
  },
  {
   "cell_type": "markdown",
   "metadata": {},
   "source": [
    "It's hard to see a trend when there are multiple observations per year (**why?**).\n",
    "\n",
    "Let's try looking at *mean* num recipients by year."
   ]
  },
  {
   "cell_type": "code",
   "execution_count": null,
   "metadata": {},
   "outputs": [],
   "source": [
    "df_awards_past.groupby('year').num_recipients.mean().plot.line()"
   ]
  },
  {
   "cell_type": "markdown",
   "metadata": {},
   "source": [
    "A complete answer to our question would involve fitting regression models, breaking down by kind of award, etc... here's a quick preview."
   ]
  },
  {
   "cell_type": "code",
   "execution_count": null,
   "metadata": {},
   "outputs": [],
   "source": [
    "sns.lmplot(x='year', y='num_recipients', hue='title', data=df_awards_past)#, scatter_kws=dict(alpha=.1))\n",
    "plt.xlim(1900, 2018);"
   ]
  },
  {
   "cell_type": "markdown",
   "metadata": {},
   "source": [
    "## Did anyone recive the Nobel Prize more than once?"
   ]
  },
  {
   "cell_type": "markdown",
   "metadata": {},
   "source": [
    "Here's where it bites us that our original DataFrame isn't \"tidy\". Let's make a tidy one."
   ]
  },
  {
   "cell_type": "code",
   "execution_count": null,
   "metadata": {},
   "outputs": [],
   "source": [
    "tidy_awards = []\n",
    "for idx, row in df_awards_past.iterrows():\n",
    "    for recipient in row['recipients']:\n",
    "        tidy_awards.append(dict(\n",
    "            recipient=recipient,\n",
    "            year=row['year']))\n",
    "tidy_awards_df = pd.DataFrame(tidy_awards)\n",
    "tidy_awards_df.info()"
   ]
  },
  {
   "cell_type": "code",
   "execution_count": null,
   "metadata": {},
   "outputs": [],
   "source": [
    "tidy_awards_df.recipient.value_counts()"
   ]
  },
  {
   "cell_type": "markdown",
   "metadata": {},
   "source": [
    "## Other structured data formats: JSON and CSV"
   ]
  },
  {
   "cell_type": "markdown",
   "metadata": {},
   "source": [
    "### CSV\n",
    "CSV is the lowest-common-denominator data format."
   ]
  },
  {
   "cell_type": "code",
   "execution_count": null,
   "metadata": {},
   "outputs": [],
   "source": [
    "df_awards_past.to_csv('awards.csv', index=False)\n",
    "with open('awards.csv', 'r') as f:\n",
    "    print(f.read()[:1000])"
   ]
  },
  {
   "cell_type": "markdown",
   "metadata": {},
   "source": [
    "It loses some info, though: the recipients list became a plain string."
   ]
  },
  {
   "cell_type": "code",
   "execution_count": null,
   "metadata": {},
   "outputs": [],
   "source": [
    "pd.read_csv('awards.csv').recipients.iloc[20]"
   ]
  },
  {
   "cell_type": "markdown",
   "metadata": {},
   "source": [
    "### JSON"
   ]
  },
  {
   "cell_type": "markdown",
   "metadata": {},
   "source": [
    "JSON preserves structured data, but fewer data-science tools speak it."
   ]
  },
  {
   "cell_type": "code",
   "execution_count": null,
   "metadata": {},
   "outputs": [],
   "source": [
    "df_awards_past.to_json('awards.json', orient='records')\n",
    "\n",
    "with open('awards.json', 'r') as f:\n",
    "    print(f.read()[:1000])"
   ]
  },
  {
   "cell_type": "markdown",
   "metadata": {},
   "source": [
    "Lists are preserved."
   ]
  },
  {
   "cell_type": "code",
   "execution_count": null,
   "metadata": {},
   "outputs": [],
   "source": [
    "pd.read_json('awards.json').recipients.iloc[20]"
   ]
  },
  {
   "cell_type": "markdown",
   "metadata": {},
   "source": [
    "### Pickle\n",
    "For temporary data storage in a single version of Python, `pickle`s will preserve your data even more faithfully. But don't count on it for exchanging data (in fact, don't try to load untrusted `pickle`s -- they can run arbitrary code!)."
   ]
  },
  {
   "cell_type": "code",
   "execution_count": null,
   "metadata": {},
   "outputs": [],
   "source": [
    "df_awards_past.to_pickle('awards.pkl', protocol=0)\n",
    "with open('awards.pkl', 'r', encoding='latin1') as f:\n",
    "    print(f.read()[:200])"
   ]
  },
  {
   "cell_type": "markdown",
   "metadata": {},
   "source": [
    "## Formatted data output"
   ]
  },
  {
   "cell_type": "markdown",
   "metadata": {},
   "source": [
    "Let's make a textual table of Physics laureates by year, earliest first:"
   ]
  },
  {
   "cell_type": "code",
   "execution_count": null,
   "metadata": {},
   "outputs": [],
   "source": [
    "for idx, row in df_awards_past.sort_values('year').iterrows():\n",
    "    if 'Physics' in row['title']:\n",
    "        print('{}: {}'.format(\n",
    "            row['year'],\n",
    "            ', '.join(row['recipients'])))\n"
   ]
  }
 ],
 "metadata": {
  "kernelspec": {
   "display_name": "Python 3",
   "language": "python",
   "name": "python3"
  },
  "language_info": {
   "codemirror_mode": {
    "name": "ipython",
    "version": 3
   },
   "file_extension": ".py",
   "mimetype": "text/x-python",
   "name": "python",
   "nbconvert_exporter": "python",
   "pygments_lexer": "ipython3",
   "version": "3.6.5"
  }
 },
 "nbformat": 4,
 "nbformat_minor": 2
}
