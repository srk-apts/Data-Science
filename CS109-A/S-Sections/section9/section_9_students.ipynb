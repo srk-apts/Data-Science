{
 "cells": [
  {
   "cell_type": "markdown",
   "metadata": {},
   "source": [
    "# <img style=\"float: left; padding-right: 10px; width: 45px\" src=\"https://raw.githubusercontent.com/Harvard-IACS/2018-CS109A/master/content/styles/iacs.png\"> CS109A Introduction to Data Science\n",
    "\n",
    "## Standard Section 9: Neural Networks Continued\n",
    "\n",
    "**Harvard University**<br/>\n",
    "**Fall 2018**<br/>\n",
    "**Section Leaders:** Mehul Smriti Raje, Ken Arnold, Karan Motwani, Cecilia Garraffo<br/>\n",
    "**Instructors:** Pavlos Protopapas, Kevin Rader <br/>\n",
    "**Author:** Mehul Smriti Raje"
   ]
  },
  {
   "cell_type": "markdown",
   "metadata": {
    "colab_type": "text",
    "id": "JTtSHlGnuuvU"
   },
   "source": [
    "In this section, we will revisit some of the problems we did in previous sections and try to do them again using Keras. The goal is to familiarize you with building Neural Networks using Keras. The exercises below will help you be able to answer parts of Homework 9.\n",
    "\n",
    "Specifically, we will: \n",
    "    \n",
    "    1. Use Keras to build a NN for linear regression and extend it to MLP.\n",
    "    2. Use Keras to build a NN that solves a classification problem\n",
    "    \n",
    "This notebook can also be run on Google Colab at https://colab.research.google.com/. Colab is helpful if your machine does not have a GPU and you want to try out more complex models, though it has a memory limit. JupyterHub and JupyterLab are other useful options, as are AWS, Google Cloud, etc. Feel free to explore and tell us if you liked something/found any platform configuration interesting or useful and why. "
   ]
  },
  {
   "cell_type": "code",
   "execution_count": 1,
   "metadata": {
    "colab": {
     "base_uri": "https://localhost:8080/",
     "height": 89
    },
    "colab_type": "code",
    "id": "w-br9TPnm3eu",
    "outputId": "42e57f18-43bc-457b-e2fd-df0ad450a320"
   },
   "outputs": [
    {
     "name": "stderr",
     "output_type": "stream",
     "text": [
      "C:\\ProgramData\\Anaconda3\\lib\\site-packages\\h5py\\__init__.py:36: FutureWarning: Conversion of the second argument of issubdtype from `float` to `np.floating` is deprecated. In future, it will be treated as `np.float64 == np.dtype(float).type`.\n",
      "  from ._conv import register_converters as _register_converters\n",
      "Using TensorFlow backend.\n"
     ]
    }
   ],
   "source": [
    "import random\n",
    "random.seed(112358)\n",
    "\n",
    "import numpy as np\n",
    "import pandas as pd\n",
    "import matplotlib.pyplot as plt\n",
    "\n",
    "from sklearn.model_selection import cross_val_score\n",
    "from sklearn.linear_model import LogisticRegression, LinearRegression, Ridge\n",
    "from sklearn.model_selection import train_test_split\n",
    "import statsmodels.api as sm\n",
    "\n",
    "import keras\n",
    "from keras.models import Sequential\n",
    "from keras.layers import Dense\n",
    "from keras import regularizers\n",
    "\n",
    "%matplotlib inline\n",
    "\n",
    "import seaborn as sns\n",
    "pd.set_option('display.width', 1500)\n",
    "pd.set_option('display.max_columns', 100)\n",
    "\n",
    "from sklearn.utils import shuffle"
   ]
  },
  {
   "cell_type": "markdown",
   "metadata": {
    "colab_type": "text",
    "id": "ZTZsq2lCwE6k"
   },
   "source": [
    "Neural Networks are flexible structures that can be used to solve probelms of different complexities."
   ]
  },
  {
   "cell_type": "markdown",
   "metadata": {
    "colab_type": "text",
    "id": "yJcQBRJZv94H"
   },
   "source": [
    "## 1. Linear Regression as a Neural Net"
   ]
  },
  {
   "cell_type": "markdown",
   "metadata": {
    "colab_type": "text",
    "id": "7Y2EeNvQWJI1"
   },
   "source": [
    "Let's first load the Titanic dataset from Section 3 and do the same pre-processing, as described before."
   ]
  },
  {
   "cell_type": "code",
   "execution_count": 2,
   "metadata": {
    "colab": {},
    "colab_type": "code",
    "id": "tm3LYAmmv8LE"
   },
   "outputs": [],
   "source": [
    "# Loading dataset and keeping a copy of the original\n",
    "titanic = sns.load_dataset(\"titanic\")\n",
    "\n",
    "# Selecting predictors which are not redundant and don't have missing values\n",
    "titanic = titanic[['age', 'sex', 'class', 'embark_town', 'alone', 'fare', 'alive']]\n",
    "titanic = titanic.dropna()\n",
    "\n",
    "# Remove outliers\n",
    "titanic = titanic[titanic.fare < 100]\n",
    "\n",
    "# Replacing columns with categorical variables\n",
    "titanic = pd.get_dummies(titanic, columns=['sex', 'class'], drop_first=True)"
   ]
  },
  {
   "cell_type": "code",
   "execution_count": 3,
   "metadata": {
    "colab": {},
    "colab_type": "code",
    "id": "oeykoAS4jvCu"
   },
   "outputs": [],
   "source": [
    "# Use 4 predictors\n",
    "X = titanic[['age', 'sex_male', 'class_Second', 'class_Third']]\n",
    "\n",
    "# Normalising variables (note: this is learning normalization params using test data, but we're just exploring here.)\n",
    "X = ((X - X.mean())/(X.std()))\n",
    "\n",
    "# Define our regression task\n",
    "y_reg = titanic.fare.values.reshape(-1,1)"
   ]
  },
  {
   "cell_type": "code",
   "execution_count": 4,
   "metadata": {
    "colab": {
     "base_uri": "https://localhost:8080/",
     "height": 284
    },
    "colab_type": "code",
    "id": "ZKd5EGnt7GyN",
    "outputId": "603145d2-f599-48b3-8ed9-e54299eaeffc"
   },
   "outputs": [
    {
     "name": "stderr",
     "output_type": "stream",
     "text": [
      "C:\\ProgramData\\Anaconda3\\lib\\site-packages\\matplotlib\\axes\\_axes.py:6462: UserWarning: The 'normed' kwarg is deprecated, and has been replaced by the 'density' kwarg.\n",
      "  warnings.warn(\"The 'normed' kwarg is deprecated, and has been \"\n"
     ]
    },
    {
     "data": {
      "text/plain": [
       "<matplotlib.axes._subplots.AxesSubplot at 0x8c17167ac8>"
      ]
     },
     "execution_count": 4,
     "metadata": {},
     "output_type": "execute_result"
    },
    {
     "data": {
      "image/png": "[encoded data removed]",
      "text/plain": [
       "<Figure size 432x288 with 1 Axes>"
      ]
     },
     "metadata": {},
     "output_type": "display_data"
    }
   ],
   "source": [
    "sns.distplot(y_reg)"
   ]
  },
  {
   "cell_type": "code",
   "execution_count": 5,
   "metadata": {
    "colab": {},
    "colab_type": "code",
    "id": "Z3bf05l4Y027"
   },
   "outputs": [],
   "source": [
    "X_train, X_val, y_train_reg, y_val_reg = train_test_split(\n",
    "    X, y_reg, test_size=1/3, random_state=0)"
   ]
  },
  {
   "cell_type": "code",
   "execution_count": 6,
   "metadata": {
    "colab": {
     "base_uri": "https://localhost:8080/",
     "height": 224
    },
    "colab_type": "code",
    "id": "sVyOiagTZHVH",
    "outputId": "dce703b2-f2e3-4405-f008-3c1c68c61315"
   },
   "outputs": [
    {
     "name": "stdout",
     "output_type": "stream",
     "text": [
      "(442, 4) (442, 1)\n"
     ]
    },
    {
     "data": {
      "text/html": [
       "<div>\n",
       "<style scoped>\n",
       "    .dataframe tbody tr th:only-of-type {\n",
       "        vertical-align: middle;\n",
       "    }\n",
       "\n",
       "    .dataframe tbody tr th {\n",
       "        vertical-align: top;\n",
       "    }\n",
       "\n",
       "    .dataframe thead th {\n",
       "        text-align: right;\n",
       "    }\n",
       "</style>\n",
       "<table border=\"1\" class=\"dataframe\">\n",
       "  <thead>\n",
       "    <tr style=\"text-align: right;\">\n",
       "      <th></th>\n",
       "      <th>age</th>\n",
       "      <th>sex_male</th>\n",
       "      <th>class_Second</th>\n",
       "      <th>class_Third</th>\n",
       "    </tr>\n",
       "  </thead>\n",
       "  <tbody>\n",
       "    <tr>\n",
       "      <th>608</th>\n",
       "      <td>-0.516021</td>\n",
       "      <td>-1.381811</td>\n",
       "      <td>1.683412</td>\n",
       "      <td>-1.071045</td>\n",
       "    </tr>\n",
       "    <tr>\n",
       "      <th>721</th>\n",
       "      <td>-0.861196</td>\n",
       "      <td>0.722598</td>\n",
       "      <td>-0.593137</td>\n",
       "      <td>0.932262</td>\n",
       "    </tr>\n",
       "    <tr>\n",
       "      <th>385</th>\n",
       "      <td>-0.792161</td>\n",
       "      <td>0.722598</td>\n",
       "      <td>1.683412</td>\n",
       "      <td>-1.071045</td>\n",
       "    </tr>\n",
       "    <tr>\n",
       "      <th>273</th>\n",
       "      <td>0.519504</td>\n",
       "      <td>0.722598</td>\n",
       "      <td>-0.593137</td>\n",
       "      <td>-1.071045</td>\n",
       "    </tr>\n",
       "    <tr>\n",
       "      <th>336</th>\n",
       "      <td>-0.032776</td>\n",
       "      <td>0.722598</td>\n",
       "      <td>-0.593137</td>\n",
       "      <td>-1.071045</td>\n",
       "    </tr>\n",
       "  </tbody>\n",
       "</table>\n",
       "</div>"
      ],
      "text/plain": [
       "          age  sex_male  class_Second  class_Third\n",
       "608 -0.516021 -1.381811      1.683412    -1.071045\n",
       "721 -0.861196  0.722598     -0.593137     0.932262\n",
       "385 -0.792161  0.722598      1.683412    -1.071045\n",
       "273  0.519504  0.722598     -0.593137    -1.071045\n",
       "336 -0.032776  0.722598     -0.593137    -1.071045"
      ]
     },
     "execution_count": 6,
     "metadata": {},
     "output_type": "execute_result"
    }
   ],
   "source": [
    "print(X_train.shape, y_train_reg.shape)\n",
    "X_train.head()"
   ]
  },
  {
   "cell_type": "markdown",
   "metadata": {
    "colab_type": "text",
    "id": "aoTlel2KbtrI"
   },
   "source": [
    "Now, we fit a multiple linear regression model as before, on our numerical predictors."
   ]
  },
  {
   "cell_type": "code",
   "execution_count": 7,
   "metadata": {
    "colab": {
     "base_uri": "https://localhost:8080/",
     "height": 446
    },
    "colab_type": "code",
    "id": "n_5b4YW01I5c",
    "outputId": "67fdb3f9-7083-4715-95ad-42dd9df23c5e"
   },
   "outputs": [
    {
     "data": {
      "text/html": [
       "<table class=\"simpletable\">\n",
       "<caption>OLS Regression Results</caption>\n",
       "<tr>\n",
       "  <th>Dep. Variable:</th>            <td>y</td>        <th>  R-squared:         </th> <td>   0.579</td>\n",
       "</tr>\n",
       "<tr>\n",
       "  <th>Model:</th>                   <td>OLS</td>       <th>  Adj. R-squared:    </th> <td>   0.575</td>\n",
       "</tr>\n",
       "<tr>\n",
       "  <th>Method:</th>             <td>Least Squares</td>  <th>  F-statistic:       </th> <td>   150.4</td>\n",
       "</tr>\n",
       "<tr>\n",
       "  <th>Date:</th>             <td>Thu, 22 Nov 2018</td> <th>  Prob (F-statistic):</th> <td>8.85e-81</td>\n",
       "</tr>\n",
       "<tr>\n",
       "  <th>Time:</th>                 <td>00:05:27</td>     <th>  Log-Likelihood:    </th> <td> -1790.4</td>\n",
       "</tr>\n",
       "<tr>\n",
       "  <th>No. Observations:</th>      <td>   442</td>      <th>  AIC:               </th> <td>   3591.</td>\n",
       "</tr>\n",
       "<tr>\n",
       "  <th>Df Residuals:</th>          <td>   437</td>      <th>  BIC:               </th> <td>   3611.</td>\n",
       "</tr>\n",
       "<tr>\n",
       "  <th>Df Model:</th>              <td>     4</td>      <th>                     </th>     <td> </td>   \n",
       "</tr>\n",
       "<tr>\n",
       "  <th>Covariance Type:</th>      <td>nonrobust</td>    <th>                     </th>     <td> </td>   \n",
       "</tr>\n",
       "</table>\n",
       "<table class=\"simpletable\">\n",
       "<tr>\n",
       "        <td></td>          <th>coef</th>     <th>std err</th>      <th>t</th>      <th>P>|t|</th>  <th>[0.025</th>    <th>0.975]</th>  \n",
       "</tr>\n",
       "<tr>\n",
       "  <th>const</th>        <td>   24.1693</td> <td>    0.666</td> <td>   36.296</td> <td> 0.000</td> <td>   22.861</td> <td>   25.478</td>\n",
       "</tr>\n",
       "<tr>\n",
       "  <th>age</th>          <td>   -2.6490</td> <td>    0.733</td> <td>   -3.615</td> <td> 0.000</td> <td>   -4.089</td> <td>   -1.209</td>\n",
       "</tr>\n",
       "<tr>\n",
       "  <th>sex_male</th>     <td>   -2.1448</td> <td>    0.674</td> <td>   -3.184</td> <td> 0.002</td> <td>   -3.469</td> <td>   -0.821</td>\n",
       "</tr>\n",
       "<tr>\n",
       "  <th>class_Second</th> <td>  -15.4677</td> <td>    0.888</td> <td>  -17.415</td> <td> 0.000</td> <td>  -17.213</td> <td>  -13.722</td>\n",
       "</tr>\n",
       "<tr>\n",
       "  <th>class_Third</th>  <td>  -21.9663</td> <td>    0.961</td> <td>  -22.864</td> <td> 0.000</td> <td>  -23.855</td> <td>  -20.078</td>\n",
       "</tr>\n",
       "</table>\n",
       "<table class=\"simpletable\">\n",
       "<tr>\n",
       "  <th>Omnibus:</th>       <td>83.833</td> <th>  Durbin-Watson:     </th> <td>   2.172</td>\n",
       "</tr>\n",
       "<tr>\n",
       "  <th>Prob(Omnibus):</th> <td> 0.000</td> <th>  Jarque-Bera (JB):  </th> <td> 182.864</td>\n",
       "</tr>\n",
       "<tr>\n",
       "  <th>Skew:</th>          <td> 0.994</td> <th>  Prob(JB):          </th> <td>1.96e-40</td>\n",
       "</tr>\n",
       "<tr>\n",
       "  <th>Kurtosis:</th>      <td> 5.444</td> <th>  Cond. No.          </th> <td>    2.49</td>\n",
       "</tr>\n",
       "</table><br/><br/>Warnings:<br/>[1] Standard Errors assume that the covariance matrix of the errors is correctly specified."
      ],
      "text/plain": [
       "<class 'statsmodels.iolib.summary.Summary'>\n",
       "\"\"\"\n",
       "                            OLS Regression Results                            \n",
       "==============================================================================\n",
       "Dep. Variable:                      y   R-squared:                       0.579\n",
       "Model:                            OLS   Adj. R-squared:                  0.575\n",
       "Method:                 Least Squares   F-statistic:                     150.4\n",
       "Date:                Thu, 22 Nov 2018   Prob (F-statistic):           8.85e-81\n",
       "Time:                        00:05:27   Log-Likelihood:                -1790.4\n",
       "No. Observations:                 442   AIC:                             3591.\n",
       "Df Residuals:                     437   BIC:                             3611.\n",
       "Df Model:                           4                                         \n",
       "Covariance Type:            nonrobust                                         \n",
       "================================================================================\n",
       "                   coef    std err          t      P>|t|      [0.025      0.975]\n",
       "--------------------------------------------------------------------------------\n",
       "const           24.1693      0.666     36.296      0.000      22.861      25.478\n",
       "age             -2.6490      0.733     -3.615      0.000      -4.089      -1.209\n",
       "sex_male        -2.1448      0.674     -3.184      0.002      -3.469      -0.821\n",
       "class_Second   -15.4677      0.888    -17.415      0.000     -17.213     -13.722\n",
       "class_Third    -21.9663      0.961    -22.864      0.000     -23.855     -20.078\n",
       "==============================================================================\n",
       "Omnibus:                       83.833   Durbin-Watson:                   2.172\n",
       "Prob(Omnibus):                  0.000   Jarque-Bera (JB):              182.864\n",
       "Skew:                           0.994   Prob(JB):                     1.96e-40\n",
       "Kurtosis:                       5.444   Cond. No.                         2.49\n",
       "==============================================================================\n",
       "\n",
       "Warnings:\n",
       "[1] Standard Errors assume that the covariance matrix of the errors is correctly specified.\n",
       "\"\"\""
      ]
     },
     "execution_count": 7,
     "metadata": {},
     "output_type": "execute_result"
    }
   ],
   "source": [
    "linreg_sm = sm.OLS(y_train_reg, sm.add_constant(X_train)).fit()\n",
    "linreg_sm.summary()"
   ]
  },
  {
   "cell_type": "markdown",
   "metadata": {
    "colab_type": "text",
    "id": "sgX8oJf34K3U"
   },
   "source": [
    "Note: we get an R^2 of 0.58 and, intercept of about 24, and coefficients of about \\[-2.7, -2.1, -15.5, -21.9\\]."
   ]
  },
  {
   "cell_type": "markdown",
   "metadata": {
    "colab_type": "text",
    "id": "wBbNZESzdd67"
   },
   "source": [
    "Now, let's try to build a neural network for this linear regression. "
   ]
  },
  {
   "cell_type": "markdown",
   "metadata": {
    "colab_type": "text",
    "id": "u70WMu6e4H3e"
   },
   "source": [
    "Let's first answer some questions to make this easier for us."
   ]
  },
  {
   "cell_type": "markdown",
   "metadata": {
    "colab_type": "text",
    "id": "xgfs2BEnfazp"
   },
   "source": [
    "**Question 1:** What is the input-output size we should use to build our model?"
   ]
  },
  {
   "cell_type": "code",
   "execution_count": 8,
   "metadata": {
    "colab": {
     "base_uri": "https://localhost:8080/",
     "height": 52
    },
    "colab_type": "code",
    "id": "Dn1aAEz_fhDI",
    "outputId": "44ebb77a-4c33-47a2-f3e7-c95f26f4c660"
   },
   "outputs": [
    {
     "name": "stdout",
     "output_type": "stream",
     "text": [
      "Each input sample has dimensionality:  4\n",
      "Each output sample has dimensionality:  1\n"
     ]
    }
   ],
   "source": [
    "print('Each input sample has dimensionality: ', X_train.shape[1])\n",
    "print('Each output sample has dimensionality: ', y_train_reg.shape[1])"
   ]
  },
  {
   "cell_type": "markdown",
   "metadata": {
    "colab_type": "text",
    "id": "0PLYXH1xxAbJ"
   },
   "source": [
    "Do you recall the feed-forward network we made in Section 6?\n",
    "\n",
    "**Question 2:** What transformation will help us get linear regression?\n",
    "\n",
    "**Ans:** A linear transformation can be obtained by mapping the input to the output layer without using any non-linear transformations."
   ]
  },
  {
   "cell_type": "markdown",
   "metadata": {
    "colab_type": "text",
    "id": "2GZ3GWNy2F2b"
   },
   "source": [
    "### Building a NN for this linear transformation"
   ]
  },
  {
   "cell_type": "code",
   "execution_count": 9,
   "metadata": {
    "colab": {},
    "colab_type": "code",
    "id": "1fNYpFyDXvYV"
   },
   "outputs": [],
   "source": [
    "trials = {} # We'll keep track of our results here."
   ]
  },
  {
   "cell_type": "code",
   "execution_count": 10,
   "metadata": {
    "colab": {
     "base_uri": "https://localhost:8080/",
     "height": 173
    },
    "colab_type": "code",
    "id": "LDwGJkf32mYG",
    "outputId": "62a6c7b8-a142-4dda-b00e-9fbd28b0f744"
   },
   "outputs": [
    {
     "name": "stdout",
     "output_type": "stream",
     "text": [
      "_________________________________________________________________\n",
      "Layer (type)                 Output Shape              Param #   \n",
      "=================================================================\n",
      "dense_1 (Dense)              (None, 1)                 5         \n",
      "=================================================================\n",
      "Total params: 5\n",
      "Trainable params: 5\n",
      "Non-trainable params: 0\n",
      "_________________________________________________________________\n"
     ]
    }
   ],
   "source": [
    "batch_size = 32\n",
    "epochs = 40\n",
    "\n",
    "# reset the model \n",
    "linreg_nn = Sequential()\n",
    "\n",
    "# single layer\n",
    "linreg_nn.add(\n",
    "    Dense(1, activation='linear', input_shape=(X_train.shape[1],)))\n",
    "\n",
    "# Summary \n",
    "linreg_nn.summary()\n",
    "\n",
    "# compile it \n",
    "linreg_nn.compile(optimizer='sgd', loss='mse', metrics=['mse'])\n",
    "\n",
    "# fit it\n",
    "trials['linreg'] = linreg_nn.fit(\n",
    "    X_train.values, y_train_reg,\n",
    "    epochs=epochs,\n",
    "    validation_data=(X_val, y_val_reg), verbose=False)"
   ]
  },
  {
   "cell_type": "markdown",
   "metadata": {
    "colab_type": "text",
    "id": "bTd-L0Pu4mBz"
   },
   "source": [
    "**Question**: Why does the output shape and the number of params make sense?"
   ]
  },
  {
   "cell_type": "markdown",
   "metadata": {
    "colab_type": "text",
    "id": "Wj3-Am9v480u"
   },
   "source": [
    "**Answer**: The output is a single scalar (1) for each input sample (`None`). To get 1 output from 4 inputs requires $4*1=4$ weights plus one bias term for each output, so 5 params."
   ]
  },
  {
   "cell_type": "code",
   "execution_count": 11,
   "metadata": {
    "colab": {
     "base_uri": "https://localhost:8080/",
     "height": 296
    },
    "colab_type": "code",
    "id": "8DkFi85XH5ya",
    "outputId": "b5fc0806-78cb-467c-8980-36568c75031d"
   },
   "outputs": [
    {
     "name": "stdout",
     "output_type": "stream",
     "text": [
      "MSE: train=194.2, val=214.5\n"
     ]
    },
    {
     "data": {
      "image/png": "[encoded data removed]",
      "text/plain": [
       "<Figure size 432x288 with 1 Axes>"
      ]
     },
     "metadata": {},
     "output_type": "display_data"
    }
   ],
   "source": [
    "# Plotting the train and validation errors\n",
    "plt.plot(trials['linreg'].history['mean_squared_error'], '-o', label = 'train mse')\n",
    "plt.plot(trials['linreg'].history['val_mean_squared_error'], '-*', label = 'val mse')\n",
    "plt.xlabel('epochs')\n",
    "plt.ylabel('MSE')\n",
    "plt.legend();\n",
    "\n",
    "print(\"MSE: train={:.1f}, val={:.1f}\".format(\n",
    "    trials['linreg'].history['mean_squared_error'][-1],\n",
    "    trials['linreg'].history['val_mean_squared_error'][-1]))"
   ]
  },
  {
   "cell_type": "markdown",
   "metadata": {
    "colab_type": "text",
    "id": "sBAmUka6a4QE"
   },
   "source": [
    "**Question**: When I first tried this, I got validation MSE much lower than train MSE. I checked and they were being computed completely correctly. Why might that have happened? (Hint: both MSEs were around 2000...)"
   ]
  },
  {
   "cell_type": "code",
   "execution_count": 12,
   "metadata": {
    "colab": {
     "base_uri": "https://localhost:8080/",
     "height": 34
    },
    "colab_type": "code",
    "id": "1rdOE6W5aB75",
    "outputId": "fb6b3669-0408-4c99-f747-059f8520344e"
   },
   "outputs": [
    {
     "data": {
      "text/plain": [
       "193.40800083920146"
      ]
     },
     "execution_count": 12,
     "metadata": {},
     "output_type": "execute_result"
    }
   ],
   "source": [
    "# This happens to be slightly different from the *training* MSE reported in the log. The difference is due to a subtlety in how error is logged *during* an epoch.\n",
    "train_mse = np.mean((linreg_nn.predict(X_train) - y_train_reg) ** 2)\n",
    "train_mse"
   ]
  },
  {
   "cell_type": "code",
   "execution_count": 13,
   "metadata": {
    "colab": {
     "base_uri": "https://localhost:8080/",
     "height": 34
    },
    "colab_type": "code",
    "id": "87QoeiL5aX73",
    "outputId": "7605ccbb-2f50-4083-8645-bc2965da6f89"
   },
   "outputs": [
    {
     "data": {
      "text/plain": [
       "214.49326165312925"
      ]
     },
     "execution_count": 13,
     "metadata": {},
     "output_type": "execute_result"
    }
   ],
   "source": [
    "np.mean((linreg_nn.predict(X_val) - y_val_reg) ** 2)"
   ]
  },
  {
   "cell_type": "code",
   "execution_count": 14,
   "metadata": {
    "colab": {
     "base_uri": "https://localhost:8080/",
     "height": 34
    },
    "colab_type": "code",
    "id": "g5qfLcSfb2Et",
    "outputId": "09df176f-d043-48a2-fb7e-6b38de9aedd6"
   },
   "outputs": [
    {
     "data": {
      "text/plain": [
       "0.5786722070400321"
      ]
     },
     "execution_count": 14,
     "metadata": {},
     "output_type": "execute_result"
    }
   ],
   "source": [
    "# train R^2\n",
    "1 - train_mse / np.var(y_train_reg)"
   ]
  },
  {
   "cell_type": "markdown",
   "metadata": {
    "colab_type": "text",
    "id": "DJkal1k_cM88"
   },
   "source": [
    "Does that R^2 number look familiar?"
   ]
  },
  {
   "cell_type": "markdown",
   "metadata": {
    "colab_type": "text",
    "id": "tFgEKDtAH4-k"
   },
   "source": [
    "**Ok, what just happened here?**"
   ]
  },
  {
   "cell_type": "markdown",
   "metadata": {
    "colab_type": "text",
    "id": "tqQlBn4qlabg"
   },
   "source": [
    "We just created a neural network where the input layer takes a 5-dimensional input (4 parameters and 1 constant) and output layer produces a 1-dimensional output (regression value). The mapping is activated by a `linear` activation function. Optimisation of coeffients are done using `sgd` or stochastic gradient descent where the `mse` of fit is optimised."
   ]
  },
  {
   "cell_type": "markdown",
   "metadata": {
    "colab_type": "text",
    "id": "aw6M6zJO4KH0"
   },
   "source": [
    "**Question 3:** Why did we choose the activation function?\n",
    "\n",
    "**Ans:** We want to produce a linear transformation, which motivates us to pick the `linear` activation."
   ]
  },
  {
   "cell_type": "markdown",
   "metadata": {
    "colab_type": "text",
    "id": "bshv9Vwxnerl"
   },
   "source": [
    "**Question 4:** Why did we normalise our data?\n",
    "\n",
    "**Ans:** For a single linear layer, it didn't matter much. But when we add a nonlinearity, the scale of whatever gets passed through the nonlinearity will matter a lot. \n",
    "\n",
    "We either need to scale our data or initialize it carefully, so that even during the first pass of the data through our neural network, we actually have a chance of learning something."
   ]
  },
  {
   "cell_type": "markdown",
   "metadata": {
    "colab_type": "text",
    "id": "B-Ashfd3tski"
   },
   "source": [
    "**Question 5:** How do we pick the number of epochs and batch size?\n",
    "\n",
    "**Ans:** The number of epochs usually depends on the complexity of function being fitted and the structure of model. The batch size is often governed by the number of parameters one is trying to fit, since it determines how much memory is required for the backward pass."
   ]
  },
  {
   "cell_type": "markdown",
   "metadata": {
    "colab_type": "text",
    "id": "1sAyGfq4ttWm"
   },
   "source": [
    "**Question 6:** Why dooes the training MSE keep decreasing with the number of epochs, while the validation MSE flattens out?\n",
    "\n",
    "**Ans:** The NN is likely overfitting."
   ]
  },
  {
   "cell_type": "markdown",
   "metadata": {
    "colab_type": "text",
    "id": "EvQ5QA6312Ia"
   },
   "source": [
    "What function is the linear regression actually computing?"
   ]
  },
  {
   "cell_type": "code",
   "execution_count": 15,
   "metadata": {
    "colab": {
     "base_uri": "https://localhost:8080/",
     "height": 69
    },
    "colab_type": "code",
    "id": "dPI_0BDK2Kmr",
    "outputId": "3388bc32-45d7-4c7d-cfa5-c8f0044df19d"
   },
   "outputs": [
    {
     "name": "stdout",
     "output_type": "stream",
     "text": [
      "NN model weights: [ -2.3823771  -2.2002816 -14.90769   -21.216242 ]\n",
      "NN model bias: [24.138231]\n",
      "Statsmodels weights: [ 24.16932019  -2.6490289   -2.14478285 -15.46766422 -21.96628353]\n"
     ]
    }
   ],
   "source": [
    "weights, bias = linreg_nn.get_weights()\n",
    "print(\"NN model weights:\", weights.flatten())\n",
    "print(\"NN model bias:\", bias)\n",
    "print(\"Statsmodels weights:\", linreg_sm.params.values)"
   ]
  },
  {
   "cell_type": "markdown",
   "metadata": {
    "colab_type": "text",
    "id": "yraJO46y2-iV"
   },
   "source": [
    "Question: In what ways are these similar or different? Why?"
   ]
  },
  {
   "cell_type": "code",
   "execution_count": 16,
   "metadata": {
    "colab": {
     "base_uri": "https://localhost:8080/",
     "height": 34
    },
    "colab_type": "code",
    "id": "85GWpohz7XHN",
    "outputId": "14350e6a-7b29-4ae0-8f8f-74a0816b9d07"
   },
   "outputs": [
    {
     "data": {
      "text/plain": [
       "array([25.98838135, 13.59695769, 22.20638358, 53.94464295])"
      ]
     },
     "execution_count": 16,
     "metadata": {},
     "output_type": "execute_result"
    }
   ],
   "source": [
    "linreg_sm.predict(sm.add_constant(X_train.values)[:4])"
   ]
  },
  {
   "cell_type": "code",
   "execution_count": 17,
   "metadata": {
    "colab": {
     "base_uri": "https://localhost:8080/",
     "height": 86
    },
    "colab_type": "code",
    "id": "AcZeyEY96qv4",
    "outputId": "cf4b1c4d-11c4-451c-f71d-bbf4c565254b"
   },
   "outputs": [
    {
     "data": {
      "text/plain": [
       "array([[26.035723],\n",
       "       [13.66322 ],\n",
       "       [22.0633  ],\n",
       "       [52.876507]], dtype=float32)"
      ]
     },
     "execution_count": 17,
     "metadata": {},
     "output_type": "execute_result"
    }
   ],
   "source": [
    "# Predict the first 4 outputs\n",
    "linreg_nn.predict(X_train.values[:4])"
   ]
  },
  {
   "cell_type": "code",
   "execution_count": 18,
   "metadata": {
    "colab": {
     "base_uri": "https://localhost:8080/",
     "height": 86
    },
    "colab_type": "code",
    "id": "_VlUIZEYBo8M",
    "outputId": "376226f9-7344-4781-e142-270ba070e54c"
   },
   "outputs": [
    {
     "data": {
      "text/plain": [
       "array([[26.03572233],\n",
       "       [13.66321981],\n",
       "       [22.06329929],\n",
       "       [52.87650758]])"
      ]
     },
     "execution_count": 18,
     "metadata": {},
     "output_type": "execute_result"
    }
   ],
   "source": [
    "# Let's do this ourselves in NumPy\n",
    "\n",
    "# output layer\n",
    "y_pred = np.dot(X_train.values, weights) + bias\n",
    "y_pred[:4]\n"
   ]
  },
  {
   "cell_type": "markdown",
   "metadata": {
    "colab_type": "text",
    "id": "O97QThy-7rU3"
   },
   "source": [
    "## From linear regression to MLP"
   ]
  },
  {
   "cell_type": "markdown",
   "metadata": {
    "colab_type": "text",
    "id": "TNQ2-vPs6avm"
   },
   "source": [
    "Now recall our MLP from section 6: we also had a linear output layer, but we added some hidden nodes. Let's do that in Keras."
   ]
  },
  {
   "cell_type": "code",
   "execution_count": 19,
   "metadata": {
    "colab": {
     "base_uri": "https://localhost:8080/",
     "height": 208
    },
    "colab_type": "code",
    "id": "Vrljzp0_7uqm",
    "outputId": "2be96b43-96cc-49ad-f371-e6926cba0384"
   },
   "outputs": [
    {
     "name": "stdout",
     "output_type": "stream",
     "text": [
      "_________________________________________________________________\n",
      "Layer (type)                 Output Shape              Param #   \n",
      "=================================================================\n",
      "dense_2 (Dense)              (None, 5)                 25        \n",
      "_________________________________________________________________\n",
      "dense_3 (Dense)              (None, 1)                 6         \n",
      "=================================================================\n",
      "Total params: 31\n",
      "Trainable params: 31\n",
      "Non-trainable params: 0\n",
      "_________________________________________________________________\n"
     ]
    }
   ],
   "source": [
    "batch_size = 32\n",
    "epochs = 40\n",
    "n_hidden = 5\n",
    "\n",
    "# reset the model \n",
    "model = Sequential()\n",
    "\n",
    "# HIDDEN LAYER (new this time)\n",
    "model.add(\n",
    "    Dense(\n",
    "        n_hidden,\n",
    "        activation='sigmoid', input_shape=(X_train.shape[1],)))\n",
    "\n",
    "# output layer (same as last time, except now we don't need to specify input_shape)\n",
    "model.add(Dense(1, activation = 'linear'))\n",
    "\n",
    "# Summary \n",
    "model.summary()\n",
    "\n",
    "# compile it \n",
    "model.compile(optimizer='sgd', loss='mse', metrics=['mse'])\n",
    "\n",
    "# fit it\n",
    "trials['mlp'] = model.fit(X_train.values, y_train_reg, epochs=epochs, validation_data=(X_val, y_val_reg), verbose=False)"
   ]
  },
  {
   "cell_type": "markdown",
   "metadata": {
    "colab_type": "text",
    "id": "NLL4P7VR8DK_"
   },
   "source": [
    "**Question**: Why do those shapes and #params make sense?"
   ]
  },
  {
   "cell_type": "code",
   "execution_count": 20,
   "metadata": {
    "colab": {
     "base_uri": "https://localhost:8080/",
     "height": 472
    },
    "colab_type": "code",
    "id": "c319LmYI8Mji",
    "outputId": "66ecea6f-996a-4924-ce7f-e306c84a6c70"
   },
   "outputs": [
    {
     "name": "stdout",
     "output_type": "stream",
     "text": [
      "Linear Regression             : mean_squared_error             = 194.22\n",
      "MLP (5 hidden) Regression     : mean_squared_error             = 182.05\n",
      "Linear Regression             : val_mean_squared_error         = 214.49\n",
      "MLP (5 hidden) Regression     : val_mean_squared_error         = 202.11\n"
     ]
    },
    {
     "data": {
      "image/png": "[encoded data removed]",
      "text/plain": [
       "<Figure size 1152x432 with 2 Axes>"
      ]
     },
     "metadata": {},
     "output_type": "display_data"
    }
   ],
   "source": [
    "# Plotting the train and validation errors\n",
    "metrics_to_plot = ['mean_squared_error', 'val_mean_squared_error']\n",
    "fig, axs = plt.subplots(1, 2, figsize=(16, 6))\n",
    "\n",
    "trials_to_plot = [\n",
    "    ('Linear Regression', 'linreg'),\n",
    "    ('MLP (5 hidden) Regression', 'mlp')\n",
    "]\n",
    "\n",
    "for ax, metric in zip(axs, metrics_to_plot):\n",
    "    for title, trial_name in trials_to_plot:\n",
    "        h = trials[trial_name].history[metric]\n",
    "        ax.plot(h, marker='.', label=title)\n",
    "        ax.set(xlabel=\"epoch\", ylabel=metric, title=metric)\n",
    "        ax.legend()\n",
    "\n",
    "        print(f\"{title:30s}: {metric:30s} = {h[-1]:.2f}\")\n"
   ]
  },
  {
   "cell_type": "markdown",
   "metadata": {
    "colab_type": "text",
    "id": "iOpdIJsl8tEE"
   },
   "source": [
    "How did our training and validation error compare with the linear model?"
   ]
  },
  {
   "cell_type": "code",
   "execution_count": 21,
   "metadata": {
    "colab": {
     "base_uri": "https://localhost:8080/",
     "height": 52
    },
    "colab_type": "code",
    "id": "FM9UBrTO-WUv",
    "outputId": "f93d566d-cd3d-4ea0-bc15-491c7f849181"
   },
   "outputs": [
    {
     "name": "stdout",
     "output_type": "stream",
     "text": [
      "(4, 5) (5,)\n",
      "(5, 1) (1,)\n"
     ]
    }
   ],
   "source": [
    "weights_hidden, bias_hidden = model.layers[0].get_weights()\n",
    "weights_output, bias_output = model.layers[1].get_weights()\n",
    "\n",
    "print(weights_hidden.shape, bias_hidden.shape)\n",
    "print(weights_output.shape, bias_output.shape)"
   ]
  },
  {
   "cell_type": "code",
   "execution_count": 22,
   "metadata": {
    "colab": {
     "base_uri": "https://localhost:8080/",
     "height": 86
    },
    "colab_type": "code",
    "id": "d6REt54l_TvA",
    "outputId": "62ba6cb0-1eb5-40c3-ccba-78c94c60a862"
   },
   "outputs": [
    {
     "name": "stdout",
     "output_type": "stream",
     "text": [
      "[[21.67637891]\n",
      " [14.82498941]\n",
      " [24.80483855]\n",
      " [50.61665081]]\n"
     ]
    }
   ],
   "source": [
    "# Let's do this ourselves in NumPy\n",
    "\n",
    "# defining activation function\n",
    "sigmoid = lambda x: (1/(1 + np.exp(-x)))\n",
    "\n",
    "# hidden layer\n",
    "hidden_activations = np.dot(X_train, weights_hidden) + bias_hidden\n",
    "hidden_layer_outputs = sigmoid(hidden_activations)\n",
    "\n",
    "# output layer\n",
    "y_pred = np.dot(hidden_layer_outputs, weights_output) + bias_output\n",
    "print(y_pred[:4])"
   ]
  },
  {
   "cell_type": "code",
   "execution_count": 37,
   "metadata": {
    "colab": {
     "base_uri": "https://localhost:8080/",
     "height": 86
    },
    "colab_type": "code",
    "id": "o-rxlF7UCnQ7",
    "outputId": "07553ec2-5265-42fb-f90f-e83ced01e505"
   },
   "outputs": [
    {
     "name": "stdout",
     "output_type": "stream",
     "text": [
      "[[22.464514]\n",
      " [11.769772]\n",
      " [20.8205  ]\n",
      " [50.72187 ]]\n"
     ]
    }
   ],
   "source": [
    "# Predict the first 4 outputs\n",
    "print(model.predict(X_train.values[:4]))\n"
   ]
  },
  {
   "cell_type": "code",
   "execution_count": 38,
   "metadata": {
    "colab": {
     "base_uri": "https://localhost:8080/",
     "height": 282
    },
    "colab_type": "code",
    "id": "N4wEiRu0COT-",
    "outputId": "c1e7bda0-bf73-440c-80c5-c117e21dd437"
   },
   "outputs": [
    {
     "data": {
      "text/plain": [
       "[<matplotlib.lines.Line2D at 0x8c17167438>]"
      ]
     },
     "execution_count": 38,
     "metadata": {},
     "output_type": "execute_result"
    },
    {
     "data": {
      "image/png": "[encoded data removed]",
      "text/plain": [
       "<Figure size 432x288 with 1 Axes>"
      ]
     },
     "metadata": {},
     "output_type": "display_data"
    }
   ],
   "source": [
    "xx = np.linspace(-10, 10, 100)\n",
    "plt.plot(xx, sigmoid(xx))"
   ]
  },
  {
   "cell_type": "markdown",
   "metadata": {
    "colab_type": "text",
    "id": "lATtOMetC6N5"
   },
   "source": [
    "## Classification"
   ]
  },
  {
   "cell_type": "markdown",
   "metadata": {
    "colab_type": "text",
    "id": "kPEp7x1NDCBH"
   },
   "source": [
    "Doing classification instead of regression is as easy as changing the loss!"
   ]
  },
  {
   "cell_type": "code",
   "execution_count": 25,
   "metadata": {
    "colab": {},
    "colab_type": "code",
    "id": "gu_d19E6DIGf"
   },
   "outputs": [],
   "source": [
    "# Change the output to a classification task\n",
    "y_clf = titanic.alive == 'yes'\n",
    "y_clf = y_clf.astype(int)\n",
    "\n",
    "# same train-test split\n",
    "X_train, X_val, y_train_clf, y_val_clf = train_test_split(\n",
    "    X, y_clf, test_size=1/3, random_state=0)\n"
   ]
  },
  {
   "cell_type": "code",
   "execution_count": 26,
   "metadata": {
    "colab": {
     "base_uri": "https://localhost:8080/",
     "height": 208
    },
    "colab_type": "code",
    "id": "EFbqftNmDNJ4",
    "outputId": "e00e4f0d-a842-4852-ba7c-322b4032077c"
   },
   "outputs": [
    {
     "data": {
      "text/plain": [
       "608    1\n",
       "721    0\n",
       "385    0\n",
       "273    0\n",
       "336    0\n",
       "439    0\n",
       "139    0\n",
       "418    0\n",
       "600    1\n",
       "0      0\n",
       "Name: alive, dtype: int32"
      ]
     },
     "execution_count": 26,
     "metadata": {},
     "output_type": "execute_result"
    }
   ],
   "source": [
    "y_train_clf[:10]"
   ]
  },
  {
   "cell_type": "code",
   "execution_count": 27,
   "metadata": {
    "colab": {
     "base_uri": "https://localhost:8080/",
     "height": 173
    },
    "colab_type": "code",
    "id": "nxn0vQPRDxFu",
    "outputId": "b6d010a7-7473-4e9e-a8ac-15e2d5591e26"
   },
   "outputs": [
    {
     "name": "stdout",
     "output_type": "stream",
     "text": [
      "_________________________________________________________________\n",
      "Layer (type)                 Output Shape              Param #   \n",
      "=================================================================\n",
      "dense_4 (Dense)              (None, 1)                 5         \n",
      "=================================================================\n",
      "Total params: 5\n",
      "Trainable params: 5\n",
      "Non-trainable params: 0\n",
      "_________________________________________________________________\n"
     ]
    }
   ],
   "source": [
    "# Logistic Regression = sigmoid activation + binary-cross-entropy loss.\n",
    "batch_size = 32\n",
    "epochs = 500\n",
    "\n",
    "# reset the model \n",
    "logreg_nn = Sequential()\n",
    "\n",
    "# single layer\n",
    "logreg_nn.add(Dense(\n",
    "    1, activation='sigmoid', input_shape=(X_train.shape[1],)))\n",
    "\n",
    "# Summary \n",
    "logreg_nn.summary()\n",
    "\n",
    "# compile it \n",
    "logreg_nn.compile(\n",
    "    optimizer='sgd',\n",
    "    loss='binary_crossentropy', metrics=['accuracy'])\n",
    "\n",
    "# fit it \n",
    "logreg_history = logreg_nn.fit(X_train.values, y_train_clf, epochs=epochs, validation_data=(X_val, y_val_clf), verbose=False)"
   ]
  },
  {
   "cell_type": "code",
   "execution_count": 28,
   "metadata": {
    "colab": {
     "base_uri": "https://localhost:8080/",
     "height": 438
    },
    "colab_type": "code",
    "id": "h7Fc8gbuEIAi",
    "outputId": "8ecdd176-f7c5-413d-f0b0-82298b62131c"
   },
   "outputs": [
    {
     "name": "stdout",
     "output_type": "stream",
     "text": [
      "Loss: train=0.433\n",
      "Accuracy: train=0.828\n"
     ]
    },
    {
     "data": {
      "image/png": "[encoded data removed]",
      "text/plain": [
       "<Figure size 1152x432 with 2 Axes>"
      ]
     },
     "metadata": {},
     "output_type": "display_data"
    }
   ],
   "source": [
    "# Plotting the train and validation errors\n",
    "fig, axs = plt.subplots(1, 2, figsize=(16, 6))\n",
    "plot_data = [\n",
    "    ('Loss', 'loss'),\n",
    "    ('Accuracy', 'acc')\n",
    "]\n",
    "for ax, (title, metric) in zip(axs, plot_data):\n",
    "    ax.plot(logreg_history.history[metric], '-o', label='train')\n",
    "    ax.plot(logreg_history.history['val_'+metric], '-*', label='val')\n",
    "    ax.set(xlabel='epochs', ylabel=metric, title=title)\n",
    "    ax.legend()\n",
    "\n",
    "    print(\"{}: train={:.3f}\".format(\n",
    "        title,\n",
    "        logreg_history.history[metric][-1]))"
   ]
  },
  {
   "cell_type": "code",
   "execution_count": 29,
   "metadata": {
    "colab": {
     "base_uri": "https://localhost:8080/",
     "height": 34
    },
    "colab_type": "code",
    "id": "X5VnizmXEvyO",
    "outputId": "1f172465-8353-4dbf-b442-ea2ff1e8d130"
   },
   "outputs": [
    {
     "data": {
      "text/plain": [
       "0.8280542986425339"
      ]
     },
     "execution_count": 29,
     "metadata": {},
     "output_type": "execute_result"
    }
   ],
   "source": [
    "sklearn_clf = LogisticRegression(C=1e6, multi_class='multinomial', solver='lbfgs').fit(X_train.values, y_train_clf)\n",
    "sklearn_clf.score(X_train.values, y_train_clf)"
   ]
  },
  {
   "cell_type": "code",
   "execution_count": 30,
   "metadata": {
    "colab": {},
    "colab_type": "code",
    "id": "VTHgGD2kFWNb"
   },
   "outputs": [],
   "source": [
    "weights, bias = logreg_nn.get_weights()"
   ]
  },
  {
   "cell_type": "code",
   "execution_count": 31,
   "metadata": {
    "colab": {
     "base_uri": "https://localhost:8080/",
     "height": 86
    },
    "colab_type": "code",
    "id": "LtluYjSVFTH2",
    "outputId": "30a0d1ca-02f5-44f6-ccf5-76de4eb24d04"
   },
   "outputs": [
    {
     "data": {
      "text/plain": [
       "array([[0.85676412],\n",
       "       [0.12701543],\n",
       "       [0.30176122],\n",
       "       [0.38305244]])"
      ]
     },
     "execution_count": 31,
     "metadata": {},
     "output_type": "execute_result"
    }
   ],
   "source": [
    "# Let's do this ourselves in NumPy\n",
    "\n",
    "# defining activation function\n",
    "sigmoid = lambda x: (1/(1 + np.exp(-x)))\n",
    "\n",
    "# output layer\n",
    "y_pred = sigmoid(\n",
    "    np.dot(X_train, weights) + bias)\n",
    "y_pred[:4]\n"
   ]
  },
  {
   "cell_type": "code",
   "execution_count": 32,
   "metadata": {
    "colab": {
     "base_uri": "https://localhost:8080/",
     "height": 86
    },
    "colab_type": "code",
    "id": "lK1k12oHI7Sr",
    "outputId": "7ac0c371-4da6-40ca-91ec-d0fe3951b43f"
   },
   "outputs": [
    {
     "data": {
      "text/plain": [
       "array([[0.8567641 ],\n",
       "       [0.12701541],\n",
       "       [0.3017612 ],\n",
       "       [0.38305244]], dtype=float32)"
      ]
     },
     "execution_count": 32,
     "metadata": {},
     "output_type": "execute_result"
    }
   ],
   "source": [
    "logreg_nn.predict(X_train[:4])"
   ]
  },
  {
   "cell_type": "code",
   "execution_count": 33,
   "metadata": {
    "colab": {
     "base_uri": "https://localhost:8080/",
     "height": 86
    },
    "colab_type": "code",
    "id": "r0OwGqC4FO5p",
    "outputId": "1fe7daea-a23b-4838-bbb6-6366dc3931a8"
   },
   "outputs": [
    {
     "data": {
      "text/plain": [
       "array([[0.28729876, 0.71270124],\n",
       "       [0.72664773, 0.27335227],\n",
       "       [0.60409152, 0.39590848],\n",
       "       [0.54767552, 0.45232448]])"
      ]
     },
     "execution_count": 33,
     "metadata": {},
     "output_type": "execute_result"
    }
   ],
   "source": [
    "sklearn_clf.predict_proba(X_train.values[:4])"
   ]
  },
  {
   "cell_type": "code",
   "execution_count": 34,
   "metadata": {
    "colab": {
     "base_uri": "https://localhost:8080/",
     "height": 34
    },
    "colab_type": "code",
    "id": "WSak0VpOIQU8",
    "outputId": "9091bdd4-d292-48dc-89b3-e1048ad7d3c7"
   },
   "outputs": [
    {
     "data": {
      "text/plain": [
       "array([[-0.31652555, -0.67405513, -0.28395378, -0.61070231]])"
      ]
     },
     "execution_count": 34,
     "metadata": {},
     "output_type": "execute_result"
    }
   ],
   "source": [
    "sklearn_clf.coef_"
   ]
  },
  {
   "cell_type": "code",
   "execution_count": 35,
   "metadata": {
    "colab": {
     "base_uri": "https://localhost:8080/",
     "height": 34
    },
    "colab_type": "code",
    "id": "r38CHsuHIVTP",
    "outputId": "19584f08-4b41-4734-a763-4689f7a1b277"
   },
   "outputs": [
    {
     "data": {
      "text/plain": [
       "array([-0.5823024, -1.3250238, -0.4946514, -1.1256299], dtype=float32)"
      ]
     },
     "execution_count": 35,
     "metadata": {},
     "output_type": "execute_result"
    }
   ],
   "source": [
    "weights.flatten()"
   ]
  },
  {
   "cell_type": "markdown",
   "metadata": {
    "colab_type": "text",
    "id": "rxzAQXzXAXUs"
   },
   "source": [
    "## Regularisation"
   ]
  },
  {
   "cell_type": "markdown",
   "metadata": {
    "colab_type": "text",
    "id": "9goHO1rL5GxP"
   },
   "source": [
    "**Question 7:** What happens if we increase the number of hidden nodes in the regression problem above?\n"
   ]
  },
  {
   "cell_type": "markdown",
   "metadata": {
    "colab_type": "text",
    "id": "329M7OXk-nC4"
   },
   "source": [
    "Building a model with 100 hidden nodes:"
   ]
  },
  {
   "cell_type": "code",
   "execution_count": 36,
   "metadata": {
    "colab": {
     "base_uri": "https://localhost:8080/",
     "height": 208
    },
    "colab_type": "code",
    "id": "34x_Z0BQW_Ep",
    "outputId": "c223f278-4bc7-4fe4-ad41-3ed0156439e6"
   },
   "outputs": [
    {
     "name": "stdout",
     "output_type": "stream",
     "text": [
      "_________________________________________________________________\n",
      "Layer (type)                 Output Shape              Param #   \n",
      "=================================================================\n",
      "dense_5 (Dense)              (None, 100)               500       \n",
      "_________________________________________________________________\n",
      "dense_6 (Dense)              (None, 1)                 101       \n",
      "=================================================================\n",
      "Total params: 601\n",
      "Trainable params: 601\n",
      "Non-trainable params: 0\n",
      "_________________________________________________________________\n"
     ]
    }
   ],
   "source": [
    "batch_size = 32\n",
    "epochs = 40\n",
    "n_hidden = 100\n",
    "\n",
    "# reset the model \n",
    "model = Sequential()\n",
    "\n",
    "# HIDDEN LAYER (new this time)\n",
    "model.add(Dense(n_hidden, activation='sigmoid', input_shape=(X_train.shape[1],)))\n",
    "\n",
    "# output layer (same as last time, except now we don't need to specify input_shape)\n",
    "model.add(Dense(1, activation = 'linear'))\n",
    "\n",
    "# Summary \n",
    "model.summary()\n",
    "\n",
    "# compile it \n",
    "model.compile(optimizer='sgd', loss='mse', metrics=['mse'])\n",
    "\n",
    "# fit it\n",
    "trials['mlp_100'] = model.fit(X_train.values, y_train_reg, epochs=epochs, validation_data=(X_val, y_val_reg), verbose=False)"
   ]
  },
  {
   "cell_type": "code",
   "execution_count": 37,
   "metadata": {
    "colab": {
     "base_uri": "https://localhost:8080/",
     "height": 507
    },
    "colab_type": "code",
    "id": "CtAAFCaeXKp_",
    "outputId": "fbd046e2-6e02-4e38-b881-9f710a350d43"
   },
   "outputs": [
    {
     "name": "stdout",
     "output_type": "stream",
     "text": [
      "Linear Regression             : mean_squared_error             = 193.95\n",
      "MLP (5 hidden) Regression     : mean_squared_error             = 184.51\n",
      "MLP (100 hidden) Regression   : mean_squared_error             = 194.43\n",
      "Linear Regression             : val_mean_squared_error         = 214.37\n",
      "MLP (5 hidden) Regression     : val_mean_squared_error         = 211.27\n",
      "MLP (100 hidden) Regression   : val_mean_squared_error         = 214.37\n"
     ]
    },
    {
     "data": {
      "image/png": "[encoded data removed]",
      "text/plain": [
       "<matplotlib.figure.Figure at 0x12674cd68>"
      ]
     },
     "metadata": {},
     "output_type": "display_data"
    }
   ],
   "source": [
    "# Plotting the train and validation errors\n",
    "metrics_to_plot = ['mean_squared_error', 'val_mean_squared_error']\n",
    "fig, axs = plt.subplots(1, 2, figsize=(16, 6))\n",
    "\n",
    "trials_to_plot = [\n",
    "    ('Linear Regression', 'linreg'),\n",
    "    ('MLP (5 hidden) Regression', 'mlp'),\n",
    "    ('MLP (100 hidden) Regression', 'mlp_100')\n",
    "]\n",
    "\n",
    "for ax, metric in zip(axs, metrics_to_plot):\n",
    "    for title, trial_name in trials_to_plot:\n",
    "        h = trials[trial_name].history[metric]\n",
    "        ax.plot(h, marker='.', label=title)\n",
    "        ax.set(xlabel=\"epoch\", ylabel=metric, title=metric)\n",
    "        ax.legend()\n",
    "\n",
    "        print(f\"{title:30s}: {metric:30s} = {h[-1]:.2f}\")\n"
   ]
  },
  {
   "cell_type": "markdown",
   "metadata": {
    "colab_type": "text",
    "id": "gcAslfcfAnH7"
   },
   "source": [
    "**Question 8:** What happens if we increase the number of hidden layers?\n"
   ]
  },
  {
   "cell_type": "markdown",
   "metadata": {
    "colab_type": "text",
    "id": "0F_6ZgUJAsTh"
   },
   "source": [
    "Building a model with 10 hidden layers having 5 units each (You may need to run this on a GPU - Eg. Google Colab)"
   ]
  },
  {
   "cell_type": "code",
   "execution_count": 38,
   "metadata": {},
   "outputs": [
    {
     "name": "stdout",
     "output_type": "stream",
     "text": [
      "_________________________________________________________________\n",
      "Layer (type)                 Output Shape              Param #   \n",
      "=================================================================\n",
      "dense_7 (Dense)              (None, 10)                50        \n",
      "_________________________________________________________________\n",
      "dense_8 (Dense)              (None, 10)                110       \n",
      "_________________________________________________________________\n",
      "dense_9 (Dense)              (None, 10)                110       \n",
      "_________________________________________________________________\n",
      "dense_10 (Dense)             (None, 10)                110       \n",
      "_________________________________________________________________\n",
      "dense_11 (Dense)             (None, 10)                110       \n",
      "_________________________________________________________________\n",
      "dense_12 (Dense)             (None, 10)                110       \n",
      "_________________________________________________________________\n",
      "dense_13 (Dense)             (None, 10)                110       \n",
      "_________________________________________________________________\n",
      "dense_14 (Dense)             (None, 10)                110       \n",
      "_________________________________________________________________\n",
      "dense_15 (Dense)             (None, 10)                110       \n",
      "_________________________________________________________________\n",
      "dense_16 (Dense)             (None, 10)                110       \n",
      "_________________________________________________________________\n",
      "dense_17 (Dense)             (None, 10)                110       \n",
      "_________________________________________________________________\n",
      "dense_18 (Dense)             (None, 1)                 11        \n",
      "=================================================================\n",
      "Total params: 1,161\n",
      "Trainable params: 1,161\n",
      "Non-trainable params: 0\n",
      "_________________________________________________________________\n"
     ]
    }
   ],
   "source": [
    "batch_size = 32\n",
    "epochs = 40\n",
    "n_hidden = 10\n",
    "\n",
    "# reset the model \n",
    "model = Sequential()\n",
    "\n",
    "# HIDDEN LAYER (new this time)\n",
    "model.add(Dense(n_hidden, activation='sigmoid', input_shape=(X_train.shape[1],)))\n",
    "\n",
    "# more hidden layers\n",
    "for layer in range(10):\n",
    "    model.add(Dense(n_hidden, activation = 'sigmoid'))\n",
    "    \n",
    "# output layer (same as last time, except now we don't need to specify input_shape)\n",
    "model.add(Dense(1, activation = 'linear'))    \n",
    "\n",
    "# Summary \n",
    "model.summary()\n",
    "\n",
    "# compile it \n",
    "model.compile(optimizer='sgd', loss='mse', metrics=['mse'])\n",
    "\n",
    "# fit it\n",
    "trials['mlp_5x10'] = model.fit(X_train.values, y_train_reg, epochs=epochs, validation_data=(X_val, y_val_reg), verbose=False)"
   ]
  },
  {
   "cell_type": "code",
   "execution_count": 39,
   "metadata": {},
   "outputs": [
    {
     "name": "stdout",
     "output_type": "stream",
     "text": [
      "Linear Regression             : mean_squared_error             = 193.95\n",
      "MLP (5 hidden) Regression     : mean_squared_error             = 184.51\n",
      "MLP (5 hidden, 10 layers) Regression: mean_squared_error             = 460.75\n",
      "Linear Regression             : val_mean_squared_error         = 214.37\n",
      "MLP (5 hidden) Regression     : val_mean_squared_error         = 211.27\n",
      "MLP (5 hidden, 10 layers) Regression: val_mean_squared_error         = 411.91\n"
     ]
    },
    {
     "data": {
      "image/png": "[encoded data removed]",
      "text/plain": [
       "<matplotlib.figure.Figure at 0x1287a6198>"
      ]
     },
     "metadata": {},
     "output_type": "display_data"
    }
   ],
   "source": [
    "# Plotting the train and validation errors\n",
    "metrics_to_plot = ['mean_squared_error', 'val_mean_squared_error']\n",
    "fig, axs = plt.subplots(1, 2, figsize=(16, 6))\n",
    "\n",
    "trials_to_plot = [\n",
    "    ('Linear Regression', 'linreg'),\n",
    "    ('MLP (5 hidden) Regression', 'mlp'),\n",
    "    ('MLP (5 hidden, 10 layers) Regression', 'mlp_5x10')\n",
    "]\n",
    "\n",
    "for ax, metric in zip(axs, metrics_to_plot):\n",
    "    for title, trial_name in trials_to_plot:\n",
    "        h = trials[trial_name].history[metric]\n",
    "        ax.plot(h, marker='.', label=title)\n",
    "        ax.set(xlabel=\"epoch\", ylabel=metric, title=metric)\n",
    "        ax.legend()\n",
    "\n",
    "        print(f\"{title:30s}: {metric:30s} = {h[-1]:.2f}\")\n"
   ]
  },
  {
   "cell_type": "markdown",
   "metadata": {
    "colab_type": "text",
    "id": "Oj6AMUHzCvh9"
   },
   "source": [
    "From both the above experiments, we can see that NNs can overfit very quickly."
   ]
  },
  {
   "cell_type": "markdown",
   "metadata": {
    "colab_type": "text",
    "id": "7qwhJ8l6DNiC"
   },
   "source": [
    "**Question 9:** Based on the above, what are some obvious methods of regularising NNs?\n",
    "\n",
    "**Ans:** Choosing the right number of hidden layers and hidden nodes! Unfortunately, picking the right number of parameters is a hard problem itself."
   ]
  },
  {
   "cell_type": "markdown",
   "metadata": {
    "colab_type": "text",
    "id": "f4N9elotEDcf"
   },
   "source": [
    "**Question 10:** Does this give you a hint of another method to prevent overfitting?\n",
    "\n",
    "**Ans:** Stopping the process early could likely be helpful. This is known as 'early stopping' and is typically used in combination with other regularisation techniques. As intution suggests, it means 'Stopping the process when the model starts overfitting'."
   ]
  },
  {
   "cell_type": "markdown",
   "metadata": {
    "colab_type": "text",
    "id": "4eK0TdM9ExI5"
   },
   "source": [
    "**Question 11:** Think of how we prevented overfitting and helped regularise parameters in regression. Can you remember any? (Hint: Norms)\n",
    "\n",
    "**Ans:** Using L2 regularisation can be helpful in regularising parameters, like we have observed in regression."
   ]
  },
  {
   "cell_type": "code",
   "execution_count": null,
   "metadata": {
    "colab": {},
    "colab_type": "code",
    "collapsed": true,
    "id": "AUFF76NZtrIQ"
   },
   "outputs": [],
   "source": []
  }
 ],
 "metadata": {
  "accelerator": "GPU",
  "colab": {
   "collapsed_sections": [],
   "name": "Section9_insec.ipynb",
   "provenance": [],
   "version": "0.3.2"
  },
  "kernelspec": {
   "display_name": "Python 3",
   "language": "python",
   "name": "python3"
  },
  "language_info": {
   "codemirror_mode": {
    "name": "ipython",
    "version": 3
   },
   "file_extension": ".py",
   "mimetype": "text/x-python",
   "name": "python",
   "nbconvert_exporter": "python",
   "pygments_lexer": "ipython3",
   "version": "3.6.5"
  }
 },
 "nbformat": 4,
 "nbformat_minor": 1
}
